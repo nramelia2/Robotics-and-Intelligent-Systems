{
  "nbformat": 4,
  "nbformat_minor": 0,
  "metadata": {
    "colab": {
      "provenance": []
    },
    "kernelspec": {
      "name": "python3",
      "display_name": "Python 3"
    },
    "language_info": {
      "name": "python"
    }
  },
  "cells": [
    {
      "cell_type": "code",
      "source": [
        "pip install symforce"
      ],
      "metadata": {
        "colab": {
          "base_uri": "https://localhost:8080/"
        },
        "id": "OyiD0vXwihhI",
        "outputId": "dcb0adc8-b95c-4019-f605-811276f405e3"
      },
      "execution_count": 3,
      "outputs": [
        {
          "output_type": "stream",
          "name": "stdout",
          "text": [
            "Looking in indexes: https://pypi.org/simple, https://us-python.pkg.dev/colab-wheels/public/simple/\n",
            "Requirement already satisfied: symforce in /usr/local/lib/python3.8/dist-packages (0.7.0)\n",
            "Requirement already satisfied: black in /usr/local/lib/python3.8/dist-packages (from symforce) (22.10.0)\n",
            "Requirement already satisfied: scipy in /usr/local/lib/python3.8/dist-packages (from symforce) (1.7.3)\n",
            "Requirement already satisfied: skymarshal==0.7.0 in /usr/local/lib/python3.8/dist-packages (from symforce) (0.7.0)\n",
            "Requirement already satisfied: symforce-sym==0.7.0 in /usr/local/lib/python3.8/dist-packages (from symforce) (0.7.0)\n",
            "Requirement already satisfied: clang-format in /usr/local/lib/python3.8/dist-packages (from symforce) (15.0.4)\n",
            "Requirement already satisfied: jinja2 in /usr/local/lib/python3.8/dist-packages (from symforce) (2.11.3)\n",
            "Requirement already satisfied: sympy~=1.11.1 in /usr/local/lib/python3.8/dist-packages (from symforce) (1.11.1)\n",
            "Requirement already satisfied: numpy in /usr/local/lib/python3.8/dist-packages (from symforce) (1.21.6)\n",
            "Requirement already satisfied: graphviz in /usr/local/lib/python3.8/dist-packages (from symforce) (0.10.1)\n",
            "Requirement already satisfied: ply in /usr/local/lib/python3.8/dist-packages (from skymarshal==0.7.0->symforce) (3.11)\n",
            "Requirement already satisfied: six in /usr/local/lib/python3.8/dist-packages (from skymarshal==0.7.0->symforce) (1.15.0)\n",
            "Requirement already satisfied: argh in /usr/local/lib/python3.8/dist-packages (from skymarshal==0.7.0->symforce) (0.26.2)\n",
            "Requirement already satisfied: mpmath>=0.19 in /usr/local/lib/python3.8/dist-packages (from sympy~=1.11.1->symforce) (1.2.1)\n",
            "Requirement already satisfied: mypy-extensions>=0.4.3 in /usr/local/lib/python3.8/dist-packages (from black->symforce) (0.4.3)\n",
            "Requirement already satisfied: platformdirs>=2 in /usr/local/lib/python3.8/dist-packages (from black->symforce) (2.5.4)\n",
            "Requirement already satisfied: typing-extensions>=3.10.0.0 in /usr/local/lib/python3.8/dist-packages (from black->symforce) (4.1.1)\n",
            "Requirement already satisfied: click>=8.0.0 in /usr/local/lib/python3.8/dist-packages (from black->symforce) (8.1.3)\n",
            "Requirement already satisfied: tomli>=1.1.0 in /usr/local/lib/python3.8/dist-packages (from black->symforce) (2.0.1)\n",
            "Requirement already satisfied: pathspec>=0.9.0 in /usr/local/lib/python3.8/dist-packages (from black->symforce) (0.10.2)\n",
            "Requirement already satisfied: MarkupSafe>=0.23 in /usr/local/lib/python3.8/dist-packages (from jinja2->symforce) (2.0.1)\n"
          ]
        }
      ]
    },
    {
      "cell_type": "code",
      "execution_count": 4,
      "metadata": {
        "id": "tiSBA7o5iH9k"
      },
      "outputs": [],
      "source": [
        "# Setup\n",
        "import symforce\n",
        "\n",
        "symforce.set_symbolic_api(\"sympy\")\n",
        "symforce.set_log_level(\"warning\")\n",
        "\n",
        "from symforce.notebook_util import display\n",
        "import symforce.symbolic as sf\n",
        "from symforce.values import Values\n",
        "from symforce.ops import StorageOps, GroupOps, LieGroupOps"
      ]
    },
    {
      "cell_type": "markdown",
      "source": [
        "### StorageOps\n",
        "#### StorageOps: Data type that can be serialized to and from a vector of scalar quantities.\n",
        "\n",
        "Methods: .storage_dim(), .to_storage(), .from_storage(), .symbolic(), .evalf(), .subs(), .simplify()\n",
        "\n",
        "Storage operations are used extensively for marshalling and for operating on each scalar in a type."
      ],
      "metadata": {
        "id": "GFVuCsMii3bz"
      }
    },
    {
      "cell_type": "code",
      "source": [
        "# Number of scalars used to represent a Pose3 (4 quaternion + 3 position)\n",
        "display(StorageOps.storage_dim(sf.Pose3))"
      ],
      "metadata": {
        "colab": {
          "base_uri": "https://localhost:8080/",
          "height": 37
        },
        "id": "H1n3WTNCi6QB",
        "outputId": "95993c31-fb77-4bc9-83ac-ca3e46875143"
      },
      "execution_count": 5,
      "outputs": [
        {
          "output_type": "display_data",
          "data": {
            "text/plain": [
              "7"
            ],
            "image/png": "[encoded data removed]",
            "text/latex": "$\\displaystyle 7$"
          },
          "metadata": {}
        }
      ]
    },
    {
      "cell_type": "code",
      "source": [
        "# Because we are using concepts, we can operate on types that aren't subtypes of symforce\n",
        "display(StorageOps.storage_dim(float))"
      ],
      "metadata": {
        "colab": {
          "base_uri": "https://localhost:8080/",
          "height": 37
        },
        "id": "D0uocC65i9Fi",
        "outputId": "35e53506-effa-4e18-8969-dd55186ac511"
      },
      "execution_count": 6,
      "outputs": [
        {
          "output_type": "display_data",
          "data": {
            "text/plain": [
              "1"
            ],
            "image/png": "[encoded data removed]",
            "text/latex": "$\\displaystyle 1$"
          },
          "metadata": {}
        }
      ]
    },
    {
      "cell_type": "code",
      "source": [
        "# Element-wise operations on lists of objects\n",
        "display(StorageOps.storage_dim([sf.Pose3, sf.Pose3]))"
      ],
      "metadata": {
        "colab": {
          "base_uri": "https://localhost:8080/",
          "height": 37
        },
        "id": "XAD_oLSqjBpE",
        "outputId": "08a01246-2268-400d-cf35-d0897d59b2ff"
      },
      "execution_count": 7,
      "outputs": [
        {
          "output_type": "display_data",
          "data": {
            "text/plain": [
              "14"
            ],
            "image/png": "[encoded data removed]",
            "text/latex": "$\\displaystyle 14$"
          },
          "metadata": {}
        }
      ]
    },
    {
      "cell_type": "code",
      "source": [
        "# Element-wise operations on Values object with multiple types of elements\n",
        "values = Values(\n",
        "    pose=sf.Pose3(),\n",
        "    scalar=sf.Symbol(\"x\"),\n",
        ")\n",
        "display(StorageOps.storage_dim(values))  # 4 quaternion + 3 position + 1 scalar"
      ],
      "metadata": {
        "colab": {
          "base_uri": "https://localhost:8080/",
          "height": 37
        },
        "id": "f0dlhyEhjFEu",
        "outputId": "20d9f2fe-a502-4ab9-9930-a87d3cc5ae82"
      },
      "execution_count": 8,
      "outputs": [
        {
          "output_type": "display_data",
          "data": {
            "text/plain": [
              "8"
            ],
            "image/png": "[encoded data removed]",
            "text/latex": "$\\displaystyle 8$"
          },
          "metadata": {}
        }
      ]
    },
    {
      "cell_type": "code",
      "source": [
        "# Serialize scalar\n",
        "display(StorageOps.to_storage(5))"
      ],
      "metadata": {
        "colab": {
          "base_uri": "https://localhost:8080/",
          "height": 37
        },
        "id": "NTYTIwTbjHjo",
        "outputId": "97de9a03-d2db-4c68-d9e0-3b2defc26f55"
      },
      "execution_count": 9,
      "outputs": [
        {
          "output_type": "display_data",
          "data": {
            "text/plain": [
              "[5]"
            ],
            "image/png": "[encoded data removed]",
            "text/latex": "$\\displaystyle \\left[ 5\\right]$"
          },
          "metadata": {}
        }
      ]
    },
    {
      "cell_type": "code",
      "source": [
        "# Serialize vector/matrix\n",
        "display(StorageOps.to_storage(sf.V3(sf.Symbol(\"x\"), 5.2, sf.sqrt(5))))"
      ],
      "metadata": {
        "colab": {
          "base_uri": "https://localhost:8080/",
          "height": 47
        },
        "id": "TOw1ZF7bjJ0Z",
        "outputId": "26f7104c-69dd-4b01-c9b1-20736aaacfed"
      },
      "execution_count": 10,
      "outputs": [
        {
          "output_type": "display_data",
          "data": {
            "text/plain": [
              "[x, 5.2, √5]"
            ],
            "image/png": "[encoded data removed]",
            "text/latex": "$\\displaystyle \\left[ x, \\  5.2, \\  \\sqrt{5}\\right]$"
          },
          "metadata": {}
        }
      ]
    },
    {
      "cell_type": "code",
      "source": [
        "# Serialize geometric type and reconstruct\n",
        "T = sf.Pose3.symbolic(\"T\")\n",
        "T_serialized = StorageOps.to_storage(T)\n",
        "T_recovered = StorageOps.from_storage(sf.Pose3, T_serialized)\n",
        "display(T_serialized)\n",
        "display(T_recovered)"
      ],
      "metadata": {
        "colab": {
          "base_uri": "https://localhost:8080/",
          "height": 56
        },
        "id": "CQFFZ0l8jQzO",
        "outputId": "7d24fda1-6009-4408-fdac-fdebb68bf180"
      },
      "execution_count": 11,
      "outputs": [
        {
          "output_type": "display_data",
          "data": {
            "text/plain": [
              "[T.Rₓ, T.R_y, T.R_z, T.R_w, T.t0, T.t1, T.t2]"
            ],
            "image/png": "[encoded data removed]",
            "text/latex": "$\\displaystyle \\left[ T.R_{x}, \\  T.R_{y}, \\  T.R_{z}, \\  T.R_{w}, \\  T.t0, \\  T.t1, \\  T.t2\\right]$"
          },
          "metadata": {}
        },
        {
          "output_type": "display_data",
          "data": {
            "text/plain": [
              "<Pose3 R=<Rot3 <Q xyzw=[T.R_x, T.R_y, T.R_z, T.R_w]>>, t=(T.t0, T.t1, T.t2)>"
            ]
          },
          "metadata": {}
        }
      ]
    },
    {
      "cell_type": "markdown",
      "source": [
        "### GroupOps\n",
        "#### GroupOps: Mathematical group that implements closure, associativity, identity and invertibility.\n",
        "\n",
        "Methods: .identity(), .inverse(), .compose(), .between()\n",
        "\n",
        "Group operations provide the core methods to compare and combine types."
      ],
      "metadata": {
        "id": "wkajdyeLjWVJ"
      }
    },
    {
      "cell_type": "code",
      "source": [
        "# Identity of a pose\n",
        "display(GroupOps.identity(sf.Pose3))"
      ],
      "metadata": {
        "colab": {
          "base_uri": "https://localhost:8080/",
          "height": 34
        },
        "id": "uA8foK8CjRCR",
        "outputId": "271b16e4-624f-439d-be27-458c931ea5b5"
      },
      "execution_count": 12,
      "outputs": [
        {
          "output_type": "display_data",
          "data": {
            "text/plain": [
              "<Pose3 R=<Rot3 <Q xyzw=[0, 0, 0, 1]>>, t=(0, 0, 0)>"
            ]
          },
          "metadata": {}
        }
      ]
    },
    {
      "cell_type": "code",
      "source": [
        "# Identity of a scalar (under addition)\n",
        "display(GroupOps.identity(float))"
      ],
      "metadata": {
        "colab": {
          "base_uri": "https://localhost:8080/",
          "height": 37
        },
        "id": "6_W9hoJxjcFg",
        "outputId": "962fbccc-2692-42e1-908b-f38eed4ea97f"
      },
      "execution_count": 13,
      "outputs": [
        {
          "output_type": "display_data",
          "data": {
            "text/plain": [
              "0.0"
            ],
            "image/png": "[encoded data removed]",
            "text/latex": "$\\displaystyle 0.0$"
          },
          "metadata": {}
        }
      ]
    },
    {
      "cell_type": "code",
      "source": [
        "# Inverse of a vector\n",
        "display(GroupOps.inverse(sf.V3(1.2, -3, 2)).T)"
      ],
      "metadata": {
        "colab": {
          "base_uri": "https://localhost:8080/",
          "height": 38
        },
        "id": "PLxipzUZjeKH",
        "outputId": "d40ad03f-46af-49f2-cb62-e5d3619fa8da"
      },
      "execution_count": 14,
      "outputs": [
        {
          "output_type": "display_data",
          "data": {
            "text/plain": [
              "[-1.2  3  -2]"
            ],
            "text/latex": "$\\displaystyle \\left[\\begin{matrix}-1.2 & 3 & -2\\end{matrix}\\right]$"
          },
          "metadata": {}
        }
      ]
    },
    {
      "cell_type": "code",
      "source": [
        "# Compose two vectors (under addition)\n",
        "display(GroupOps.compose(sf.V2(1, 2), sf.V2(3, -5)))"
      ],
      "metadata": {
        "colab": {
          "base_uri": "https://localhost:8080/",
          "height": 58
        },
        "id": "SaPZwvWljgBv",
        "outputId": "c9d9d8da-bcba-4e37-962b-82e30c550461"
      },
      "execution_count": 15,
      "outputs": [
        {
          "output_type": "display_data",
          "data": {
            "text/plain": [
              "⎡4 ⎤\n",
              "⎢  ⎥\n",
              "⎣-3⎦"
            ],
            "text/latex": "$\\displaystyle \\left[\\begin{matrix}4\\\\-3\\end{matrix}\\right]$"
          },
          "metadata": {}
        }
      ]
    },
    {
      "cell_type": "code",
      "source": [
        "# Compose a rotation and its inverse to get identity\n",
        "R1 = sf.Rot3.from_angle_axis(\n",
        "    angle=sf.Symbol(\"theta1\"),\n",
        "    axis=sf.V3(0, 0, 1),\n",
        ")\n",
        "display(StorageOps.simplify(GroupOps.compose(R1, R1.inverse()).simplify()))"
      ],
      "metadata": {
        "colab": {
          "base_uri": "https://localhost:8080/",
          "height": 34
        },
        "id": "GJgE8y_zjjq2",
        "outputId": "219cd462-15fe-4fe2-cbf3-5fb5eda25e09"
      },
      "execution_count": 16,
      "outputs": [
        {
          "output_type": "display_data",
          "data": {
            "text/plain": [
              "<Rot3 <Q xyzw=[0, 0, 0, 1]>>"
            ]
          },
          "metadata": {}
        }
      ]
    },
    {
      "cell_type": "code",
      "source": [
        "# Relative rotation using `.between()`\n",
        "R2 = sf.Rot3.from_angle_axis(\n",
        "    angle=sf.Symbol(\"theta2\"),\n",
        "    axis=sf.V3(0, 0, 1),\n",
        ")\n",
        "R_delta = GroupOps.between(R1, R2)\n",
        "display(R2)\n",
        "display(StorageOps.simplify(GroupOps.compose(R1, R_delta)))"
      ],
      "metadata": {
        "colab": {
          "base_uri": "https://localhost:8080/",
          "height": 52
        },
        "id": "Il5knxR6jj1Q",
        "outputId": "4fa8ae75-c049-4199-957e-393f3e08c705"
      },
      "execution_count": 17,
      "outputs": [
        {
          "output_type": "display_data",
          "data": {
            "text/plain": [
              "<Rot3 <Q xyzw=[0, 0, sin(theta2/2), cos(theta2/2)]>>"
            ]
          },
          "metadata": {}
        },
        {
          "output_type": "display_data",
          "data": {
            "text/plain": [
              "<Rot3 <Q xyzw=[0, 0, sin(theta2/2), cos(theta2/2)]>>"
            ]
          },
          "metadata": {}
        }
      ]
    },
    {
      "cell_type": "markdown",
      "source": [
        "### LieGroupOps\n",
        "LieGroupOps: Group that is also a differentiable manifold, such that calculus applies.\n",
        "\n",
        "Methods: .tangent_dim(), .from_tangent(), to_tangent(), .retract(), .local_coordinates(), .storage_D_tangent()"
      ],
      "metadata": {
        "id": "ZERUjq0Hjozx"
      }
    },
    {
      "cell_type": "code",
      "source": [
        "# Underlying dimension of a 3D rotation's tangent space\n",
        "display(LieGroupOps.tangent_dim(sf.Rot3))"
      ],
      "metadata": {
        "colab": {
          "base_uri": "https://localhost:8080/",
          "height": 37
        },
        "id": "TBHARs_hjqvA",
        "outputId": "6473b5bc-1540-4972-e99f-e3dd197fb53e"
      },
      "execution_count": 18,
      "outputs": [
        {
          "output_type": "display_data",
          "data": {
            "text/plain": [
              "3"
            ],
            "image/png": "[encoded data removed]",
            "text/latex": "$\\displaystyle 3$"
          },
          "metadata": {}
        }
      ]
    },
    {
      "cell_type": "code",
      "source": [
        "# Exponential map (tangent space vector wrt identity element) for a 2D rotation\n",
        "angle = sf.Symbol(\"theta\")\n",
        "rot2 = LieGroupOps.from_tangent(sf.Rot2, [angle])\n",
        "display(rot2.to_rotation_matrix())"
      ],
      "metadata": {
        "colab": {
          "base_uri": "https://localhost:8080/",
          "height": 58
        },
        "id": "U55gpkZ3juCb",
        "outputId": "5a405f19-a989-47c8-c3a4-6009dfdb774e"
      },
      "execution_count": 19,
      "outputs": [
        {
          "output_type": "display_data",
          "data": {
            "text/plain": [
              "⎡cos(θ)  -sin(θ)⎤\n",
              "⎢               ⎥\n",
              "⎣sin(θ)  cos(θ) ⎦"
            ],
            "text/latex": "$\\displaystyle \\left[\\begin{matrix}\\cos{\\left(\\theta \\right)} & - \\sin{\\left(\\theta \\right)}\\\\\\sin{\\left(\\theta \\right)} & \\cos{\\left(\\theta \\right)}\\end{matrix}\\right]$"
          },
          "metadata": {}
        }
      ]
    },
    {
      "cell_type": "code",
      "source": [
        "# Logarithmic map (tangent space wrt identity element -> element) of the rotation\n",
        "display(LieGroupOps.to_tangent(rot2))"
      ],
      "metadata": {
        "colab": {
          "base_uri": "https://localhost:8080/",
          "height": 38
        },
        "id": "WTljVX-bjv_p",
        "outputId": "7377b210-83c3-4e5c-c975-3a36b4ff4d43"
      },
      "execution_count": 20,
      "outputs": [
        {
          "output_type": "display_data",
          "data": {
            "text/plain": [
              "[atan2(sin(θ), cos(θ))]"
            ],
            "image/png": "[encoded data removed]",
            "text/latex": "$\\displaystyle \\left[ \\operatorname{atan}_{2}{\\left(\\sin{\\left(\\theta \\right)},\\cos{\\left(\\theta \\right)} \\right)}\\right]$"
          },
          "metadata": {}
        }
      ]
    },
    {
      "cell_type": "code",
      "source": [
        "# Exponential map of a vector type is a no-op\n",
        "display(LieGroupOps.from_tangent(sf.V5(), [1, 2, 3, 4, 5]).T)"
      ],
      "metadata": {
        "colab": {
          "base_uri": "https://localhost:8080/",
          "height": 38
        },
        "id": "D2tF4ZukjyCu",
        "outputId": "38e71638-eec6-498c-d02d-b065068b8bd3"
      },
      "execution_count": 21,
      "outputs": [
        {
          "output_type": "display_data",
          "data": {
            "text/plain": [
              "[1  2  3  4  5]"
            ],
            "text/latex": "$\\displaystyle \\left[\\begin{matrix}1 & 2 & 3 & 4 & 5\\end{matrix}\\right]$"
          },
          "metadata": {}
        }
      ]
    },
    {
      "cell_type": "code",
      "source": [
        "# Retract perturbs the given element in the tangent space and returns the\n",
        "# updated element\n",
        "rot2_perturbed = LieGroupOps.retract(rot2, [sf.Symbol(\"delta\")])\n",
        "display(rot2_perturbed.to_rotation_matrix())"
      ],
      "metadata": {
        "colab": {
          "base_uri": "https://localhost:8080/",
          "height": 58
        },
        "id": "ptDXDg0Yj0uU",
        "outputId": "cec3e51d-0518-4a87-9cf5-4729967ab4a9"
      },
      "execution_count": 22,
      "outputs": [
        {
          "output_type": "display_data",
          "data": {
            "text/plain": [
              "⎡-sin(δ)⋅sin(θ) + cos(δ)⋅cos(θ)  -sin(δ)⋅cos(θ) - sin(θ)⋅cos(δ)⎤\n",
              "⎢                                                              ⎥\n",
              "⎣sin(δ)⋅cos(θ) + sin(θ)⋅cos(δ)   -sin(δ)⋅sin(θ) + cos(δ)⋅cos(θ)⎦"
            ],
            "text/latex": "$\\displaystyle \\left[\\begin{matrix}- \\sin{\\left(\\delta \\right)} \\sin{\\left(\\theta \\right)} + \\cos{\\left(\\delta \\right)} \\cos{\\left(\\theta \\right)} & - \\sin{\\left(\\delta \\right)} \\cos{\\left(\\theta \\right)} - \\sin{\\left(\\theta \\right)} \\cos{\\left(\\delta \\right)}\\\\\\sin{\\left(\\delta \\right)} \\cos{\\left(\\theta \\right)} + \\sin{\\left(\\theta \\right)} \\cos{\\left(\\delta \\right)} & - \\sin{\\left(\\delta \\right)} \\sin{\\left(\\theta \\right)} + \\cos{\\left(\\delta \\right)} \\cos{\\left(\\theta \\right)}\\end{matrix}\\right]$"
          },
          "metadata": {}
        }
      ]
    },
    {
      "cell_type": "code",
      "source": [
        "# Local coordinates compute the tangent space perturbation between one element\n",
        "# and another\n",
        "display(StorageOps.simplify(LieGroupOps.local_coordinates(rot2, rot2_perturbed)))"
      ],
      "metadata": {
        "colab": {
          "base_uri": "https://localhost:8080/",
          "height": 38
        },
        "id": "TMTkgc7Oj2qB",
        "outputId": "046aeb6d-92b1-493c-c77c-edceb01fac31"
      },
      "execution_count": 23,
      "outputs": [
        {
          "output_type": "display_data",
          "data": {
            "text/plain": [
              "[atan2(sin(δ), cos(δ))]"
            ],
            "image/png": "[encoded data removed]",
            "text/latex": "$\\displaystyle \\left[ \\operatorname{atan}_{2}{\\left(\\sin{\\left(\\delta \\right)},\\cos{\\left(\\delta \\right)} \\right)}\\right]$"
          },
          "metadata": {}
        }
      ]
    },
    {
      "cell_type": "code",
      "source": [
        "# storage_D_tangent computes the jacobian of the storage space of an object with\n",
        "# respect to the tangent space around the element.\n",
        "\n",
        "# A 2D rotation is represented by a complex number, so storage_D_tangent\n",
        "# represents how that complex number will change given an infinitesimal\n",
        "# perturbation in the tangent space\n",
        "display(LieGroupOps.storage_D_tangent(rot2))"
      ],
      "metadata": {
        "id": "M8okj-PAj4yj",
        "outputId": "45ba8483-eb61-49df-8cd1-3706e00ad9b5",
        "colab": {
          "base_uri": "https://localhost:8080/",
          "height": 58
        }
      },
      "execution_count": 24,
      "outputs": [
        {
          "output_type": "display_data",
          "data": {
            "text/plain": [
              "⎡-sin(θ)⎤\n",
              "⎢       ⎥\n",
              "⎣cos(θ) ⎦"
            ],
            "text/latex": "$\\displaystyle \\left[\\begin{matrix}- \\sin{\\left(\\theta \\right)}\\\\\\cos{\\left(\\theta \\right)}\\end{matrix}\\right]$"
          },
          "metadata": {}
        }
      ]
    }
  ]
}