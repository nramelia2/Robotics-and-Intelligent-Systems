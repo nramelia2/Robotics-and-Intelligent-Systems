{
  "nbformat": 4,
  "nbformat_minor": 0,
  "metadata": {
    "colab": {
      "provenance": []
    },
    "kernelspec": {
      "name": "python3",
      "display_name": "Python 3"
    },
    "language_info": {
      "name": "python"
    }
  },
  "cells": [
    {
      "cell_type": "code",
      "execution_count": 2,
      "metadata": {
        "colab": {
          "base_uri": "https://localhost:8080/"
        },
        "id": "UDx1kO1SkGyb",
        "outputId": "5e3865db-e3eb-4d29-b84c-f8662865b206"
      },
      "outputs": [
        {
          "output_type": "stream",
          "name": "stdout",
          "text": [
            "Looking in indexes: https://pypi.org/simple, https://us-python.pkg.dev/colab-wheels/public/simple/\n",
            "Requirement already satisfied: symforce in /usr/local/lib/python3.8/dist-packages (0.7.0)\n",
            "Requirement already satisfied: symforce-sym==0.7.0 in /usr/local/lib/python3.8/dist-packages (from symforce) (0.7.0)\n",
            "Requirement already satisfied: scipy in /usr/local/lib/python3.8/dist-packages (from symforce) (1.7.3)\n",
            "Requirement already satisfied: jinja2 in /usr/local/lib/python3.8/dist-packages (from symforce) (2.11.3)\n",
            "Requirement already satisfied: skymarshal==0.7.0 in /usr/local/lib/python3.8/dist-packages (from symforce) (0.7.0)\n",
            "Requirement already satisfied: numpy in /usr/local/lib/python3.8/dist-packages (from symforce) (1.21.6)\n",
            "Requirement already satisfied: clang-format in /usr/local/lib/python3.8/dist-packages (from symforce) (15.0.4)\n",
            "Requirement already satisfied: sympy~=1.11.1 in /usr/local/lib/python3.8/dist-packages (from symforce) (1.11.1)\n",
            "Requirement already satisfied: graphviz in /usr/local/lib/python3.8/dist-packages (from symforce) (0.10.1)\n",
            "Requirement already satisfied: black in /usr/local/lib/python3.8/dist-packages (from symforce) (22.10.0)\n",
            "Requirement already satisfied: ply in /usr/local/lib/python3.8/dist-packages (from skymarshal==0.7.0->symforce) (3.11)\n",
            "Requirement already satisfied: six in /usr/local/lib/python3.8/dist-packages (from skymarshal==0.7.0->symforce) (1.15.0)\n",
            "Requirement already satisfied: argh in /usr/local/lib/python3.8/dist-packages (from skymarshal==0.7.0->symforce) (0.26.2)\n",
            "Requirement already satisfied: mpmath>=0.19 in /usr/local/lib/python3.8/dist-packages (from sympy~=1.11.1->symforce) (1.2.1)\n",
            "Requirement already satisfied: platformdirs>=2 in /usr/local/lib/python3.8/dist-packages (from black->symforce) (2.5.4)\n",
            "Requirement already satisfied: click>=8.0.0 in /usr/local/lib/python3.8/dist-packages (from black->symforce) (8.1.3)\n",
            "Requirement already satisfied: tomli>=1.1.0 in /usr/local/lib/python3.8/dist-packages (from black->symforce) (2.0.1)\n",
            "Requirement already satisfied: typing-extensions>=3.10.0.0 in /usr/local/lib/python3.8/dist-packages (from black->symforce) (4.1.1)\n",
            "Requirement already satisfied: mypy-extensions>=0.4.3 in /usr/local/lib/python3.8/dist-packages (from black->symforce) (0.4.3)\n",
            "Requirement already satisfied: pathspec>=0.9.0 in /usr/local/lib/python3.8/dist-packages (from black->symforce) (0.10.2)\n",
            "Requirement already satisfied: MarkupSafe>=0.23 in /usr/local/lib/python3.8/dist-packages (from jinja2->symforce) (2.0.1)\n"
          ]
        }
      ],
      "source": [
        "pip install symforce"
      ]
    },
    {
      "cell_type": "code",
      "source": [
        "# Setup\n",
        "import symforce\n",
        "\n",
        "symforce.set_symbolic_api(\"sympy\")\n",
        "symforce.set_log_level(\"warning\")\n",
        "\n",
        "from symforce.notebook_util import display\n",
        "import symforce.symbolic as sf"
      ],
      "metadata": {
        "id": "aAQo7RU5kbVP"
      },
      "execution_count": 3,
      "outputs": []
    },
    {
      "cell_type": "code",
      "source": [
        "# creating a linear camera calibration object :\n",
        "linear_camera_cal = sf.LinearCameraCal.symbolic(\"cal\")\n",
        "display(linear_camera_cal)"
      ],
      "metadata": {
        "colab": {
          "base_uri": "https://localhost:8080/",
          "height": 86
        },
        "id": "A6JvzkVmkJjS",
        "outputId": "2526c376-83bc-4662-d4ac-f89d1100974a"
      },
      "execution_count": 5,
      "outputs": [
        {
          "output_type": "display_data",
          "data": {
            "text/plain": [
              "<LinearCameraCal\n",
              "  focal_length=[cal.f_x, cal.f_y],\n",
              "  principal_point=[cal.c_x, cal.c_y],\n",
              "  distortion_coeffs=[]>"
            ]
          },
          "metadata": {}
        }
      ]
    },
    {
      "cell_type": "code",
      "source": [
        "# deproject points written in the camera frame as so:\n",
        "camera_point = sf.V3.symbolic(\"p\")\n",
        "camera_ray, _ = linear_camera_cal.camera_ray_from_pixel(camera_point)\n",
        "display(camera_ray)"
      ],
      "metadata": {
        "colab": {
          "base_uri": "https://localhost:8080/",
          "height": 88
        },
        "id": "7o8fINvdkt9D",
        "outputId": "14e32e74-c30d-4859-f3b1-7a26259c4f04"
      },
      "execution_count": 6,
      "outputs": [
        {
          "output_type": "display_data",
          "data": {
            "text/plain": [
              "⎡-cal.cₓ + p₀ ⎤\n",
              "⎢──────────── ⎥\n",
              "⎢   cal.fₓ    ⎥\n",
              "⎢             ⎥\n",
              "⎢-cal.c_y + p₁⎥\n",
              "⎢─────────────⎥\n",
              "⎢   cal.f_y   ⎥\n",
              "⎢             ⎥\n",
              "⎣      1      ⎦"
            ],
            "text/latex": "$\\displaystyle \\left[\\begin{matrix}\\frac{- cal.c_{x} + p_{0}}{cal.f_{x}}\\\\\\frac{- cal.c_{y} + p_{1}}{cal.f_{y}}\\\\1\\end{matrix}\\right]$"
          },
          "metadata": {}
        }
      ]
    },
    {
      "cell_type": "code",
      "source": [
        "camera_point_reprojected, _ = linear_camera_cal.pixel_from_camera_point(\n",
        "    camera_ray,\n",
        ")\n",
        "display(camera_point_reprojected)"
      ],
      "metadata": {
        "colab": {
          "base_uri": "https://localhost:8080/",
          "height": 58
        },
        "id": "wt3Ygg8JkymS",
        "outputId": "09c729c2-ff0f-4e58-c902-14429799acfc"
      },
      "execution_count": 7,
      "outputs": [
        {
          "output_type": "display_data",
          "data": {
            "text/plain": [
              "⎡p₀⎤\n",
              "⎢  ⎥\n",
              "⎣p₁⎦"
            ],
            "text/latex": "$\\displaystyle \\left[\\begin{matrix}p_{0}\\\\p_{1}\\end{matrix}\\right]$"
          },
          "metadata": {}
        }
      ]
    },
    {
      "cell_type": "code",
      "source": [
        "# using camera calibration objects, can create cameras with additional parameters, such as an image size:\n",
        "linear_camera = sf.Camera(\n",
        "    calibration=sf.LinearCameraCal(\n",
        "        focal_length=(440, 400),\n",
        "        principal_point=(320, 240),\n",
        "    ),\n",
        "    image_size=(640, 480),\n",
        ")\n",
        "display(linear_camera)"
      ],
      "metadata": {
        "colab": {
          "base_uri": "https://localhost:8080/",
          "height": 121
        },
        "id": "m7iFZw9Qk1jp",
        "outputId": "79a40061-f09e-4ca4-8c64-87515ad74181"
      },
      "execution_count": 9,
      "outputs": [
        {
          "output_type": "display_data",
          "data": {
            "text/plain": [
              "<Camera\n",
              "  CameraCal=<LinearCameraCal\n",
              "  focal_length=[440, 400],\n",
              "  principal_point=[320, 240],\n",
              "  distortion_coeffs=[]>\n",
              "  image_size=[640, 480]>"
            ]
          },
          "metadata": {}
        }
      ]
    },
    {
      "cell_type": "markdown",
      "source": [
        "### When projecting points into the image frame, can check whether the resulting point is in the bounds determined by image_size:"
      ],
      "metadata": {
        "id": "wAC1PFtrlFBV"
      }
    },
    {
      "cell_type": "code",
      "source": [
        "point_in_FOV = sf.V3(0, 0, 1)\n",
        "point_outside_FOV = sf.V3(100, 0, 1)\n",
        "for point in (point_in_FOV, point_outside_FOV):\n",
        "    pixel, is_valid = linear_camera.pixel_from_camera_point(point)\n",
        "    print(\n",
        "        \"point={} -> pixel={}, is_valid={}\".format(\n",
        "            point.to_storage(),\n",
        "            pixel.to_storage(),\n",
        "            is_valid,\n",
        "        )\n",
        "    )"
      ],
      "metadata": {
        "colab": {
          "base_uri": "https://localhost:8080/"
        },
        "id": "KNX9kAMjlM60",
        "outputId": "28b7311c-1d01-4997-d342-3fafb1a94e0e"
      },
      "execution_count": 10,
      "outputs": [
        {
          "output_type": "stream",
          "name": "stdout",
          "text": [
            "point=[0, 0, 1] -> pixel=[320, 240], is_valid=1\n",
            "point=[100, 0, 1] -> pixel=[44320, 240], is_valid=0\n"
          ]
        }
      ]
    },
    {
      "cell_type": "code",
      "source": [
        "# create a camera with a given pose:\n",
        "linear_posed_camera = sf.PosedCamera(\n",
        "    pose=sf.Pose3(\n",
        "        # camera is spun 180 degrees about y-axis\n",
        "        R=sf.Rot3.from_yaw_pitch_roll(0, sf.pi, 0),\n",
        "        t=sf.V3(),\n",
        "    ),\n",
        "    calibration=linear_camera.calibration,\n",
        "    image_size=(640, 480),\n",
        ")\n",
        "display(linear_posed_camera)"
      ],
      "metadata": {
        "colab": {
          "base_uri": "https://localhost:8080/",
          "height": 156
        },
        "id": "tHNAzPnalRMI",
        "outputId": "2680b20d-6b6d-4df2-d8e6-4ed9e3f57bb9"
      },
      "execution_count": 11,
      "outputs": [
        {
          "output_type": "display_data",
          "data": {
            "text/plain": [
              "<PosedCamera\n",
              "  Pose=<Pose3 R=<Rot3 <Q xyzw=[0, 1, 0, 0]>>, t=(0, 0, 0)>\n",
              "  Camera=<PosedCamera\n",
              "  CameraCal=<LinearCameraCal\n",
              "  focal_length=[440, 400],\n",
              "  principal_point=[320, 240],\n",
              "  distortion_coeffs=[]>\n",
              "  image_size=[640, 480]>>"
            ]
          },
          "metadata": {}
        }
      ]
    },
    {
      "cell_type": "code",
      "source": [
        "# the given pose can be used to transform points between a global frame and the image frame:\n",
        "global_point = sf.V3(0, 0, -1)\n",
        "print(\n",
        "    \"point in global coordinates={} (in camera coordinates={})\".format(\n",
        "        global_point.to_storage(),\n",
        "        (linear_posed_camera.pose * global_point).to_storage(),\n",
        "    )\n",
        ")\n",
        "\n",
        "pixel, is_valid = linear_posed_camera.pixel_from_global_point(global_point)\n",
        "print(\n",
        "    \"global_point={} -> pixel={}, is_valid={}\".format(\n",
        "        global_point.to_storage(), pixel.to_storage(), is_valid\n",
        "    )\n",
        ")"
      ],
      "metadata": {
        "colab": {
          "base_uri": "https://localhost:8080/"
        },
        "id": "zqfZjjdplcCN",
        "outputId": "4c8a55ea-f88a-4675-af7a-eafac3701070"
      },
      "execution_count": 12,
      "outputs": [
        {
          "output_type": "stream",
          "name": "stdout",
          "text": [
            "point in global coordinates=[0, 0, -1] (in camera coordinates=[0, 0, 1])\n",
            "global_point=[0, 0, -1] -> pixel=[320, 240], is_valid=1\n"
          ]
        }
      ]
    },
    {
      "cell_type": "code",
      "source": [
        "# can also transform points in pixel coordinates back into the global frame (given a range):\n",
        "range_to_point = (global_point - linear_posed_camera.pose.t).norm()\n",
        "global_point_reprojected, is_valid = linear_posed_camera.global_point_from_pixel(\n",
        "    pixel, range_to_point=range_to_point\n",
        ")\n",
        "display(global_point_reprojected)"
      ],
      "metadata": {
        "colab": {
          "base_uri": "https://localhost:8080/",
          "height": 78
        },
        "id": "yz5ndtk9lkq9",
        "outputId": "5356f5bb-68dd-48ca-bd95-0b8d664f3ddd"
      },
      "execution_count": 13,
      "outputs": [
        {
          "output_type": "display_data",
          "data": {
            "text/plain": [
              "⎡ 0  ⎤\n",
              "⎢    ⎥\n",
              "⎢ 0  ⎥\n",
              "⎢    ⎥\n",
              "⎣-1.0⎦"
            ],
            "text/latex": "$\\displaystyle \\left[\\begin{matrix}0\\\\0\\\\-1.0\\end{matrix}\\right]$"
          },
          "metadata": {}
        }
      ]
    },
    {
      "cell_type": "markdown",
      "source": [
        "### Can warp points between two posed cameras given the location of the pixel in the source camera, the inverse range to the point, and the target camera to warp the point into."
      ],
      "metadata": {
        "id": "CTj4zYF3lpYX"
      }
    },
    {
      "cell_type": "code",
      "source": [
        "# Perturb second camera slightly from first (small angular change in roll)\n",
        "perturbed_rotation = linear_posed_camera.pose.R * sf.Rot3.from_yaw_pitch_roll(0, 0, 0.5)\n",
        "target_posed_cam = sf.PosedCamera(\n",
        "    pose=sf.Pose3(R=perturbed_rotation, t=sf.V3()),\n",
        "    calibration=linear_camera.calibration,\n",
        ")\n",
        "# Warp pixel from source camera into target camera given inverse range\n",
        "target_pixel, is_valid = linear_posed_camera.warp_pixel(\n",
        "    pixel=sf.V2(320, 240),\n",
        "    inverse_range=1.0,\n",
        "    target_cam=target_posed_cam,\n",
        ")\n",
        "display(target_pixel)"
      ],
      "metadata": {
        "colab": {
          "base_uri": "https://localhost:8080/",
          "height": 58
        },
        "id": "vUv0LdeGlsua",
        "outputId": "ec90a2f0-4bcb-43d2-ff6b-76652c39ac8f"
      },
      "execution_count": 14,
      "outputs": [
        {
          "output_type": "display_data",
          "data": {
            "text/plain": [
              "⎡      320       ⎤\n",
              "⎢                ⎥\n",
              "⎣458.520995937516⎦"
            ],
            "text/latex": "$\\displaystyle \\left[\\begin{matrix}320\\\\458.520995937516\\end{matrix}\\right]$"
          },
          "metadata": {}
        }
      ]
    },
    {
      "cell_type": "code",
      "source": [
        "# In the examples above used a linear calibration, but can use other types of calibrations as well:\n",
        "atan_cam = sf.ATANCameraCal(\n",
        "    focal_length=[380.0, 380.0],\n",
        "    principal_point=[320.0, 240.0],\n",
        "    omega=0.35,\n",
        ")\n",
        "camera_ray, is_valid = atan_cam.camera_ray_from_pixel(sf.V2(50.0, 50.0))\n",
        "display(camera_ray)\n",
        "pixel, is_valid = atan_cam.pixel_from_camera_point(camera_ray)\n",
        "display(pixel)"
      ],
      "metadata": {
        "colab": {
          "base_uri": "https://localhost:8080/",
          "height": 119
        },
        "id": "tYkNxxuPl28L",
        "outputId": "665ede5e-5185-4be4-b985-73dda57ea002"
      },
      "execution_count": 15,
      "outputs": [
        {
          "output_type": "display_data",
          "data": {
            "text/plain": [
              "⎡-0.72576759882138 ⎤\n",
              "⎢                  ⎥\n",
              "⎢-0.510725347318749⎥\n",
              "⎢                  ⎥\n",
              "⎣        1         ⎦"
            ],
            "text/latex": "$\\displaystyle \\left[\\begin{matrix}-0.72576759882138\\\\-0.510725347318749\\\\1\\end{matrix}\\right]$"
          },
          "metadata": {}
        },
        {
          "output_type": "display_data",
          "data": {
            "text/plain": [
              "⎡49.9999999999999⎤\n",
              "⎢                ⎥\n",
              "⎣      50.0      ⎦"
            ],
            "text/latex": "$\\displaystyle \\left[\\begin{matrix}49.9999999999999\\\\50.0\\end{matrix}\\right]$"
          },
          "metadata": {}
        }
      ]
    }
  ]
}