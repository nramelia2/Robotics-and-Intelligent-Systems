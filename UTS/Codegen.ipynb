{
  "nbformat": 4,
  "nbformat_minor": 0,
  "metadata": {
    "colab": {
      "provenance": []
    },
    "kernelspec": {
      "name": "python3",
      "display_name": "Python 3"
    },
    "language_info": {
      "name": "python"
    }
  },
  "cells": [
    {
      "cell_type": "markdown",
      "source": [
        "### Codegen Tutorial\n",
        "#### One of the most important features of symforce is the ability to generate computationally efficient code from symbolic expressions. Before progressing, first make sure you are familiar with the other symforce tutorials, especially the Values tutorial.\n",
        "\n",
        "### The typical workflow for generating a function is to define a Python function that operates on symbolic inputs to return the symbolic result. Typically this will look like:\n",
        "\n",
        "1. Define a Python function that operates on symbolic inputs\n",
        "\n",
        "2. Create a Codegen object using Codegen.function. Various properties of the function will be deduced automatically; for instance, the name of the generated function is generated from the name of the Python function, and the argument names and types are deduced from the Python function argument names and type annotations.\n",
        "\n",
        "3. Generate the code in your desired language\n",
        "\n",
        "#### Alternately, you may want to define the input and output symbolic Values explicitly, with the following steps:\n",
        "\n",
        "1. Build an input Values object that defines a symbolic representation of each input to the function. Note that inputs and outputs can be Values objects themselves, which symforce will automatically generate into custom types.\n",
        "\n",
        "2. Build an output Values object that defines the outputs of the function in terms of the objects in the input Values.\n",
        "\n",
        "3.Generate the code in your desired language"
      ],
      "metadata": {
        "id": "0Uw9yYJUpX5j"
      }
    },
    {
      "cell_type": "code",
      "execution_count": 2,
      "metadata": {
        "colab": {
          "base_uri": "https://localhost:8080/"
        },
        "id": "D4gigMexpPpK",
        "outputId": "a86bf82e-3c98-4b71-c322-45e86b561687"
      },
      "outputs": [
        {
          "output_type": "stream",
          "name": "stdout",
          "text": [
            "Looking in indexes: https://pypi.org/simple, https://us-python.pkg.dev/colab-wheels/public/simple/\n",
            "Requirement already satisfied: symforce in /usr/local/lib/python3.8/dist-packages (0.7.0)\n",
            "Requirement already satisfied: scipy in /usr/local/lib/python3.8/dist-packages (from symforce) (1.7.3)\n",
            "Requirement already satisfied: sympy~=1.11.1 in /usr/local/lib/python3.8/dist-packages (from symforce) (1.11.1)\n",
            "Requirement already satisfied: skymarshal==0.7.0 in /usr/local/lib/python3.8/dist-packages (from symforce) (0.7.0)\n",
            "Requirement already satisfied: numpy in /usr/local/lib/python3.8/dist-packages (from symforce) (1.21.6)\n",
            "Requirement already satisfied: graphviz in /usr/local/lib/python3.8/dist-packages (from symforce) (0.10.1)\n",
            "Requirement already satisfied: clang-format in /usr/local/lib/python3.8/dist-packages (from symforce) (15.0.4)\n",
            "Requirement already satisfied: black in /usr/local/lib/python3.8/dist-packages (from symforce) (22.10.0)\n",
            "Requirement already satisfied: symforce-sym==0.7.0 in /usr/local/lib/python3.8/dist-packages (from symforce) (0.7.0)\n",
            "Requirement already satisfied: jinja2 in /usr/local/lib/python3.8/dist-packages (from symforce) (2.11.3)\n",
            "Requirement already satisfied: six in /usr/local/lib/python3.8/dist-packages (from skymarshal==0.7.0->symforce) (1.15.0)\n",
            "Requirement already satisfied: argh in /usr/local/lib/python3.8/dist-packages (from skymarshal==0.7.0->symforce) (0.26.2)\n",
            "Requirement already satisfied: ply in /usr/local/lib/python3.8/dist-packages (from skymarshal==0.7.0->symforce) (3.11)\n",
            "Requirement already satisfied: mpmath>=0.19 in /usr/local/lib/python3.8/dist-packages (from sympy~=1.11.1->symforce) (1.2.1)\n",
            "Requirement already satisfied: pathspec>=0.9.0 in /usr/local/lib/python3.8/dist-packages (from black->symforce) (0.10.2)\n",
            "Requirement already satisfied: tomli>=1.1.0 in /usr/local/lib/python3.8/dist-packages (from black->symforce) (2.0.1)\n",
            "Requirement already satisfied: mypy-extensions>=0.4.3 in /usr/local/lib/python3.8/dist-packages (from black->symforce) (0.4.3)\n",
            "Requirement already satisfied: click>=8.0.0 in /usr/local/lib/python3.8/dist-packages (from black->symforce) (8.1.3)\n",
            "Requirement already satisfied: platformdirs>=2 in /usr/local/lib/python3.8/dist-packages (from black->symforce) (2.5.4)\n",
            "Requirement already satisfied: typing-extensions>=3.10.0.0 in /usr/local/lib/python3.8/dist-packages (from black->symforce) (4.1.1)\n",
            "Requirement already satisfied: MarkupSafe>=0.23 in /usr/local/lib/python3.8/dist-packages (from jinja2->symforce) (2.0.1)\n"
          ]
        }
      ],
      "source": [
        "pip install symforce"
      ]
    },
    {
      "cell_type": "code",
      "source": [
        "# Setup\n",
        "import numpy as np\n",
        "import os\n",
        "import symforce\n",
        "\n",
        "symforce.set_symbolic_api(\"symengine\")\n",
        "symforce.set_log_level(\"warning\")\n",
        "\n",
        "# Set epsilon to a symbol for safe code generation.  For more information, see the Epsilon tutorial:\n",
        "# https://symforce.org/tutorials/epsilon_tutorial.html\n",
        "symforce.set_epsilon_to_symbol()\n",
        "\n",
        "from symforce import codegen\n",
        "from symforce.codegen import codegen_util\n",
        "from symforce import ops\n",
        "import symforce.symbolic as sf\n",
        "from symforce.values import Values\n",
        "from symforce.notebook_util import display, display_code, display_code_file"
      ],
      "metadata": {
        "id": "fviP-orppXne"
      },
      "execution_count": 3,
      "outputs": []
    },
    {
      "cell_type": "markdown",
      "source": [
        "### Generating from a Python function\n",
        "First, look at using existing python functions to generate an equivalent function using the codegen package. The inputs to the function are automatically deduced from the signature and type annotations. Additionally, can change how the generated function is declared (e.g. whether to return an object using a return statement or a pointer passed as an argument to the function)."
      ],
      "metadata": {
        "id": "rMcIYh0tqEa5"
      }
    },
    {
      "cell_type": "code",
      "source": [
        "def az_el_from_point(\n",
        "    nav_T_cam: sf.Pose3, nav_t_point: sf.Vector3, epsilon: sf.Scalar = 0\n",
        ") -> sf.Vector2:\n",
        "    \"\"\"\n",
        "    Transform a nav point into azimuth / elevation angles in the\n",
        "    camera frame.\n",
        "\n",
        "    Args:\n",
        "        nav_T_cam (sf.Pose3): camera pose in the world\n",
        "        nav_t_point (sf.Matrix): nav point\n",
        "        epsilon (Scalar): small number to avoid singularities\n",
        "\n",
        "    Returns:\n",
        "        sf.Matrix: (azimuth, elevation)\n",
        "    \"\"\"\n",
        "    cam_t_point = nav_T_cam.inverse() * nav_t_point\n",
        "    x, y, z = cam_t_point\n",
        "    theta = sf.atan2(y, x + epsilon)\n",
        "    phi = sf.pi / 2 - sf.acos(z / (cam_t_point.norm() + epsilon))\n",
        "    return sf.V2(theta, phi)"
      ],
      "metadata": {
        "id": "9Ec7xJAOqKff"
      },
      "execution_count": 4,
      "outputs": []
    },
    {
      "cell_type": "code",
      "source": [
        "az_el_codegen = codegen.Codegen.function(\n",
        "    func=az_el_from_point,\n",
        "    config=codegen.CppConfig(),\n",
        ")\n",
        "az_el_codegen_data = az_el_codegen.generate_function()\n",
        "\n",
        "print(\"Files generated in {}:\\n\".format(az_el_codegen_data.output_dir))\n",
        "for f in az_el_codegen_data.generated_files:\n",
        "    print(\"  |- {}\".format(os.path.relpath(f, az_el_codegen_data.output_dir)))\n",
        "\n",
        "display_code_file(az_el_codegen_data.generated_files[0], \"C++\")"
      ],
      "metadata": {
        "colab": {
          "base_uri": "https://localhost:8080/",
          "height": 1000
        },
        "id": "pGiYVuOYqNMZ",
        "outputId": "413c34f1-6b9b-4faa-a17a-d78fa0d2a1f5"
      },
      "execution_count": 5,
      "outputs": [
        {
          "output_type": "stream",
          "name": "stdout",
          "text": [
            "Files generated in /tmp/sf_codegen_az_el_from_point_vrk72h2k:\n",
            "\n",
            "  |- cpp/symforce/sym/az_el_from_point.h\n"
          ]
        },
        {
          "output_type": "display_data",
          "data": {
            "text/plain": [
              "<IPython.core.display.HTML object>"
            ],
            "text/html": [
              "<div class=\"highlight\" style=\"background: #f8f8f8\"><pre style=\"line-height: 125%\"><span></span><span style=\"color: #408080; font-style: italic\">// -----------------------------------------------------------------------------</span>\n",
              "<span style=\"color: #408080; font-style: italic\">// This file was autogenerated by symforce from template:</span>\n",
              "<span style=\"color: #408080; font-style: italic\">//     function/FUNCTION.h.jinja</span>\n",
              "<span style=\"color: #408080; font-style: italic\">// Do NOT modify by hand.</span>\n",
              "<span style=\"color: #408080; font-style: italic\">// -----------------------------------------------------------------------------</span>\n",
              "\n",
              "<span style=\"color: #BC7A00\">#pragma once</span>\n",
              "\n",
              "<span style=\"color: #BC7A00\">#include</span> <span style=\"color: #408080; font-style: italic\">&lt;Eigen/Dense&gt;</span><span style=\"color: #BC7A00\"></span>\n",
              "\n",
              "<span style=\"color: #BC7A00\">#include</span> <span style=\"color: #408080; font-style: italic\">&lt;sym/pose3.h&gt;</span><span style=\"color: #BC7A00\"></span>\n",
              "\n",
              "<span style=\"color: #008000; font-weight: bold\">namespace</span> sym {\n",
              "\n",
              "<span style=\"color: #408080; font-style: italic\">/**</span>\n",
              "<span style=\"color: #408080; font-style: italic\"> * Transform a nav point into azimuth / elevation angles in the</span>\n",
              "<span style=\"color: #408080; font-style: italic\"> * camera frame.</span>\n",
              "<span style=\"color: #408080; font-style: italic\"> *</span>\n",
              "<span style=\"color: #408080; font-style: italic\"> * Args:</span>\n",
              "<span style=\"color: #408080; font-style: italic\"> *     nav_T_cam (sf.Pose3): camera pose in the world</span>\n",
              "<span style=\"color: #408080; font-style: italic\"> *     nav_t_point (sf.Matrix): nav point</span>\n",
              "<span style=\"color: #408080; font-style: italic\"> *     epsilon (Scalar): small number to avoid singularities</span>\n",
              "<span style=\"color: #408080; font-style: italic\"> *</span>\n",
              "<span style=\"color: #408080; font-style: italic\"> * Returns:</span>\n",
              "<span style=\"color: #408080; font-style: italic\"> *     sf.Matrix: (azimuth, elevation)</span>\n",
              "<span style=\"color: #408080; font-style: italic\"> */</span>\n",
              "<span style=\"color: #008000; font-weight: bold\">template</span> <span style=\"color: #666666\">&lt;</span><span style=\"color: #008000; font-weight: bold\">typename</span> Scalar<span style=\"color: #666666\">&gt;</span>\n",
              "Eigen<span style=\"color: #666666\">::</span>Matrix<span style=\"color: #666666\">&lt;</span>Scalar, <span style=\"color: #666666\">2</span>, <span style=\"color: #666666\">1&gt;</span> AzElFromPoint(<span style=\"color: #008000; font-weight: bold\">const</span> sym<span style=\"color: #666666\">::</span>Pose3<span style=\"color: #666666\">&lt;</span>Scalar<span style=\"color: #666666\">&gt;&amp;</span> nav_T_cam,\n",
              "                                          <span style=\"color: #008000; font-weight: bold\">const</span> Eigen<span style=\"color: #666666\">::</span>Matrix<span style=\"color: #666666\">&lt;</span>Scalar, <span style=\"color: #666666\">3</span>, <span style=\"color: #666666\">1&gt;&amp;</span> nav_t_point,\n",
              "                                          <span style=\"color: #008000; font-weight: bold\">const</span> Scalar epsilon) {\n",
              "  <span style=\"color: #408080; font-style: italic\">// Total ops: 78</span>\n",
              "\n",
              "  <span style=\"color: #408080; font-style: italic\">// Input arrays</span>\n",
              "  <span style=\"color: #008000; font-weight: bold\">const</span> Eigen<span style=\"color: #666666\">::</span>Matrix<span style=\"color: #666666\">&lt;</span>Scalar, <span style=\"color: #666666\">7</span>, <span style=\"color: #666666\">1&gt;&amp;</span> _nav_T_cam <span style=\"color: #666666\">=</span> nav_T_cam.Data();\n",
              "\n",
              "  <span style=\"color: #408080; font-style: italic\">// Intermediate terms (24)</span>\n",
              "  <span style=\"color: #008000; font-weight: bold\">const</span> Scalar _tmp0 <span style=\"color: #666666\">=</span> <span style=\"color: #666666\">2</span> <span style=\"color: #666666\">*</span> _nav_T_cam[<span style=\"color: #666666\">0</span>];\n",
              "  <span style=\"color: #008000; font-weight: bold\">const</span> Scalar _tmp1 <span style=\"color: #666666\">=</span> _nav_T_cam[<span style=\"color: #666666\">3</span>] <span style=\"color: #666666\">*</span> _tmp0;\n",
              "  <span style=\"color: #008000; font-weight: bold\">const</span> Scalar _tmp2 <span style=\"color: #666666\">=</span> <span style=\"color: #666666\">2</span> <span style=\"color: #666666\">*</span> _nav_T_cam[<span style=\"color: #666666\">1</span>];\n",
              "  <span style=\"color: #008000; font-weight: bold\">const</span> Scalar _tmp3 <span style=\"color: #666666\">=</span> _nav_T_cam[<span style=\"color: #666666\">2</span>] <span style=\"color: #666666\">*</span> _tmp2;\n",
              "  <span style=\"color: #008000; font-weight: bold\">const</span> Scalar _tmp4 <span style=\"color: #666666\">=</span> _tmp1 <span style=\"color: #666666\">+</span> _tmp3;\n",
              "  <span style=\"color: #008000; font-weight: bold\">const</span> Scalar _tmp5 <span style=\"color: #666666\">=</span> <span style=\"color: #666666\">-2</span> <span style=\"color: #666666\">*</span> std<span style=\"color: #666666\">::</span>pow(_nav_T_cam[<span style=\"color: #666666\">0</span>], Scalar(<span style=\"color: #666666\">2</span>));\n",
              "  <span style=\"color: #008000; font-weight: bold\">const</span> Scalar _tmp6 <span style=\"color: #666666\">=</span> <span style=\"color: #666666\">1</span> <span style=\"color: #666666\">-</span> <span style=\"color: #666666\">2</span> <span style=\"color: #666666\">*</span> std<span style=\"color: #666666\">::</span>pow(_nav_T_cam[<span style=\"color: #666666\">2</span>], Scalar(<span style=\"color: #666666\">2</span>));\n",
              "  <span style=\"color: #008000; font-weight: bold\">const</span> Scalar _tmp7 <span style=\"color: #666666\">=</span> _tmp5 <span style=\"color: #666666\">+</span> _tmp6;\n",
              "  <span style=\"color: #008000; font-weight: bold\">const</span> Scalar _tmp8 <span style=\"color: #666666\">=</span> _nav_T_cam[<span style=\"color: #666666\">1</span>] <span style=\"color: #666666\">*</span> _tmp0;\n",
              "  <span style=\"color: #008000; font-weight: bold\">const</span> Scalar _tmp9 <span style=\"color: #666666\">=</span> <span style=\"color: #666666\">2</span> <span style=\"color: #666666\">*</span> _nav_T_cam[<span style=\"color: #666666\">2</span>] <span style=\"color: #666666\">*</span> _nav_T_cam[<span style=\"color: #666666\">3</span>];\n",
              "  <span style=\"color: #008000; font-weight: bold\">const</span> Scalar _tmp10 <span style=\"color: #666666\">=</span> _tmp8 <span style=\"color: #666666\">-</span> _tmp9;\n",
              "  <span style=\"color: #008000; font-weight: bold\">const</span> Scalar _tmp11 <span style=\"color: #666666\">=</span> <span style=\"color: #666666\">-</span>_nav_T_cam[<span style=\"color: #666666\">4</span>] <span style=\"color: #666666\">*</span> _tmp10 <span style=\"color: #666666\">-</span> _nav_T_cam[<span style=\"color: #666666\">5</span>] <span style=\"color: #666666\">*</span> _tmp7 <span style=\"color: #666666\">-</span> _nav_T_cam[<span style=\"color: #666666\">6</span>] <span style=\"color: #666666\">*</span> _tmp4 <span style=\"color: #666666\">+</span>\n",
              "                        _tmp10 <span style=\"color: #666666\">*</span> nav_t_point(<span style=\"color: #666666\">0</span>, <span style=\"color: #666666\">0</span>) <span style=\"color: #666666\">+</span> _tmp4 <span style=\"color: #666666\">*</span> nav_t_point(<span style=\"color: #666666\">2</span>, <span style=\"color: #666666\">0</span>) <span style=\"color: #666666\">+</span>\n",
              "                        _tmp7 <span style=\"color: #666666\">*</span> nav_t_point(<span style=\"color: #666666\">1</span>, <span style=\"color: #666666\">0</span>);\n",
              "  <span style=\"color: #008000; font-weight: bold\">const</span> Scalar _tmp12 <span style=\"color: #666666\">=</span> <span style=\"color: #666666\">-2</span> <span style=\"color: #666666\">*</span> std<span style=\"color: #666666\">::</span>pow(_nav_T_cam[<span style=\"color: #666666\">1</span>], Scalar(<span style=\"color: #666666\">2</span>));\n",
              "  <span style=\"color: #008000; font-weight: bold\">const</span> Scalar _tmp13 <span style=\"color: #666666\">=</span> _tmp12 <span style=\"color: #666666\">+</span> _tmp6;\n",
              "  <span style=\"color: #008000; font-weight: bold\">const</span> Scalar _tmp14 <span style=\"color: #666666\">=</span> _tmp8 <span style=\"color: #666666\">+</span> _tmp9;\n",
              "  <span style=\"color: #008000; font-weight: bold\">const</span> Scalar _tmp15 <span style=\"color: #666666\">=</span> _nav_T_cam[<span style=\"color: #666666\">3</span>] <span style=\"color: #666666\">*</span> _tmp2;\n",
              "  <span style=\"color: #008000; font-weight: bold\">const</span> Scalar _tmp16 <span style=\"color: #666666\">=</span> _nav_T_cam[<span style=\"color: #666666\">2</span>] <span style=\"color: #666666\">*</span> _tmp0;\n",
              "  <span style=\"color: #008000; font-weight: bold\">const</span> Scalar _tmp17 <span style=\"color: #666666\">=</span> <span style=\"color: #666666\">-</span>_tmp15 <span style=\"color: #666666\">+</span> _tmp16;\n",
              "  <span style=\"color: #008000; font-weight: bold\">const</span> Scalar _tmp18 <span style=\"color: #666666\">=</span> <span style=\"color: #666666\">-</span>_nav_T_cam[<span style=\"color: #666666\">4</span>] <span style=\"color: #666666\">*</span> _tmp13 <span style=\"color: #666666\">-</span> _nav_T_cam[<span style=\"color: #666666\">5</span>] <span style=\"color: #666666\">*</span> _tmp14 <span style=\"color: #666666\">-</span> _nav_T_cam[<span style=\"color: #666666\">6</span>] <span style=\"color: #666666\">*</span> _tmp17 <span style=\"color: #666666\">+</span>\n",
              "                        _tmp13 <span style=\"color: #666666\">*</span> nav_t_point(<span style=\"color: #666666\">0</span>, <span style=\"color: #666666\">0</span>) <span style=\"color: #666666\">+</span> _tmp14 <span style=\"color: #666666\">*</span> nav_t_point(<span style=\"color: #666666\">1</span>, <span style=\"color: #666666\">0</span>) <span style=\"color: #666666\">+</span>\n",
              "                        _tmp17 <span style=\"color: #666666\">*</span> nav_t_point(<span style=\"color: #666666\">2</span>, <span style=\"color: #666666\">0</span>);\n",
              "  <span style=\"color: #008000; font-weight: bold\">const</span> Scalar _tmp19 <span style=\"color: #666666\">=</span> _tmp18 <span style=\"color: #666666\">+</span> epsilon;\n",
              "  <span style=\"color: #008000; font-weight: bold\">const</span> Scalar _tmp20 <span style=\"color: #666666\">=</span> <span style=\"color: #666666\">-</span>_tmp1 <span style=\"color: #666666\">+</span> _tmp3;\n",
              "  <span style=\"color: #008000; font-weight: bold\">const</span> Scalar _tmp21 <span style=\"color: #666666\">=</span> _tmp12 <span style=\"color: #666666\">+</span> _tmp5 <span style=\"color: #666666\">+</span> <span style=\"color: #666666\">1</span>;\n",
              "  <span style=\"color: #008000; font-weight: bold\">const</span> Scalar _tmp22 <span style=\"color: #666666\">=</span> _tmp15 <span style=\"color: #666666\">+</span> _tmp16;\n",
              "  <span style=\"color: #008000; font-weight: bold\">const</span> Scalar _tmp23 <span style=\"color: #666666\">=</span> <span style=\"color: #666666\">-</span>_nav_T_cam[<span style=\"color: #666666\">4</span>] <span style=\"color: #666666\">*</span> _tmp22 <span style=\"color: #666666\">-</span> _nav_T_cam[<span style=\"color: #666666\">5</span>] <span style=\"color: #666666\">*</span> _tmp20 <span style=\"color: #666666\">-</span> _nav_T_cam[<span style=\"color: #666666\">6</span>] <span style=\"color: #666666\">*</span> _tmp21 <span style=\"color: #666666\">+</span>\n",
              "                        _tmp20 <span style=\"color: #666666\">*</span> nav_t_point(<span style=\"color: #666666\">1</span>, <span style=\"color: #666666\">0</span>) <span style=\"color: #666666\">+</span> _tmp21 <span style=\"color: #666666\">*</span> nav_t_point(<span style=\"color: #666666\">2</span>, <span style=\"color: #666666\">0</span>) <span style=\"color: #666666\">+</span>\n",
              "                        _tmp22 <span style=\"color: #666666\">*</span> nav_t_point(<span style=\"color: #666666\">0</span>, <span style=\"color: #666666\">0</span>);\n",
              "\n",
              "  <span style=\"color: #408080; font-style: italic\">// Output terms (1)</span>\n",
              "  Eigen<span style=\"color: #666666\">::</span>Matrix<span style=\"color: #666666\">&lt;</span>Scalar, <span style=\"color: #666666\">2</span>, <span style=\"color: #666666\">1&gt;</span> _res;\n",
              "\n",
              "  _res(<span style=\"color: #666666\">0</span>, <span style=\"color: #666666\">0</span>) <span style=\"color: #666666\">=</span>\n",
              "      std<span style=\"color: #666666\">::</span>atan2(_tmp11, _tmp19 <span style=\"color: #666666\">+</span> epsilon <span style=\"color: #666666\">*</span> ((((_tmp19) <span style=\"color: #666666\">&gt;</span> <span style=\"color: #666666\">0</span>) <span style=\"color: #666666\">-</span> ((_tmp19) <span style=\"color: #666666\">&lt;</span> <span style=\"color: #666666\">0</span>)) <span style=\"color: #666666\">+</span> Scalar(<span style=\"color: #666666\">0.5</span>)));\n",
              "  _res(<span style=\"color: #666666\">1</span>, <span style=\"color: #666666\">0</span>) <span style=\"color: #666666\">=</span> <span style=\"color: #666666\">-</span>std<span style=\"color: #666666\">::</span>acos(_tmp23 <span style=\"color: #666666\">/</span> (epsilon <span style=\"color: #666666\">+</span> std<span style=\"color: #666666\">::</span>sqrt(Scalar(std<span style=\"color: #666666\">::</span>pow(_tmp11, Scalar(<span style=\"color: #666666\">2</span>)) <span style=\"color: #666666\">+</span>\n",
              "                                                               std<span style=\"color: #666666\">::</span>pow(_tmp18, Scalar(<span style=\"color: #666666\">2</span>)) <span style=\"color: #666666\">+</span>\n",
              "                                                               std<span style=\"color: #666666\">::</span>pow(_tmp23, Scalar(<span style=\"color: #666666\">2</span>)))))) <span style=\"color: #666666\">+</span>\n",
              "               Scalar(M_PI_2);\n",
              "\n",
              "  <span style=\"color: #008000; font-weight: bold\">return</span> _res;\n",
              "}  <span style=\"color: #408080; font-style: italic\">// NOLINT(readability/fn_size)</span>\n",
              "\n",
              "<span style=\"color: #408080; font-style: italic\">// NOLINTNEXTLINE(readability/fn_size)</span>\n",
              "}  <span style=\"color: #408080; font-style: italic\">// namespace sym</span>\n",
              "</pre></div>\n"
            ]
          },
          "metadata": {}
        }
      ]
    },
    {
      "cell_type": "markdown",
      "source": [
        "### Generating function jacobians"
      ],
      "metadata": {
        "id": "B9LI2EWlqRf6"
      }
    },
    {
      "cell_type": "code",
      "source": [
        "codegen_with_jacobians = az_el_codegen.with_jacobians(\n",
        "    # Just compute wrt the pose and point, not epsilon\n",
        "    which_args=[\"nav_T_cam\", \"nav_t_point\"],\n",
        "    # Include value, not just jacobians\n",
        "    include_results=True,\n",
        ")\n",
        "\n",
        "data = codegen_with_jacobians.generate_function()\n",
        "from symforce.notebook_util import display_code_file\n",
        "\n",
        "display_code_file(data.generated_files[0], \"C++\")"
      ],
      "metadata": {
        "colab": {
          "base_uri": "https://localhost:8080/",
          "height": 1000
        },
        "id": "2LzGfx-GqSR-",
        "outputId": "a5964dae-ffbe-4d64-814b-fbda13293407"
      },
      "execution_count": 6,
      "outputs": [
        {
          "output_type": "display_data",
          "data": {
            "text/plain": [
              "<IPython.core.display.HTML object>"
            ],
            "text/html": [
              "<div class=\"highlight\" style=\"background: #f8f8f8\"><pre style=\"line-height: 125%\"><span></span><span style=\"color: #408080; font-style: italic\">// -----------------------------------------------------------------------------</span>\n",
              "<span style=\"color: #408080; font-style: italic\">// This file was autogenerated by symforce from template:</span>\n",
              "<span style=\"color: #408080; font-style: italic\">//     function/FUNCTION.h.jinja</span>\n",
              "<span style=\"color: #408080; font-style: italic\">// Do NOT modify by hand.</span>\n",
              "<span style=\"color: #408080; font-style: italic\">// -----------------------------------------------------------------------------</span>\n",
              "\n",
              "<span style=\"color: #BC7A00\">#pragma once</span>\n",
              "\n",
              "<span style=\"color: #BC7A00\">#include</span> <span style=\"color: #408080; font-style: italic\">&lt;Eigen/Dense&gt;</span><span style=\"color: #BC7A00\"></span>\n",
              "\n",
              "<span style=\"color: #BC7A00\">#include</span> <span style=\"color: #408080; font-style: italic\">&lt;sym/pose3.h&gt;</span><span style=\"color: #BC7A00\"></span>\n",
              "\n",
              "<span style=\"color: #008000; font-weight: bold\">namespace</span> sym {\n",
              "\n",
              "<span style=\"color: #408080; font-style: italic\">/**</span>\n",
              "<span style=\"color: #408080; font-style: italic\"> * Transform a nav point into azimuth / elevation angles in the</span>\n",
              "<span style=\"color: #408080; font-style: italic\"> * camera frame.</span>\n",
              "<span style=\"color: #408080; font-style: italic\"> *</span>\n",
              "<span style=\"color: #408080; font-style: italic\"> * Args:</span>\n",
              "<span style=\"color: #408080; font-style: italic\"> *     nav_T_cam (sf.Pose3): camera pose in the world</span>\n",
              "<span style=\"color: #408080; font-style: italic\"> *     nav_t_point (sf.Matrix): nav point</span>\n",
              "<span style=\"color: #408080; font-style: italic\"> *     epsilon (Scalar): small number to avoid singularities</span>\n",
              "<span style=\"color: #408080; font-style: italic\"> *</span>\n",
              "<span style=\"color: #408080; font-style: italic\"> * Returns:</span>\n",
              "<span style=\"color: #408080; font-style: italic\"> *     sf.Matrix: (azimuth, elevation)</span>\n",
              "<span style=\"color: #408080; font-style: italic\"> *     res_D_nav_T_cam: (2x6) jacobian of res (2) wrt arg nav_T_cam (6)</span>\n",
              "<span style=\"color: #408080; font-style: italic\"> *     res_D_nav_t_point: (2x3) jacobian of res (2) wrt arg nav_t_point (3)</span>\n",
              "<span style=\"color: #408080; font-style: italic\"> */</span>\n",
              "<span style=\"color: #008000; font-weight: bold\">template</span> <span style=\"color: #666666\">&lt;</span><span style=\"color: #008000; font-weight: bold\">typename</span> Scalar<span style=\"color: #666666\">&gt;</span>\n",
              "Eigen<span style=\"color: #666666\">::</span>Matrix<span style=\"color: #666666\">&lt;</span>Scalar, <span style=\"color: #666666\">2</span>, <span style=\"color: #666666\">1&gt;</span> AzElFromPointWithJacobians01(\n",
              "    <span style=\"color: #008000; font-weight: bold\">const</span> sym<span style=\"color: #666666\">::</span>Pose3<span style=\"color: #666666\">&lt;</span>Scalar<span style=\"color: #666666\">&gt;&amp;</span> nav_T_cam, <span style=\"color: #008000; font-weight: bold\">const</span> Eigen<span style=\"color: #666666\">::</span>Matrix<span style=\"color: #666666\">&lt;</span>Scalar, <span style=\"color: #666666\">3</span>, <span style=\"color: #666666\">1&gt;&amp;</span> nav_t_point,\n",
              "    <span style=\"color: #008000; font-weight: bold\">const</span> Scalar epsilon, Eigen<span style=\"color: #666666\">::</span>Matrix<span style=\"color: #666666\">&lt;</span>Scalar, <span style=\"color: #666666\">2</span>, <span style=\"color: #666666\">6&gt;*</span> <span style=\"color: #008000; font-weight: bold\">const</span> res_D_nav_T_cam <span style=\"color: #666666\">=</span> <span style=\"color: #008000; font-weight: bold\">nullptr</span>,\n",
              "    Eigen<span style=\"color: #666666\">::</span>Matrix<span style=\"color: #666666\">&lt;</span>Scalar, <span style=\"color: #666666\">2</span>, <span style=\"color: #666666\">3&gt;*</span> <span style=\"color: #008000; font-weight: bold\">const</span> res_D_nav_t_point <span style=\"color: #666666\">=</span> <span style=\"color: #008000; font-weight: bold\">nullptr</span>) {\n",
              "  <span style=\"color: #408080; font-style: italic\">// Total ops: 289</span>\n",
              "\n",
              "  <span style=\"color: #408080; font-style: italic\">// Input arrays</span>\n",
              "  <span style=\"color: #008000; font-weight: bold\">const</span> Eigen<span style=\"color: #666666\">::</span>Matrix<span style=\"color: #666666\">&lt;</span>Scalar, <span style=\"color: #666666\">7</span>, <span style=\"color: #666666\">1&gt;&amp;</span> _nav_T_cam <span style=\"color: #666666\">=</span> nav_T_cam.Data();\n",
              "\n",
              "  <span style=\"color: #408080; font-style: italic\">// Intermediate terms (93)</span>\n",
              "  <span style=\"color: #008000; font-weight: bold\">const</span> Scalar _tmp0 <span style=\"color: #666666\">=</span> std<span style=\"color: #666666\">::</span>pow(_nav_T_cam[<span style=\"color: #666666\">0</span>], Scalar(<span style=\"color: #666666\">2</span>));\n",
              "  <span style=\"color: #008000; font-weight: bold\">const</span> Scalar _tmp1 <span style=\"color: #666666\">=</span> <span style=\"color: #666666\">2</span> <span style=\"color: #666666\">*</span> _tmp0;\n",
              "  <span style=\"color: #008000; font-weight: bold\">const</span> Scalar _tmp2 <span style=\"color: #666666\">=</span> <span style=\"color: #666666\">-</span>_tmp1;\n",
              "  <span style=\"color: #008000; font-weight: bold\">const</span> Scalar _tmp3 <span style=\"color: #666666\">=</span> std<span style=\"color: #666666\">::</span>pow(_nav_T_cam[<span style=\"color: #666666\">2</span>], Scalar(<span style=\"color: #666666\">2</span>));\n",
              "  <span style=\"color: #008000; font-weight: bold\">const</span> Scalar _tmp4 <span style=\"color: #666666\">=</span> <span style=\"color: #666666\">2</span> <span style=\"color: #666666\">*</span> _tmp3;\n",
              "  <span style=\"color: #008000; font-weight: bold\">const</span> Scalar _tmp5 <span style=\"color: #666666\">=</span> <span style=\"color: #666666\">1</span> <span style=\"color: #666666\">-</span> _tmp4;\n",
              "  <span style=\"color: #008000; font-weight: bold\">const</span> Scalar _tmp6 <span style=\"color: #666666\">=</span> _tmp2 <span style=\"color: #666666\">+</span> _tmp5;\n",
              "  <span style=\"color: #008000; font-weight: bold\">const</span> Scalar _tmp7 <span style=\"color: #666666\">=</span> <span style=\"color: #666666\">2</span> <span style=\"color: #666666\">*</span> _nav_T_cam[<span style=\"color: #666666\">3</span>];\n",
              "  <span style=\"color: #008000; font-weight: bold\">const</span> Scalar _tmp8 <span style=\"color: #666666\">=</span> _nav_T_cam[<span style=\"color: #666666\">0</span>] <span style=\"color: #666666\">*</span> _tmp7;\n",
              "  <span style=\"color: #008000; font-weight: bold\">const</span> Scalar _tmp9 <span style=\"color: #666666\">=</span> <span style=\"color: #666666\">2</span> <span style=\"color: #666666\">*</span> _nav_T_cam[<span style=\"color: #666666\">2</span>];\n",
              "  <span style=\"color: #008000; font-weight: bold\">const</span> Scalar _tmp10 <span style=\"color: #666666\">=</span> _nav_T_cam[<span style=\"color: #666666\">1</span>] <span style=\"color: #666666\">*</span> _tmp9;\n",
              "  <span style=\"color: #008000; font-weight: bold\">const</span> Scalar _tmp11 <span style=\"color: #666666\">=</span> _tmp10 <span style=\"color: #666666\">+</span> _tmp8;\n",
              "  <span style=\"color: #008000; font-weight: bold\">const</span> Scalar _tmp12 <span style=\"color: #666666\">=</span> _nav_T_cam[<span style=\"color: #666666\">6</span>] <span style=\"color: #666666\">*</span> _tmp11;\n",
              "  <span style=\"color: #008000; font-weight: bold\">const</span> Scalar _tmp13 <span style=\"color: #666666\">=</span> <span style=\"color: #666666\">2</span> <span style=\"color: #666666\">*</span> _nav_T_cam[<span style=\"color: #666666\">0</span>] <span style=\"color: #666666\">*</span> _nav_T_cam[<span style=\"color: #666666\">1</span>];\n",
              "  <span style=\"color: #008000; font-weight: bold\">const</span> Scalar _tmp14 <span style=\"color: #666666\">=</span> _nav_T_cam[<span style=\"color: #666666\">3</span>] <span style=\"color: #666666\">*</span> _tmp9;\n",
              "  <span style=\"color: #008000; font-weight: bold\">const</span> Scalar _tmp15 <span style=\"color: #666666\">=</span> <span style=\"color: #666666\">-</span>_tmp14;\n",
              "  <span style=\"color: #008000; font-weight: bold\">const</span> Scalar _tmp16 <span style=\"color: #666666\">=</span> _tmp13 <span style=\"color: #666666\">+</span> _tmp15;\n",
              "  <span style=\"color: #008000; font-weight: bold\">const</span> Scalar _tmp17 <span style=\"color: #666666\">=</span> _nav_T_cam[<span style=\"color: #666666\">4</span>] <span style=\"color: #666666\">*</span> _tmp16;\n",
              "  <span style=\"color: #008000; font-weight: bold\">const</span> Scalar _tmp18 <span style=\"color: #666666\">=</span> _tmp11 <span style=\"color: #666666\">*</span> nav_t_point(<span style=\"color: #666666\">2</span>, <span style=\"color: #666666\">0</span>) <span style=\"color: #666666\">+</span> _tmp16 <span style=\"color: #666666\">*</span> nav_t_point(<span style=\"color: #666666\">0</span>, <span style=\"color: #666666\">0</span>);\n",
              "  <span style=\"color: #008000; font-weight: bold\">const</span> Scalar _tmp19 <span style=\"color: #666666\">=</span>\n",
              "      <span style=\"color: #666666\">-</span>_nav_T_cam[<span style=\"color: #666666\">5</span>] <span style=\"color: #666666\">*</span> _tmp6 <span style=\"color: #666666\">-</span> _tmp12 <span style=\"color: #666666\">-</span> _tmp17 <span style=\"color: #666666\">+</span> _tmp18 <span style=\"color: #666666\">+</span> _tmp6 <span style=\"color: #666666\">*</span> nav_t_point(<span style=\"color: #666666\">1</span>, <span style=\"color: #666666\">0</span>);\n",
              "  <span style=\"color: #008000; font-weight: bold\">const</span> Scalar _tmp20 <span style=\"color: #666666\">=</span> std<span style=\"color: #666666\">::</span>pow(_nav_T_cam[<span style=\"color: #666666\">1</span>], Scalar(<span style=\"color: #666666\">2</span>));\n",
              "  <span style=\"color: #008000; font-weight: bold\">const</span> Scalar _tmp21 <span style=\"color: #666666\">=</span> <span style=\"color: #666666\">2</span> <span style=\"color: #666666\">*</span> _tmp20;\n",
              "  <span style=\"color: #008000; font-weight: bold\">const</span> Scalar _tmp22 <span style=\"color: #666666\">=</span> <span style=\"color: #666666\">-</span>_tmp21;\n",
              "  <span style=\"color: #008000; font-weight: bold\">const</span> Scalar _tmp23 <span style=\"color: #666666\">=</span> _tmp22 <span style=\"color: #666666\">+</span> _tmp5;\n",
              "  <span style=\"color: #008000; font-weight: bold\">const</span> Scalar _tmp24 <span style=\"color: #666666\">=</span> _tmp13 <span style=\"color: #666666\">+</span> _tmp14;\n",
              "  <span style=\"color: #008000; font-weight: bold\">const</span> Scalar _tmp25 <span style=\"color: #666666\">=</span> _nav_T_cam[<span style=\"color: #666666\">5</span>] <span style=\"color: #666666\">*</span> _tmp24;\n",
              "  <span style=\"color: #008000; font-weight: bold\">const</span> Scalar _tmp26 <span style=\"color: #666666\">=</span> _nav_T_cam[<span style=\"color: #666666\">1</span>] <span style=\"color: #666666\">*</span> _tmp7;\n",
              "  <span style=\"color: #008000; font-weight: bold\">const</span> Scalar _tmp27 <span style=\"color: #666666\">=</span> <span style=\"color: #666666\">-</span>_tmp26;\n",
              "  <span style=\"color: #008000; font-weight: bold\">const</span> Scalar _tmp28 <span style=\"color: #666666\">=</span> _nav_T_cam[<span style=\"color: #666666\">0</span>] <span style=\"color: #666666\">*</span> _tmp9;\n",
              "  <span style=\"color: #008000; font-weight: bold\">const</span> Scalar _tmp29 <span style=\"color: #666666\">=</span> _tmp27 <span style=\"color: #666666\">+</span> _tmp28;\n",
              "  <span style=\"color: #008000; font-weight: bold\">const</span> Scalar _tmp30 <span style=\"color: #666666\">=</span> _nav_T_cam[<span style=\"color: #666666\">6</span>] <span style=\"color: #666666\">*</span> _tmp29;\n",
              "  <span style=\"color: #008000; font-weight: bold\">const</span> Scalar _tmp31 <span style=\"color: #666666\">=</span> _tmp24 <span style=\"color: #666666\">*</span> nav_t_point(<span style=\"color: #666666\">1</span>, <span style=\"color: #666666\">0</span>) <span style=\"color: #666666\">+</span> _tmp29 <span style=\"color: #666666\">*</span> nav_t_point(<span style=\"color: #666666\">2</span>, <span style=\"color: #666666\">0</span>);\n",
              "  <span style=\"color: #008000; font-weight: bold\">const</span> Scalar _tmp32 <span style=\"color: #666666\">=</span>\n",
              "      <span style=\"color: #666666\">-</span>_nav_T_cam[<span style=\"color: #666666\">4</span>] <span style=\"color: #666666\">*</span> _tmp23 <span style=\"color: #666666\">+</span> _tmp23 <span style=\"color: #666666\">*</span> nav_t_point(<span style=\"color: #666666\">0</span>, <span style=\"color: #666666\">0</span>) <span style=\"color: #666666\">-</span> _tmp25 <span style=\"color: #666666\">-</span> _tmp30 <span style=\"color: #666666\">+</span> _tmp31;\n",
              "  <span style=\"color: #008000; font-weight: bold\">const</span> Scalar _tmp33 <span style=\"color: #666666\">=</span> _tmp32 <span style=\"color: #666666\">+</span> epsilon;\n",
              "  <span style=\"color: #008000; font-weight: bold\">const</span> Scalar _tmp34 <span style=\"color: #666666\">=</span> _tmp33 <span style=\"color: #666666\">+</span> epsilon <span style=\"color: #666666\">*</span> ((((_tmp33) <span style=\"color: #666666\">&gt;</span> <span style=\"color: #666666\">0</span>) <span style=\"color: #666666\">-</span> ((_tmp33) <span style=\"color: #666666\">&lt;</span> <span style=\"color: #666666\">0</span>)) <span style=\"color: #666666\">+</span> Scalar(<span style=\"color: #666666\">0.5</span>));\n",
              "  <span style=\"color: #008000; font-weight: bold\">const</span> Scalar _tmp35 <span style=\"color: #666666\">=</span> _tmp2 <span style=\"color: #666666\">+</span> _tmp22 <span style=\"color: #666666\">+</span> <span style=\"color: #666666\">1</span>;\n",
              "  <span style=\"color: #008000; font-weight: bold\">const</span> Scalar _tmp36 <span style=\"color: #666666\">=</span> <span style=\"color: #666666\">-</span>_tmp8;\n",
              "  <span style=\"color: #008000; font-weight: bold\">const</span> Scalar _tmp37 <span style=\"color: #666666\">=</span> _tmp10 <span style=\"color: #666666\">+</span> _tmp36;\n",
              "  <span style=\"color: #008000; font-weight: bold\">const</span> Scalar _tmp38 <span style=\"color: #666666\">=</span> _nav_T_cam[<span style=\"color: #666666\">5</span>] <span style=\"color: #666666\">*</span> _tmp37;\n",
              "  <span style=\"color: #008000; font-weight: bold\">const</span> Scalar _tmp39 <span style=\"color: #666666\">=</span> _tmp26 <span style=\"color: #666666\">+</span> _tmp28;\n",
              "  <span style=\"color: #008000; font-weight: bold\">const</span> Scalar _tmp40 <span style=\"color: #666666\">=</span> _nav_T_cam[<span style=\"color: #666666\">4</span>] <span style=\"color: #666666\">*</span> _tmp39;\n",
              "  <span style=\"color: #008000; font-weight: bold\">const</span> Scalar _tmp41 <span style=\"color: #666666\">=</span> _tmp37 <span style=\"color: #666666\">*</span> nav_t_point(<span style=\"color: #666666\">1</span>, <span style=\"color: #666666\">0</span>) <span style=\"color: #666666\">+</span> _tmp39 <span style=\"color: #666666\">*</span> nav_t_point(<span style=\"color: #666666\">0</span>, <span style=\"color: #666666\">0</span>);\n",
              "  <span style=\"color: #008000; font-weight: bold\">const</span> Scalar _tmp42 <span style=\"color: #666666\">=</span>\n",
              "      <span style=\"color: #666666\">-</span>_nav_T_cam[<span style=\"color: #666666\">6</span>] <span style=\"color: #666666\">*</span> _tmp35 <span style=\"color: #666666\">+</span> _tmp35 <span style=\"color: #666666\">*</span> nav_t_point(<span style=\"color: #666666\">2</span>, <span style=\"color: #666666\">0</span>) <span style=\"color: #666666\">-</span> _tmp38 <span style=\"color: #666666\">-</span> _tmp40 <span style=\"color: #666666\">+</span> _tmp41;\n",
              "  <span style=\"color: #008000; font-weight: bold\">const</span> Scalar _tmp43 <span style=\"color: #666666\">=</span> std<span style=\"color: #666666\">::</span>pow(_tmp19, Scalar(<span style=\"color: #666666\">2</span>));\n",
              "  <span style=\"color: #008000; font-weight: bold\">const</span> Scalar _tmp44 <span style=\"color: #666666\">=</span> std<span style=\"color: #666666\">::</span>pow(_tmp42, Scalar(<span style=\"color: #666666\">2</span>));\n",
              "  <span style=\"color: #008000; font-weight: bold\">const</span> Scalar _tmp45 <span style=\"color: #666666\">=</span> std<span style=\"color: #666666\">::</span>sqrt(Scalar(std<span style=\"color: #666666\">::</span>pow(_tmp32, Scalar(<span style=\"color: #666666\">2</span>)) <span style=\"color: #666666\">+</span> _tmp43 <span style=\"color: #666666\">+</span> _tmp44));\n",
              "  <span style=\"color: #008000; font-weight: bold\">const</span> Scalar _tmp46 <span style=\"color: #666666\">=</span> _tmp45 <span style=\"color: #666666\">+</span> epsilon;\n",
              "  <span style=\"color: #008000; font-weight: bold\">const</span> Scalar _tmp47 <span style=\"color: #666666\">=</span> Scalar(<span style=\"color: #666666\">1.0</span>) <span style=\"color: #666666\">/</span> (_tmp46);\n",
              "  <span style=\"color: #008000; font-weight: bold\">const</span> Scalar _tmp48 <span style=\"color: #666666\">=</span> std<span style=\"color: #666666\">::</span>pow(_nav_T_cam[<span style=\"color: #666666\">3</span>], Scalar(<span style=\"color: #666666\">2</span>));\n",
              "  <span style=\"color: #008000; font-weight: bold\">const</span> Scalar _tmp49 <span style=\"color: #666666\">=</span> <span style=\"color: #666666\">-</span>_tmp0;\n",
              "  <span style=\"color: #008000; font-weight: bold\">const</span> Scalar _tmp50 <span style=\"color: #666666\">=</span> <span style=\"color: #666666\">-</span>_tmp20;\n",
              "  <span style=\"color: #008000; font-weight: bold\">const</span> Scalar _tmp51 <span style=\"color: #666666\">=</span> _tmp3 <span style=\"color: #666666\">+</span> _tmp48 <span style=\"color: #666666\">+</span> _tmp49 <span style=\"color: #666666\">+</span> _tmp50;\n",
              "  <span style=\"color: #008000; font-weight: bold\">const</span> Scalar _tmp52 <span style=\"color: #666666\">=</span>\n",
              "      <span style=\"color: #666666\">-</span>_nav_T_cam[<span style=\"color: #666666\">6</span>] <span style=\"color: #666666\">*</span> _tmp51 <span style=\"color: #666666\">-</span> _tmp38 <span style=\"color: #666666\">-</span> _tmp40 <span style=\"color: #666666\">+</span> _tmp41 <span style=\"color: #666666\">+</span> _tmp51 <span style=\"color: #666666\">*</span> nav_t_point(<span style=\"color: #666666\">2</span>, <span style=\"color: #666666\">0</span>);\n",
              "  <span style=\"color: #008000; font-weight: bold\">const</span> Scalar _tmp53 <span style=\"color: #666666\">=</span> std<span style=\"color: #666666\">::</span>pow(_tmp34, Scalar(<span style=\"color: #666666\">2</span>));\n",
              "  <span style=\"color: #008000; font-weight: bold\">const</span> Scalar _tmp54 <span style=\"color: #666666\">=</span> Scalar(<span style=\"color: #666666\">1.0</span>) <span style=\"color: #666666\">/</span> (_tmp43 <span style=\"color: #666666\">+</span> _tmp53);\n",
              "  <span style=\"color: #008000; font-weight: bold\">const</span> Scalar _tmp55 <span style=\"color: #666666\">=</span> <span style=\"color: #666666\">-</span>_tmp10;\n",
              "  <span style=\"color: #008000; font-weight: bold\">const</span> Scalar _tmp56 <span style=\"color: #666666\">=</span> _tmp36 <span style=\"color: #666666\">+</span> _tmp55;\n",
              "  <span style=\"color: #008000; font-weight: bold\">const</span> Scalar _tmp57 <span style=\"color: #666666\">=</span> <span style=\"color: #666666\">-</span>_tmp48;\n",
              "  <span style=\"color: #008000; font-weight: bold\">const</span> Scalar _tmp58 <span style=\"color: #666666\">=</span> _tmp3 <span style=\"color: #666666\">+</span> _tmp57;\n",
              "  <span style=\"color: #008000; font-weight: bold\">const</span> Scalar _tmp59 <span style=\"color: #666666\">=</span> _tmp0 <span style=\"color: #666666\">+</span> _tmp50;\n",
              "  <span style=\"color: #008000; font-weight: bold\">const</span> Scalar _tmp60 <span style=\"color: #666666\">=</span> _tmp58 <span style=\"color: #666666\">+</span> _tmp59;\n",
              "  <span style=\"color: #008000; font-weight: bold\">const</span> Scalar _tmp61 <span style=\"color: #666666\">=</span> <span style=\"color: #666666\">-</span>_tmp13;\n",
              "  <span style=\"color: #008000; font-weight: bold\">const</span> Scalar _tmp62 <span style=\"color: #666666\">=</span> _tmp14 <span style=\"color: #666666\">+</span> _tmp61;\n",
              "  <span style=\"color: #008000; font-weight: bold\">const</span> Scalar _tmp63 <span style=\"color: #666666\">=</span> <span style=\"color: #666666\">-</span>_nav_T_cam[<span style=\"color: #666666\">4</span>] <span style=\"color: #666666\">*</span> _tmp62 <span style=\"color: #666666\">-</span> _nav_T_cam[<span style=\"color: #666666\">5</span>] <span style=\"color: #666666\">*</span> _tmp60 <span style=\"color: #666666\">-</span> _nav_T_cam[<span style=\"color: #666666\">6</span>] <span style=\"color: #666666\">*</span> _tmp56 <span style=\"color: #666666\">+</span>\n",
              "                        _tmp56 <span style=\"color: #666666\">*</span> nav_t_point(<span style=\"color: #666666\">2</span>, <span style=\"color: #666666\">0</span>) <span style=\"color: #666666\">+</span> _tmp60 <span style=\"color: #666666\">*</span> nav_t_point(<span style=\"color: #666666\">1</span>, <span style=\"color: #666666\">0</span>) <span style=\"color: #666666\">+</span>\n",
              "                        _tmp62 <span style=\"color: #666666\">*</span> nav_t_point(<span style=\"color: #666666\">0</span>, <span style=\"color: #666666\">0</span>);\n",
              "  <span style=\"color: #008000; font-weight: bold\">const</span> Scalar _tmp64 <span style=\"color: #666666\">=</span> <span style=\"color: #666666\">2</span> <span style=\"color: #666666\">*</span> _tmp19;\n",
              "  <span style=\"color: #008000; font-weight: bold\">const</span> Scalar _tmp65 <span style=\"color: #666666\">=</span> <span style=\"color: #666666\">2</span> <span style=\"color: #666666\">*</span> _tmp42;\n",
              "  <span style=\"color: #008000; font-weight: bold\">const</span> Scalar _tmp66 <span style=\"color: #666666\">=</span> std<span style=\"color: #666666\">::</span>pow(_tmp46, Scalar(<span style=\"color: #666666\">-2</span>));\n",
              "  <span style=\"color: #008000; font-weight: bold\">const</span> Scalar _tmp67 <span style=\"color: #666666\">=</span> (Scalar(<span style=\"color: #666666\">1</span>) <span style=\"color: #666666\">/</span> Scalar(<span style=\"color: #666666\">2</span>)) <span style=\"color: #666666\">*</span> _tmp42 <span style=\"color: #666666\">*</span> _tmp66 <span style=\"color: #666666\">/</span> _tmp45;\n",
              "  <span style=\"color: #008000; font-weight: bold\">const</span> Scalar _tmp68 <span style=\"color: #666666\">=</span> std<span style=\"color: #666666\">::</span>pow(Scalar(<span style=\"color: #666666\">-</span>_tmp44 <span style=\"color: #666666\">*</span> _tmp66 <span style=\"color: #666666\">+</span> <span style=\"color: #666666\">1</span>), Scalar(Scalar(<span style=\"color: #666666\">-1</span>) <span style=\"color: #666666\">/</span> Scalar(<span style=\"color: #666666\">2</span>)));\n",
              "  <span style=\"color: #008000; font-weight: bold\">const</span> Scalar _tmp69 <span style=\"color: #666666\">=</span> _tmp55 <span style=\"color: #666666\">+</span> _tmp8;\n",
              "  <span style=\"color: #008000; font-weight: bold\">const</span> Scalar _tmp70 <span style=\"color: #666666\">=</span> <span style=\"color: #666666\">-</span>_tmp3;\n",
              "  <span style=\"color: #008000; font-weight: bold\">const</span> Scalar _tmp71 <span style=\"color: #666666\">=</span> _tmp0 <span style=\"color: #666666\">+</span> _tmp20 <span style=\"color: #666666\">+</span> _tmp57 <span style=\"color: #666666\">+</span> _tmp70;\n",
              "  <span style=\"color: #008000; font-weight: bold\">const</span> Scalar _tmp72 <span style=\"color: #666666\">=</span> <span style=\"color: #666666\">-</span>_tmp28;\n",
              "  <span style=\"color: #008000; font-weight: bold\">const</span> Scalar _tmp73 <span style=\"color: #666666\">=</span> _tmp27 <span style=\"color: #666666\">+</span> _tmp72;\n",
              "  <span style=\"color: #008000; font-weight: bold\">const</span> Scalar _tmp74 <span style=\"color: #666666\">=</span> <span style=\"color: #666666\">-</span>_nav_T_cam[<span style=\"color: #666666\">4</span>] <span style=\"color: #666666\">*</span> _tmp73 <span style=\"color: #666666\">-</span> _nav_T_cam[<span style=\"color: #666666\">5</span>] <span style=\"color: #666666\">*</span> _tmp69 <span style=\"color: #666666\">-</span> _nav_T_cam[<span style=\"color: #666666\">6</span>] <span style=\"color: #666666\">*</span> _tmp71 <span style=\"color: #666666\">+</span>\n",
              "                        _tmp69 <span style=\"color: #666666\">*</span> nav_t_point(<span style=\"color: #666666\">1</span>, <span style=\"color: #666666\">0</span>) <span style=\"color: #666666\">+</span> _tmp71 <span style=\"color: #666666\">*</span> nav_t_point(<span style=\"color: #666666\">2</span>, <span style=\"color: #666666\">0</span>) <span style=\"color: #666666\">+</span>\n",
              "                        _tmp73 <span style=\"color: #666666\">*</span> nav_t_point(<span style=\"color: #666666\">0</span>, <span style=\"color: #666666\">0</span>);\n",
              "  <span style=\"color: #008000; font-weight: bold\">const</span> Scalar _tmp75 <span style=\"color: #666666\">=</span> _tmp48 <span style=\"color: #666666\">+</span> _tmp70;\n",
              "  <span style=\"color: #008000; font-weight: bold\">const</span> Scalar _tmp76 <span style=\"color: #666666\">=</span> _tmp59 <span style=\"color: #666666\">+</span> _tmp75;\n",
              "  <span style=\"color: #008000; font-weight: bold\">const</span> Scalar _tmp77 <span style=\"color: #666666\">=</span>\n",
              "      <span style=\"color: #666666\">-</span>_nav_T_cam[<span style=\"color: #666666\">4</span>] <span style=\"color: #666666\">*</span> _tmp76 <span style=\"color: #666666\">-</span> _tmp25 <span style=\"color: #666666\">-</span> _tmp30 <span style=\"color: #666666\">+</span> _tmp31 <span style=\"color: #666666\">+</span> _tmp76 <span style=\"color: #666666\">*</span> nav_t_point(<span style=\"color: #666666\">0</span>, <span style=\"color: #666666\">0</span>);\n",
              "  <span style=\"color: #008000; font-weight: bold\">const</span> Scalar _tmp78 <span style=\"color: #666666\">=</span> <span style=\"color: #666666\">2</span> <span style=\"color: #666666\">*</span> _tmp32;\n",
              "  <span style=\"color: #008000; font-weight: bold\">const</span> Scalar _tmp79 <span style=\"color: #666666\">=</span> _tmp20 <span style=\"color: #666666\">+</span> _tmp49;\n",
              "  <span style=\"color: #008000; font-weight: bold\">const</span> Scalar _tmp80 <span style=\"color: #666666\">=</span> _tmp75 <span style=\"color: #666666\">+</span> _tmp79;\n",
              "  <span style=\"color: #008000; font-weight: bold\">const</span> Scalar _tmp81 <span style=\"color: #666666\">=</span>\n",
              "      <span style=\"color: #666666\">-</span>_nav_T_cam[<span style=\"color: #666666\">5</span>] <span style=\"color: #666666\">*</span> _tmp80 <span style=\"color: #666666\">-</span> _tmp12 <span style=\"color: #666666\">-</span> _tmp17 <span style=\"color: #666666\">+</span> _tmp18 <span style=\"color: #666666\">+</span> _tmp80 <span style=\"color: #666666\">*</span> nav_t_point(<span style=\"color: #666666\">1</span>, <span style=\"color: #666666\">0</span>);\n",
              "  <span style=\"color: #008000; font-weight: bold\">const</span> Scalar _tmp82 <span style=\"color: #666666\">=</span> _tmp19 <span style=\"color: #666666\">/</span> _tmp53;\n",
              "  <span style=\"color: #008000; font-weight: bold\">const</span> Scalar _tmp83 <span style=\"color: #666666\">=</span> _tmp58 <span style=\"color: #666666\">+</span> _tmp79;\n",
              "  <span style=\"color: #008000; font-weight: bold\">const</span> Scalar _tmp84 <span style=\"color: #666666\">=</span> _tmp15 <span style=\"color: #666666\">+</span> _tmp61;\n",
              "  <span style=\"color: #008000; font-weight: bold\">const</span> Scalar _tmp85 <span style=\"color: #666666\">=</span> _tmp26 <span style=\"color: #666666\">+</span> _tmp72;\n",
              "  <span style=\"color: #008000; font-weight: bold\">const</span> Scalar _tmp86 <span style=\"color: #666666\">=</span> <span style=\"color: #666666\">-</span>_nav_T_cam[<span style=\"color: #666666\">4</span>] <span style=\"color: #666666\">*</span> _tmp83 <span style=\"color: #666666\">-</span> _nav_T_cam[<span style=\"color: #666666\">5</span>] <span style=\"color: #666666\">*</span> _tmp84 <span style=\"color: #666666\">-</span> _nav_T_cam[<span style=\"color: #666666\">6</span>] <span style=\"color: #666666\">*</span> _tmp85 <span style=\"color: #666666\">+</span>\n",
              "                        _tmp83 <span style=\"color: #666666\">*</span> nav_t_point(<span style=\"color: #666666\">0</span>, <span style=\"color: #666666\">0</span>) <span style=\"color: #666666\">+</span> _tmp84 <span style=\"color: #666666\">*</span> nav_t_point(<span style=\"color: #666666\">1</span>, <span style=\"color: #666666\">0</span>) <span style=\"color: #666666\">+</span>\n",
              "                        _tmp85 <span style=\"color: #666666\">*</span> nav_t_point(<span style=\"color: #666666\">2</span>, <span style=\"color: #666666\">0</span>);\n",
              "  <span style=\"color: #008000; font-weight: bold\">const</span> Scalar _tmp87 <span style=\"color: #666666\">=</span> Scalar(<span style=\"color: #666666\">1.0</span>) <span style=\"color: #666666\">/</span> (_tmp34);\n",
              "  <span style=\"color: #008000; font-weight: bold\">const</span> Scalar _tmp88 <span style=\"color: #666666\">=</span> _tmp53 <span style=\"color: #666666\">*</span> _tmp54;\n",
              "  <span style=\"color: #008000; font-weight: bold\">const</span> Scalar _tmp89 <span style=\"color: #666666\">=</span> _tmp4 <span style=\"color: #666666\">-</span> <span style=\"color: #666666\">1</span>;\n",
              "  <span style=\"color: #008000; font-weight: bold\">const</span> Scalar _tmp90 <span style=\"color: #666666\">=</span> _tmp21 <span style=\"color: #666666\">+</span> _tmp89;\n",
              "  <span style=\"color: #008000; font-weight: bold\">const</span> Scalar _tmp91 <span style=\"color: #666666\">=</span> _tmp1 <span style=\"color: #666666\">+</span> _tmp89;\n",
              "  <span style=\"color: #008000; font-weight: bold\">const</span> Scalar _tmp92 <span style=\"color: #666666\">=</span> _tmp1 <span style=\"color: #666666\">+</span> _tmp21 <span style=\"color: #666666\">-</span> <span style=\"color: #666666\">1</span>;\n",
              "\n",
              "  <span style=\"color: #408080; font-style: italic\">// Output terms (3)</span>\n",
              "  Eigen<span style=\"color: #666666\">::</span>Matrix<span style=\"color: #666666\">&lt;</span>Scalar, <span style=\"color: #666666\">2</span>, <span style=\"color: #666666\">1&gt;</span> _res;\n",
              "\n",
              "  _res(<span style=\"color: #666666\">0</span>, <span style=\"color: #666666\">0</span>) <span style=\"color: #666666\">=</span> std<span style=\"color: #666666\">::</span>atan2(_tmp19, _tmp34);\n",
              "  _res(<span style=\"color: #666666\">1</span>, <span style=\"color: #666666\">0</span>) <span style=\"color: #666666\">=</span> <span style=\"color: #666666\">-</span>std<span style=\"color: #666666\">::</span>acos(_tmp42 <span style=\"color: #666666\">*</span> _tmp47) <span style=\"color: #666666\">+</span> Scalar(M_PI_2);\n",
              "\n",
              "  <span style=\"color: #008000; font-weight: bold\">if</span> (res_D_nav_T_cam <span style=\"color: #666666\">!=</span> <span style=\"color: #008000; font-weight: bold\">nullptr</span>) {\n",
              "    Eigen<span style=\"color: #666666\">::</span>Matrix<span style=\"color: #666666\">&lt;</span>Scalar, <span style=\"color: #666666\">2</span>, <span style=\"color: #666666\">6&gt;&amp;</span> _res_D_nav_T_cam <span style=\"color: #666666\">=</span> (<span style=\"color: #666666\">*</span>res_D_nav_T_cam);\n",
              "\n",
              "    _res_D_nav_T_cam(<span style=\"color: #666666\">0</span>, <span style=\"color: #666666\">0</span>) <span style=\"color: #666666\">=</span> _tmp34 <span style=\"color: #666666\">*</span> _tmp52 <span style=\"color: #666666\">*</span> _tmp54;\n",
              "    _res_D_nav_T_cam(<span style=\"color: #666666\">1</span>, <span style=\"color: #666666\">0</span>) <span style=\"color: #666666\">=</span>\n",
              "        _tmp68 <span style=\"color: #666666\">*</span> (_tmp47 <span style=\"color: #666666\">*</span> _tmp63 <span style=\"color: #666666\">-</span> _tmp67 <span style=\"color: #666666\">*</span> (_tmp52 <span style=\"color: #666666\">*</span> _tmp64 <span style=\"color: #666666\">+</span> _tmp63 <span style=\"color: #666666\">*</span> _tmp65));\n",
              "    _res_D_nav_T_cam(<span style=\"color: #666666\">0</span>, <span style=\"color: #666666\">1</span>) <span style=\"color: #666666\">=</span> <span style=\"color: #666666\">-</span>_tmp19 <span style=\"color: #666666\">*</span> _tmp54 <span style=\"color: #666666\">*</span> _tmp74;\n",
              "    _res_D_nav_T_cam(<span style=\"color: #666666\">1</span>, <span style=\"color: #666666\">1</span>) <span style=\"color: #666666\">=</span>\n",
              "        _tmp68 <span style=\"color: #666666\">*</span> (_tmp47 <span style=\"color: #666666\">*</span> _tmp77 <span style=\"color: #666666\">-</span> _tmp67 <span style=\"color: #666666\">*</span> (_tmp65 <span style=\"color: #666666\">*</span> _tmp77 <span style=\"color: #666666\">+</span> _tmp74 <span style=\"color: #666666\">*</span> _tmp78));\n",
              "    _res_D_nav_T_cam(<span style=\"color: #666666\">0</span>, <span style=\"color: #666666\">2</span>) <span style=\"color: #666666\">=</span> _tmp88 <span style=\"color: #666666\">*</span> (<span style=\"color: #666666\">-</span>_tmp81 <span style=\"color: #666666\">*</span> _tmp82 <span style=\"color: #666666\">+</span> _tmp86 <span style=\"color: #666666\">*</span> _tmp87);\n",
              "    _res_D_nav_T_cam(<span style=\"color: #666666\">1</span>, <span style=\"color: #666666\">2</span>) <span style=\"color: #666666\">=</span> <span style=\"color: #666666\">-</span>_tmp67 <span style=\"color: #666666\">*</span> _tmp68 <span style=\"color: #666666\">*</span> (_tmp64 <span style=\"color: #666666\">*</span> _tmp86 <span style=\"color: #666666\">+</span> _tmp78 <span style=\"color: #666666\">*</span> _tmp81);\n",
              "    _res_D_nav_T_cam(<span style=\"color: #666666\">0</span>, <span style=\"color: #666666\">3</span>) <span style=\"color: #666666\">=</span> _tmp88 <span style=\"color: #666666\">*</span> (_tmp62 <span style=\"color: #666666\">*</span> _tmp87 <span style=\"color: #666666\">-</span> _tmp82 <span style=\"color: #666666\">*</span> _tmp90);\n",
              "    _res_D_nav_T_cam(<span style=\"color: #666666\">1</span>, <span style=\"color: #666666\">3</span>) <span style=\"color: #666666\">=</span>\n",
              "        _tmp68 <span style=\"color: #666666\">*</span> (_tmp47 <span style=\"color: #666666\">*</span> _tmp73 <span style=\"color: #666666\">-</span> _tmp67 <span style=\"color: #666666\">*</span> (_tmp62 <span style=\"color: #666666\">*</span> _tmp64 <span style=\"color: #666666\">+</span> _tmp65 <span style=\"color: #666666\">*</span> _tmp73 <span style=\"color: #666666\">+</span> _tmp78 <span style=\"color: #666666\">*</span> _tmp90));\n",
              "    _res_D_nav_T_cam(<span style=\"color: #666666\">0</span>, <span style=\"color: #666666\">4</span>) <span style=\"color: #666666\">=</span> _tmp88 <span style=\"color: #666666\">*</span> (<span style=\"color: #666666\">-</span>_tmp82 <span style=\"color: #666666\">*</span> _tmp84 <span style=\"color: #666666\">+</span> _tmp87 <span style=\"color: #666666\">*</span> _tmp91);\n",
              "    _res_D_nav_T_cam(<span style=\"color: #666666\">1</span>, <span style=\"color: #666666\">4</span>) <span style=\"color: #666666\">=</span>\n",
              "        _tmp68 <span style=\"color: #666666\">*</span> (_tmp47 <span style=\"color: #666666\">*</span> _tmp69 <span style=\"color: #666666\">-</span> _tmp67 <span style=\"color: #666666\">*</span> (_tmp64 <span style=\"color: #666666\">*</span> _tmp91 <span style=\"color: #666666\">+</span> _tmp65 <span style=\"color: #666666\">*</span> _tmp69 <span style=\"color: #666666\">+</span> _tmp78 <span style=\"color: #666666\">*</span> _tmp84));\n",
              "    _res_D_nav_T_cam(<span style=\"color: #666666\">0</span>, <span style=\"color: #666666\">5</span>) <span style=\"color: #666666\">=</span> _tmp88 <span style=\"color: #666666\">*</span> (_tmp56 <span style=\"color: #666666\">*</span> _tmp87 <span style=\"color: #666666\">-</span> _tmp82 <span style=\"color: #666666\">*</span> _tmp85);\n",
              "    _res_D_nav_T_cam(<span style=\"color: #666666\">1</span>, <span style=\"color: #666666\">5</span>) <span style=\"color: #666666\">=</span>\n",
              "        _tmp68 <span style=\"color: #666666\">*</span> (_tmp47 <span style=\"color: #666666\">*</span> _tmp92 <span style=\"color: #666666\">-</span> _tmp67 <span style=\"color: #666666\">*</span> (_tmp56 <span style=\"color: #666666\">*</span> _tmp64 <span style=\"color: #666666\">+</span> _tmp65 <span style=\"color: #666666\">*</span> _tmp92 <span style=\"color: #666666\">+</span> _tmp78 <span style=\"color: #666666\">*</span> _tmp85));\n",
              "  }\n",
              "\n",
              "  <span style=\"color: #008000; font-weight: bold\">if</span> (res_D_nav_t_point <span style=\"color: #666666\">!=</span> <span style=\"color: #008000; font-weight: bold\">nullptr</span>) {\n",
              "    Eigen<span style=\"color: #666666\">::</span>Matrix<span style=\"color: #666666\">&lt;</span>Scalar, <span style=\"color: #666666\">2</span>, <span style=\"color: #666666\">3&gt;&amp;</span> _res_D_nav_t_point <span style=\"color: #666666\">=</span> (<span style=\"color: #666666\">*</span>res_D_nav_t_point);\n",
              "\n",
              "    _res_D_nav_t_point(<span style=\"color: #666666\">0</span>, <span style=\"color: #666666\">0</span>) <span style=\"color: #666666\">=</span> _tmp88 <span style=\"color: #666666\">*</span> (_tmp16 <span style=\"color: #666666\">*</span> _tmp87 <span style=\"color: #666666\">-</span> _tmp23 <span style=\"color: #666666\">*</span> _tmp82);\n",
              "    _res_D_nav_t_point(<span style=\"color: #666666\">1</span>, <span style=\"color: #666666\">0</span>) <span style=\"color: #666666\">=</span>\n",
              "        _tmp68 <span style=\"color: #666666\">*</span> (_tmp39 <span style=\"color: #666666\">*</span> _tmp47 <span style=\"color: #666666\">-</span> _tmp67 <span style=\"color: #666666\">*</span> (_tmp16 <span style=\"color: #666666\">*</span> _tmp64 <span style=\"color: #666666\">+</span> _tmp23 <span style=\"color: #666666\">*</span> _tmp78 <span style=\"color: #666666\">+</span> _tmp39 <span style=\"color: #666666\">*</span> _tmp65));\n",
              "    _res_D_nav_t_point(<span style=\"color: #666666\">0</span>, <span style=\"color: #666666\">1</span>) <span style=\"color: #666666\">=</span> _tmp88 <span style=\"color: #666666\">*</span> (<span style=\"color: #666666\">-</span>_tmp24 <span style=\"color: #666666\">*</span> _tmp82 <span style=\"color: #666666\">+</span> _tmp6 <span style=\"color: #666666\">*</span> _tmp87);\n",
              "    _res_D_nav_t_point(<span style=\"color: #666666\">1</span>, <span style=\"color: #666666\">1</span>) <span style=\"color: #666666\">=</span>\n",
              "        _tmp68 <span style=\"color: #666666\">*</span> (_tmp37 <span style=\"color: #666666\">*</span> _tmp47 <span style=\"color: #666666\">-</span> _tmp67 <span style=\"color: #666666\">*</span> (_tmp24 <span style=\"color: #666666\">*</span> _tmp78 <span style=\"color: #666666\">+</span> _tmp37 <span style=\"color: #666666\">*</span> _tmp65 <span style=\"color: #666666\">+</span> _tmp6 <span style=\"color: #666666\">*</span> _tmp64));\n",
              "    _res_D_nav_t_point(<span style=\"color: #666666\">0</span>, <span style=\"color: #666666\">2</span>) <span style=\"color: #666666\">=</span> _tmp88 <span style=\"color: #666666\">*</span> (_tmp11 <span style=\"color: #666666\">*</span> _tmp87 <span style=\"color: #666666\">-</span> _tmp29 <span style=\"color: #666666\">*</span> _tmp82);\n",
              "    _res_D_nav_t_point(<span style=\"color: #666666\">1</span>, <span style=\"color: #666666\">2</span>) <span style=\"color: #666666\">=</span>\n",
              "        _tmp68 <span style=\"color: #666666\">*</span> (_tmp35 <span style=\"color: #666666\">*</span> _tmp47 <span style=\"color: #666666\">-</span> _tmp67 <span style=\"color: #666666\">*</span> (_tmp11 <span style=\"color: #666666\">*</span> _tmp64 <span style=\"color: #666666\">+</span> _tmp29 <span style=\"color: #666666\">*</span> _tmp78 <span style=\"color: #666666\">+</span> _tmp35 <span style=\"color: #666666\">*</span> _tmp65));\n",
              "  }\n",
              "\n",
              "  <span style=\"color: #008000; font-weight: bold\">return</span> _res;\n",
              "}  <span style=\"color: #408080; font-style: italic\">// NOLINT(readability/fn_size)</span>\n",
              "\n",
              "<span style=\"color: #408080; font-style: italic\">// NOLINTNEXTLINE(readability/fn_size)</span>\n",
              "}  <span style=\"color: #408080; font-style: italic\">// namespace sym</span>\n",
              "</pre></div>\n"
            ]
          },
          "metadata": {}
        }
      ]
    },
    {
      "cell_type": "markdown",
      "source": [
        "### Code generation using implicit functions\n",
        "#### Next, look at generating functions using a list of input variables and output expressions that are a function of those variables. In this case don’t need to explicitly define a function in python, but can instead generate one directly using the codegen package.\n",
        "\n",
        "#### Let’s set up an example for the double pendulum. Will skip the derivation and just define the equations of motion for the angular acceleration of the two links:"
      ],
      "metadata": {
        "id": "aoLFK_41qeJu"
      }
    },
    {
      "cell_type": "code",
      "source": [
        "# Define symbols\n",
        "L = sf.V2.symbolic(\"L\").T  # Length of the two links\n",
        "m = sf.V2.symbolic(\"m\").T  # Mass of the two links\n",
        "ang = sf.V2.symbolic(\"a\").T  # Angle of the two links\n",
        "dang = sf.V2.symbolic(\"da\").T  # Angular velocity of the two links\n",
        "g = sf.Symbol(\"g\")  # Gravity"
      ],
      "metadata": {
        "id": "u1L3Fx7Wqn-K"
      },
      "execution_count": 7,
      "outputs": []
    },
    {
      "cell_type": "code",
      "source": [
        "# Angular acceleration of the first link\n",
        "ddang_0 = (\n",
        "    -g * (2 * m[0] + m[1]) * sf.sin(ang[0])\n",
        "    - m[1] * g * sf.sin(ang[0] - 2 * ang[1])\n",
        "    - 2\n",
        "    * sf.sin(ang[0] - ang[1])\n",
        "    * m[1]\n",
        "    * (dang[1] * 2 * L[1] + dang[0] * 2 * L[0] * sf.cos(ang[0] - ang[1]))\n",
        ") / (L[0] * (2 * m[0] + m[1] - m[1] * sf.cos(2 * ang[0] - 2 * ang[1])))\n",
        "display(ddang_0)"
      ],
      "metadata": {
        "colab": {
          "base_uri": "https://localhost:8080/",
          "height": 57
        },
        "id": "yc0JPMx7qruW",
        "outputId": "9a95d0d7-d54a-4d77-f27d-4b5d2f3c9a69"
      },
      "execution_count": 8,
      "outputs": [
        {
          "output_type": "display_data",
          "data": {
            "text/plain": [
              "-g⋅m₁⋅sin(a₀ - 2⋅a₁) - g⋅(2⋅m₀ + m₁)⋅sin(a₀) - 2⋅m₁⋅(2⋅L₀⋅da₀⋅cos(a₀ - a₁) + 2\n",
              "──────────────────────────────────────────────────────────────────────────────\n",
              "                                L₀⋅(2⋅m₀ - m₁⋅cos(2⋅a₀ - 2⋅a₁) + m₁)          \n",
              "\n",
              "⋅L₁⋅da₁)⋅sin(a₀ - a₁)\n",
              "─────────────────────\n",
              "                     "
            ],
            "image/png": "[encoded data removed]",
            "text/latex": "$\\displaystyle \\frac{- g m_{1} \\sin{\\left(a_{0} - 2 a_{1} \\right)} - g \\left(2 m_{0} + m_{1}\\right) \\sin{\\left(a_{0} \\right)} - 2 m_{1} \\cdot \\left(2 L_{0} da_{0} \\cos{\\left(a_{0} - a_{1} \\right)} + 2 L_{1} da_{1}\\right) \\sin{\\left(a_{0} - a_{1} \\right)}}{L_{0} \\cdot \\left(2 m_{0} - m_{1} \\cos{\\left(2 a_{0} - 2 a_{1} \\right)} + m_{1}\\right)}$"
          },
          "metadata": {}
        }
      ]
    },
    {
      "cell_type": "code",
      "source": [
        "# Angular acceleration of the second link\n",
        "ddang_1 = (\n",
        "    2\n",
        "    * sf.sin(ang[0] - ang[1])\n",
        "    * (\n",
        "        dang[0] ** 2 * L[0] * (m[0] + m[1])\n",
        "        + g * (m[0] + m[1]) * sf.cos(ang[0])\n",
        "        + dang[1] ** 2 * L[1] * m[1] * sf.cos(ang[0] - ang[1])\n",
        "    )\n",
        ") / (L[1] * (2 * m[0] + m[1] - m[1] * sf.cos(2 * ang[0] - 2 * ang[1])))\n",
        "display(ddang_1)"
      ],
      "metadata": {
        "colab": {
          "base_uri": "https://localhost:8080/",
          "height": 60
        },
        "id": "mJVNT_OBqtvi",
        "outputId": "5f6ce404-dd9e-43dc-a4d2-867c369c3f33"
      },
      "execution_count": 9,
      "outputs": [
        {
          "output_type": "display_data",
          "data": {
            "text/plain": [
              "  ⎛      2                   2                                      ⎞         \n",
              "2⋅⎝L₀⋅da₀ ⋅(m₀ + m₁) + L₁⋅da₁ ⋅m₁⋅cos(a₀ - a₁) + g⋅(m₀ + m₁)⋅cos(a₀)⎠⋅sin(a₀ -\n",
              "──────────────────────────────────────────────────────────────────────────────\n",
              "                       L₁⋅(2⋅m₀ - m₁⋅cos(2⋅a₀ - 2⋅a₁) + m₁)                   \n",
              "\n",
              "    \n",
              " a₁)\n",
              "────\n",
              "    "
            ],
            "image/png": "[encoded data removed]",
            "text/latex": "$\\displaystyle \\frac{2 \\left(L_{0} da_{0}^{2} \\left(m_{0} + m_{1}\\right) + L_{1} da_{1}^{2} m_{1} \\cos{\\left(a_{0} - a_{1} \\right)} + g \\left(m_{0} + m_{1}\\right) \\cos{\\left(a_{0} \\right)}\\right) \\sin{\\left(a_{0} - a_{1} \\right)}}{L_{1} \\cdot \\left(2 m_{0} - m_{1} \\cos{\\left(2 a_{0} - 2 a_{1} \\right)} + m_{1}\\right)}$"
          },
          "metadata": {}
        }
      ]
    },
    {
      "cell_type": "code",
      "source": [
        "# Organize the input symbols into a Values hierarchy:\n",
        "inputs = Values()\n",
        "\n",
        "inputs[\"ang\"] = ang\n",
        "inputs[\"dang\"] = dang\n",
        "\n",
        "with inputs.scope(\"constants\"):\n",
        "    inputs[\"g\"] = g\n",
        "\n",
        "with inputs.scope(\"params\"):\n",
        "    inputs[\"L\"] = L\n",
        "    inputs[\"m\"] = m\n",
        "\n",
        "display(inputs)"
      ],
      "metadata": {
        "colab": {
          "base_uri": "https://localhost:8080/",
          "height": 208
        },
        "id": "QBVkOSQyqwX_",
        "outputId": "c6d60645-a1e1-4176-98df-9a5591a75131"
      },
      "execution_count": 10,
      "outputs": [
        {
          "output_type": "display_data",
          "data": {
            "text/plain": [
              "Values(\n",
              "  ang: [a0, a1],\n",
              "  dang: [da0, da1],\n",
              "  constants:   Values(\n",
              "    g: g,\n",
              "  ),\n",
              "  params:   Values(\n",
              "    L: [L0, L1],\n",
              "    m: [m0, m1],\n",
              "  ),\n",
              ")"
            ]
          },
          "metadata": {}
        }
      ]
    },
    {
      "cell_type": "code",
      "source": [
        "# The output will simply be a 2-vector of the angular accelerations:\n",
        "outputs = Values(ddang=sf.V2(ddang_0, ddang_1))\n",
        "\n",
        "display(outputs)"
      ],
      "metadata": {
        "colab": {
          "base_uri": "https://localhost:8080/",
          "height": 121
        },
        "id": "MLVcur2qrCRX",
        "outputId": "da8f2fde-0e99-4d10-91a4-9de652aeec64"
      },
      "execution_count": 11,
      "outputs": [
        {
          "output_type": "display_data",
          "data": {
            "text/plain": [
              "Values(\n",
              "  ddang: [(-g*(2*m0 + m1)*sin(a0) + g*sin(-a0 + 2*a1)*m1 + 2*sin(-a0 + a1)*m1*(2*L1*da1 + 2*cos(-a0 + a1)*L0*da0))/(L0*(2*m0 + m1 - cos(-2*a0 + 2*a1)*m1))]\n",
              "[-2*sin(-a0 + a1)*(g*(m0 + m1)*cos(a0) + (m0 + m1)*L0*da0**2 + cos(-a0 + a1)*m1*L1*da1**2)/(L1*(2*m0 + m1 - cos(-2*a0 + 2*a1)*m1))],\n",
              ")"
            ]
          },
          "metadata": {}
        }
      ]
    },
    {
      "cell_type": "code",
      "source": [
        "# Run code generation to produce an executable module (in a temp directory if none provided):\n",
        "double_pendulum = codegen.Codegen(\n",
        "    inputs=inputs,\n",
        "    outputs=outputs,\n",
        "    config=codegen.CppConfig(),\n",
        "    name=\"double_pendulum\",\n",
        "    return_key=\"ddang\",\n",
        ")\n",
        "double_pendulum_data = double_pendulum.generate_function()\n",
        "\n",
        "# Print what we generated\n",
        "print(\"Files generated in {}:\\n\".format(double_pendulum_data.output_dir))\n",
        "for f in double_pendulum_data.generated_files:\n",
        "    print(\"  |- {}\".format(os.path.relpath(f, double_pendulum_data.output_dir)))"
      ],
      "metadata": {
        "colab": {
          "base_uri": "https://localhost:8080/"
        },
        "id": "XBh3fK2brGzH",
        "outputId": "7213a5d8-55aa-479e-a0ec-cb7f4df10177"
      },
      "execution_count": 12,
      "outputs": [
        {
          "output_type": "stream",
          "name": "stdout",
          "text": [
            "Files generated in /tmp/sf_codegen_double_pendulum_37wmnixm:\n",
            "\n",
            "  |- lcmtypes/double_pendulum.lcm\n",
            "  |- cpp/symforce/sym/double_pendulum.h\n"
          ]
        }
      ]
    },
    {
      "cell_type": "code",
      "source": [
        "display_code_file(double_pendulum_data.function_dir / \"double_pendulum.h\", \"C++\")"
      ],
      "metadata": {
        "colab": {
          "base_uri": "https://localhost:8080/",
          "height": 1000
        },
        "id": "RIexCEY-rJTk",
        "outputId": "74eb6294-32ad-4d81-e7e6-0f93ba5328bb"
      },
      "execution_count": 13,
      "outputs": [
        {
          "output_type": "display_data",
          "data": {
            "text/plain": [
              "<IPython.core.display.HTML object>"
            ],
            "text/html": [
              "<div class=\"highlight\" style=\"background: #f8f8f8\"><pre style=\"line-height: 125%\"><span></span><span style=\"color: #408080; font-style: italic\">// -----------------------------------------------------------------------------</span>\n",
              "<span style=\"color: #408080; font-style: italic\">// This file was autogenerated by symforce from template:</span>\n",
              "<span style=\"color: #408080; font-style: italic\">//     function/FUNCTION.h.jinja</span>\n",
              "<span style=\"color: #408080; font-style: italic\">// Do NOT modify by hand.</span>\n",
              "<span style=\"color: #408080; font-style: italic\">// -----------------------------------------------------------------------------</span>\n",
              "\n",
              "<span style=\"color: #BC7A00\">#pragma once</span>\n",
              "\n",
              "<span style=\"color: #BC7A00\">#include</span> <span style=\"color: #408080; font-style: italic\">&lt;Eigen/Dense&gt;</span><span style=\"color: #BC7A00\"></span>\n",
              "\n",
              "<span style=\"color: #BC7A00\">#include</span> <span style=\"color: #408080; font-style: italic\">&lt;lcmtypes/sym/constants_t.hpp&gt;</span><span style=\"color: #BC7A00\"></span>\n",
              "<span style=\"color: #BC7A00\">#include</span> <span style=\"color: #408080; font-style: italic\">&lt;lcmtypes/sym/params_t.hpp&gt;</span><span style=\"color: #BC7A00\"></span>\n",
              "\n",
              "<span style=\"color: #008000; font-weight: bold\">namespace</span> sym {\n",
              "\n",
              "<span style=\"color: #408080; font-style: italic\">/**</span>\n",
              "<span style=\"color: #408080; font-style: italic\"> * This function was autogenerated. Do not modify by hand.</span>\n",
              "<span style=\"color: #408080; font-style: italic\"> *</span>\n",
              "<span style=\"color: #408080; font-style: italic\"> * Args:</span>\n",
              "<span style=\"color: #408080; font-style: italic\"> *     ang: Matrix12</span>\n",
              "<span style=\"color: #408080; font-style: italic\"> *     dang: Matrix12</span>\n",
              "<span style=\"color: #408080; font-style: italic\"> *     constants: Values</span>\n",
              "<span style=\"color: #408080; font-style: italic\"> *     params: Values</span>\n",
              "<span style=\"color: #408080; font-style: italic\"> *</span>\n",
              "<span style=\"color: #408080; font-style: italic\"> * Outputs:</span>\n",
              "<span style=\"color: #408080; font-style: italic\"> *     ddang: Matrix21</span>\n",
              "<span style=\"color: #408080; font-style: italic\"> */</span>\n",
              "<span style=\"color: #008000; font-weight: bold\">template</span> <span style=\"color: #666666\">&lt;</span><span style=\"color: #008000; font-weight: bold\">typename</span> Scalar<span style=\"color: #666666\">&gt;</span>\n",
              "Eigen<span style=\"color: #666666\">::</span>Matrix<span style=\"color: #666666\">&lt;</span>Scalar, <span style=\"color: #666666\">2</span>, <span style=\"color: #666666\">1&gt;</span> DoublePendulum(<span style=\"color: #008000; font-weight: bold\">const</span> Eigen<span style=\"color: #666666\">::</span>Matrix<span style=\"color: #666666\">&lt;</span>Scalar, <span style=\"color: #666666\">1</span>, <span style=\"color: #666666\">2&gt;&amp;</span> ang,\n",
              "                                           <span style=\"color: #008000; font-weight: bold\">const</span> Eigen<span style=\"color: #666666\">::</span>Matrix<span style=\"color: #666666\">&lt;</span>Scalar, <span style=\"color: #666666\">1</span>, <span style=\"color: #666666\">2&gt;&amp;</span> dang,\n",
              "                                           <span style=\"color: #008000; font-weight: bold\">const</span> sym<span style=\"color: #666666\">::</span>constants_t<span style=\"color: #666666\">&amp;</span> constants,\n",
              "                                           <span style=\"color: #008000; font-weight: bold\">const</span> sym<span style=\"color: #666666\">::</span>params_t<span style=\"color: #666666\">&amp;</span> params) {\n",
              "  <span style=\"color: #408080; font-style: italic\">// Total ops: 50</span>\n",
              "\n",
              "  <span style=\"color: #408080; font-style: italic\">// Input arrays</span>\n",
              "\n",
              "  <span style=\"color: #408080; font-style: italic\">// Intermediate terms (8)</span>\n",
              "  <span style=\"color: #008000; font-weight: bold\">const</span> Scalar _tmp0 <span style=\"color: #666666\">=</span> <span style=\"color: #666666\">2</span> <span style=\"color: #666666\">*</span> ang(<span style=\"color: #666666\">0</span>, <span style=\"color: #666666\">1</span>);\n",
              "  <span style=\"color: #008000; font-weight: bold\">const</span> Scalar _tmp1 <span style=\"color: #666666\">=</span> <span style=\"color: #666666\">2</span> <span style=\"color: #666666\">*</span> params.m.data()[<span style=\"color: #666666\">0</span>] <span style=\"color: #666666\">+</span> params.m.data()[<span style=\"color: #666666\">1</span>];\n",
              "  <span style=\"color: #008000; font-weight: bold\">const</span> Scalar _tmp2 <span style=\"color: #666666\">=</span> Scalar(<span style=\"color: #666666\">1.0</span>) <span style=\"color: #666666\">/</span> (_tmp1 <span style=\"color: #666666\">-</span> params.m.data()[<span style=\"color: #666666\">1</span>] <span style=\"color: #666666\">*</span> std<span style=\"color: #666666\">::</span>cos(_tmp0 <span style=\"color: #666666\">-</span> <span style=\"color: #666666\">2</span> <span style=\"color: #666666\">*</span> ang(<span style=\"color: #666666\">0</span>, <span style=\"color: #666666\">0</span>)));\n",
              "  <span style=\"color: #008000; font-weight: bold\">const</span> Scalar _tmp3 <span style=\"color: #666666\">=</span> <span style=\"color: #666666\">-</span>ang(<span style=\"color: #666666\">0</span>, <span style=\"color: #666666\">0</span>);\n",
              "  <span style=\"color: #008000; font-weight: bold\">const</span> Scalar _tmp4 <span style=\"color: #666666\">=</span> _tmp3 <span style=\"color: #666666\">+</span> ang(<span style=\"color: #666666\">0</span>, <span style=\"color: #666666\">1</span>);\n",
              "  <span style=\"color: #008000; font-weight: bold\">const</span> Scalar _tmp5 <span style=\"color: #666666\">=</span> std<span style=\"color: #666666\">::</span>cos(_tmp4);\n",
              "  <span style=\"color: #008000; font-weight: bold\">const</span> Scalar _tmp6 <span style=\"color: #666666\">=</span> <span style=\"color: #666666\">2</span> <span style=\"color: #666666\">*</span> std<span style=\"color: #666666\">::</span>sin(_tmp4);\n",
              "  <span style=\"color: #008000; font-weight: bold\">const</span> Scalar _tmp7 <span style=\"color: #666666\">=</span> params.m.data()[<span style=\"color: #666666\">0</span>] <span style=\"color: #666666\">+</span> params.m.data()[<span style=\"color: #666666\">1</span>];\n",
              "\n",
              "  <span style=\"color: #408080; font-style: italic\">// Output terms (1)</span>\n",
              "  Eigen<span style=\"color: #666666\">::</span>Matrix<span style=\"color: #666666\">&lt;</span>Scalar, <span style=\"color: #666666\">2</span>, <span style=\"color: #666666\">1&gt;</span> _ddang;\n",
              "\n",
              "  _ddang(<span style=\"color: #666666\">0</span>, <span style=\"color: #666666\">0</span>) <span style=\"color: #666666\">=</span>\n",
              "      _tmp2 <span style=\"color: #666666\">*</span>\n",
              "      (<span style=\"color: #666666\">-</span>_tmp1 <span style=\"color: #666666\">*</span> constants.g <span style=\"color: #666666\">*</span> std<span style=\"color: #666666\">::</span>sin(ang(<span style=\"color: #666666\">0</span>, <span style=\"color: #666666\">0</span>)) <span style=\"color: #666666\">+</span>\n",
              "       _tmp6 <span style=\"color: #666666\">*</span> params.m.data()[<span style=\"color: #666666\">1</span>] <span style=\"color: #666666\">*</span>\n",
              "           (<span style=\"color: #666666\">2</span> <span style=\"color: #666666\">*</span> _tmp5 <span style=\"color: #666666\">*</span> dang(<span style=\"color: #666666\">0</span>, <span style=\"color: #666666\">0</span>) <span style=\"color: #666666\">*</span> params.L.data()[<span style=\"color: #666666\">0</span>] <span style=\"color: #666666\">+</span> <span style=\"color: #666666\">2</span> <span style=\"color: #666666\">*</span> dang(<span style=\"color: #666666\">0</span>, <span style=\"color: #666666\">1</span>) <span style=\"color: #666666\">*</span> params.L.data()[<span style=\"color: #666666\">1</span>]) <span style=\"color: #666666\">+</span>\n",
              "       constants.g <span style=\"color: #666666\">*</span> params.m.data()[<span style=\"color: #666666\">1</span>] <span style=\"color: #666666\">*</span> std<span style=\"color: #666666\">::</span>sin(_tmp0 <span style=\"color: #666666\">+</span> _tmp3)) <span style=\"color: #666666\">/</span>\n",
              "      params.L.data()[<span style=\"color: #666666\">0</span>];\n",
              "  _ddang(<span style=\"color: #666666\">1</span>, <span style=\"color: #666666\">0</span>) <span style=\"color: #666666\">=</span>\n",
              "      <span style=\"color: #666666\">-</span>_tmp2 <span style=\"color: #666666\">*</span> _tmp6 <span style=\"color: #666666\">*</span>\n",
              "      (_tmp5 <span style=\"color: #666666\">*</span> std<span style=\"color: #666666\">::</span>pow(dang(<span style=\"color: #666666\">0</span>, <span style=\"color: #666666\">1</span>), Scalar(<span style=\"color: #666666\">2</span>)) <span style=\"color: #666666\">*</span> params.L.data()[<span style=\"color: #666666\">1</span>] <span style=\"color: #666666\">*</span> params.m.data()[<span style=\"color: #666666\">1</span>] <span style=\"color: #666666\">+</span>\n",
              "       _tmp7 <span style=\"color: #666666\">*</span> constants.g <span style=\"color: #666666\">*</span> std<span style=\"color: #666666\">::</span>cos(ang(<span style=\"color: #666666\">0</span>, <span style=\"color: #666666\">0</span>)) <span style=\"color: #666666\">+</span>\n",
              "       _tmp7 <span style=\"color: #666666\">*</span> std<span style=\"color: #666666\">::</span>pow(dang(<span style=\"color: #666666\">0</span>, <span style=\"color: #666666\">0</span>), Scalar(<span style=\"color: #666666\">2</span>)) <span style=\"color: #666666\">*</span> params.L.data()[<span style=\"color: #666666\">0</span>]) <span style=\"color: #666666\">/</span>\n",
              "      params.L.data()[<span style=\"color: #666666\">1</span>];\n",
              "\n",
              "  <span style=\"color: #008000; font-weight: bold\">return</span> _ddang;\n",
              "}  <span style=\"color: #408080; font-style: italic\">// NOLINT(readability/fn_size)</span>\n",
              "\n",
              "<span style=\"color: #408080; font-style: italic\">// NOLINTNEXTLINE(readability/fn_size)</span>\n",
              "}  <span style=\"color: #408080; font-style: italic\">// namespace sym</span>\n",
              "</pre></div>\n"
            ]
          },
          "metadata": {}
        }
      ]
    },
    {
      "cell_type": "code",
      "source": [
        "# can also generate functions with different function declarations:\n",
        "# Function using structs as inputs and outputs (returned as pointer arg)\n",
        "input_values = Values(inputs=inputs)\n",
        "output_values = Values(outputs=outputs)\n",
        "namespace = \"double_pendulum\"\n",
        "double_pendulum_values = codegen.Codegen(\n",
        "    inputs=input_values,\n",
        "    outputs=output_values,\n",
        "    config=codegen.CppConfig(),\n",
        "    name=\"double_pendulum\",\n",
        ")\n",
        "double_pendulum_values_data = double_pendulum_values.generate_function(\n",
        "    namespace=namespace,\n",
        ")\n",
        "\n",
        "# Print what we generated. Note the nested structs that were automatically\n",
        "# generated.\n",
        "print(\"Files generated in {}:\\n\".format(double_pendulum_values_data.output_dir))\n",
        "for f in double_pendulum_values_data.generated_files:\n",
        "    print(\"  |- {}\".format(os.path.relpath(f, double_pendulum_values_data.output_dir)))\n",
        "\n",
        "display_code_file(\n",
        "    double_pendulum_values_data.function_dir / \"double_pendulum.h\",\n",
        "    \"C++\",\n",
        ")"
      ],
      "metadata": {
        "colab": {
          "base_uri": "https://localhost:8080/",
          "height": 1000
        },
        "id": "VfIBvS_ErS2l",
        "outputId": "05d9272f-da9d-45df-d643-f94de5486e72"
      },
      "execution_count": 14,
      "outputs": [
        {
          "output_type": "stream",
          "name": "stdout",
          "text": [
            "Files generated in /tmp/sf_codegen_double_pendulum_7481zpoh:\n",
            "\n",
            "  |- lcmtypes/double_pendulum.lcm\n",
            "  |- cpp/symforce/double_pendulum/double_pendulum.h\n"
          ]
        },
        {
          "output_type": "display_data",
          "data": {
            "text/plain": [
              "<IPython.core.display.HTML object>"
            ],
            "text/html": [
              "<div class=\"highlight\" style=\"background: #f8f8f8\"><pre style=\"line-height: 125%\"><span></span><span style=\"color: #408080; font-style: italic\">// -----------------------------------------------------------------------------</span>\n",
              "<span style=\"color: #408080; font-style: italic\">// This file was autogenerated by symforce from template:</span>\n",
              "<span style=\"color: #408080; font-style: italic\">//     function/FUNCTION.h.jinja</span>\n",
              "<span style=\"color: #408080; font-style: italic\">// Do NOT modify by hand.</span>\n",
              "<span style=\"color: #408080; font-style: italic\">// -----------------------------------------------------------------------------</span>\n",
              "\n",
              "<span style=\"color: #BC7A00\">#pragma once</span>\n",
              "\n",
              "<span style=\"color: #BC7A00\">#include</span> <span style=\"color: #408080; font-style: italic\">&lt;Eigen/Dense&gt;</span><span style=\"color: #BC7A00\"></span>\n",
              "\n",
              "<span style=\"color: #BC7A00\">#include</span> <span style=\"color: #408080; font-style: italic\">&lt;lcmtypes/double_pendulum/inputs_t.hpp&gt;</span><span style=\"color: #BC7A00\"></span>\n",
              "<span style=\"color: #BC7A00\">#include</span> <span style=\"color: #408080; font-style: italic\">&lt;lcmtypes/double_pendulum/outputs_t.hpp&gt;</span><span style=\"color: #BC7A00\"></span>\n",
              "\n",
              "<span style=\"color: #008000; font-weight: bold\">namespace</span> double_pendulum {\n",
              "\n",
              "<span style=\"color: #408080; font-style: italic\">/**</span>\n",
              "<span style=\"color: #408080; font-style: italic\"> * This function was autogenerated. Do not modify by hand.</span>\n",
              "<span style=\"color: #408080; font-style: italic\"> *</span>\n",
              "<span style=\"color: #408080; font-style: italic\"> * Args:</span>\n",
              "<span style=\"color: #408080; font-style: italic\"> *     inputs: Values</span>\n",
              "<span style=\"color: #408080; font-style: italic\"> *</span>\n",
              "<span style=\"color: #408080; font-style: italic\"> * Outputs:</span>\n",
              "<span style=\"color: #408080; font-style: italic\"> *     outputs: Values</span>\n",
              "<span style=\"color: #408080; font-style: italic\"> */</span>\n",
              "<span style=\"color: #008000; font-weight: bold\">template</span> <span style=\"color: #666666\">&lt;</span><span style=\"color: #008000; font-weight: bold\">typename</span> Scalar<span style=\"color: #666666\">&gt;</span>\n",
              "<span style=\"color: #B00040\">void</span> DoublePendulum(<span style=\"color: #008000; font-weight: bold\">const</span> double_pendulum<span style=\"color: #666666\">::</span>inputs_t<span style=\"color: #666666\">&amp;</span> inputs,\n",
              "                    double_pendulum<span style=\"color: #666666\">::</span>outputs_t<span style=\"color: #666666\">*</span> <span style=\"color: #008000; font-weight: bold\">const</span> outputs <span style=\"color: #666666\">=</span> <span style=\"color: #008000; font-weight: bold\">nullptr</span>) {\n",
              "  <span style=\"color: #408080; font-style: italic\">// Total ops: 50</span>\n",
              "\n",
              "  <span style=\"color: #408080; font-style: italic\">// Input arrays</span>\n",
              "\n",
              "  <span style=\"color: #408080; font-style: italic\">// Intermediate terms (8)</span>\n",
              "  <span style=\"color: #008000; font-weight: bold\">const</span> Scalar _tmp0 <span style=\"color: #666666\">=</span> <span style=\"color: #666666\">2</span> <span style=\"color: #666666\">*</span> inputs.ang.data()[<span style=\"color: #666666\">1</span>];\n",
              "  <span style=\"color: #008000; font-weight: bold\">const</span> Scalar _tmp1 <span style=\"color: #666666\">=</span> <span style=\"color: #666666\">2</span> <span style=\"color: #666666\">*</span> inputs.params.m.data()[<span style=\"color: #666666\">0</span>] <span style=\"color: #666666\">+</span> inputs.params.m.data()[<span style=\"color: #666666\">1</span>];\n",
              "  <span style=\"color: #008000; font-weight: bold\">const</span> Scalar _tmp2 <span style=\"color: #666666\">=</span> Scalar(<span style=\"color: #666666\">1.0</span>) <span style=\"color: #666666\">/</span> (_tmp1 <span style=\"color: #666666\">-</span> inputs.params.m.data()[<span style=\"color: #666666\">1</span>] <span style=\"color: #666666\">*</span>\n",
              "                                                  std<span style=\"color: #666666\">::</span>cos(_tmp0 <span style=\"color: #666666\">-</span> <span style=\"color: #666666\">2</span> <span style=\"color: #666666\">*</span> inputs.ang.data()[<span style=\"color: #666666\">0</span>]));\n",
              "  <span style=\"color: #008000; font-weight: bold\">const</span> Scalar _tmp3 <span style=\"color: #666666\">=</span> <span style=\"color: #666666\">-</span>inputs.ang.data()[<span style=\"color: #666666\">0</span>];\n",
              "  <span style=\"color: #008000; font-weight: bold\">const</span> Scalar _tmp4 <span style=\"color: #666666\">=</span> _tmp3 <span style=\"color: #666666\">+</span> inputs.ang.data()[<span style=\"color: #666666\">1</span>];\n",
              "  <span style=\"color: #008000; font-weight: bold\">const</span> Scalar _tmp5 <span style=\"color: #666666\">=</span> std<span style=\"color: #666666\">::</span>cos(_tmp4);\n",
              "  <span style=\"color: #008000; font-weight: bold\">const</span> Scalar _tmp6 <span style=\"color: #666666\">=</span> <span style=\"color: #666666\">2</span> <span style=\"color: #666666\">*</span> std<span style=\"color: #666666\">::</span>sin(_tmp4);\n",
              "  <span style=\"color: #008000; font-weight: bold\">const</span> Scalar _tmp7 <span style=\"color: #666666\">=</span> inputs.params.m.data()[<span style=\"color: #666666\">0</span>] <span style=\"color: #666666\">+</span> inputs.params.m.data()[<span style=\"color: #666666\">1</span>];\n",
              "\n",
              "  <span style=\"color: #408080; font-style: italic\">// Output terms (1)</span>\n",
              "  <span style=\"color: #008000; font-weight: bold\">if</span> (outputs <span style=\"color: #666666\">!=</span> <span style=\"color: #008000; font-weight: bold\">nullptr</span>) {\n",
              "    double_pendulum<span style=\"color: #666666\">::</span>outputs_t<span style=\"color: #666666\">&amp;</span> _outputs <span style=\"color: #666666\">=</span> (<span style=\"color: #666666\">*</span>outputs);\n",
              "\n",
              "    _outputs.ddang.data()[<span style=\"color: #666666\">0</span>] <span style=\"color: #666666\">=</span>\n",
              "        _tmp2 <span style=\"color: #666666\">*</span>\n",
              "        (<span style=\"color: #666666\">-</span>_tmp1 <span style=\"color: #666666\">*</span> inputs.constants.g <span style=\"color: #666666\">*</span> std<span style=\"color: #666666\">::</span>sin(inputs.ang.data()[<span style=\"color: #666666\">0</span>]) <span style=\"color: #666666\">+</span>\n",
              "         _tmp6 <span style=\"color: #666666\">*</span> inputs.params.m.data()[<span style=\"color: #666666\">1</span>] <span style=\"color: #666666\">*</span>\n",
              "             (<span style=\"color: #666666\">2</span> <span style=\"color: #666666\">*</span> _tmp5 <span style=\"color: #666666\">*</span> inputs.dang.data()[<span style=\"color: #666666\">0</span>] <span style=\"color: #666666\">*</span> inputs.params.L.data()[<span style=\"color: #666666\">0</span>] <span style=\"color: #666666\">+</span>\n",
              "              <span style=\"color: #666666\">2</span> <span style=\"color: #666666\">*</span> inputs.dang.data()[<span style=\"color: #666666\">1</span>] <span style=\"color: #666666\">*</span> inputs.params.L.data()[<span style=\"color: #666666\">1</span>]) <span style=\"color: #666666\">+</span>\n",
              "         inputs.constants.g <span style=\"color: #666666\">*</span> inputs.params.m.data()[<span style=\"color: #666666\">1</span>] <span style=\"color: #666666\">*</span> std<span style=\"color: #666666\">::</span>sin(_tmp0 <span style=\"color: #666666\">+</span> _tmp3)) <span style=\"color: #666666\">/</span>\n",
              "        inputs.params.L.data()[<span style=\"color: #666666\">0</span>];\n",
              "    _outputs.ddang.data()[<span style=\"color: #666666\">1</span>] <span style=\"color: #666666\">=</span>\n",
              "        <span style=\"color: #666666\">-</span>_tmp2 <span style=\"color: #666666\">*</span> _tmp6 <span style=\"color: #666666\">*</span>\n",
              "        (_tmp5 <span style=\"color: #666666\">*</span> std<span style=\"color: #666666\">::</span>pow(inputs.dang.data()[<span style=\"color: #666666\">1</span>], Scalar(<span style=\"color: #666666\">2</span>)) <span style=\"color: #666666\">*</span> inputs.params.L.data()[<span style=\"color: #666666\">1</span>] <span style=\"color: #666666\">*</span>\n",
              "             inputs.params.m.data()[<span style=\"color: #666666\">1</span>] <span style=\"color: #666666\">+</span>\n",
              "         _tmp7 <span style=\"color: #666666\">*</span> inputs.constants.g <span style=\"color: #666666\">*</span> std<span style=\"color: #666666\">::</span>cos(inputs.ang.data()[<span style=\"color: #666666\">0</span>]) <span style=\"color: #666666\">+</span>\n",
              "         _tmp7 <span style=\"color: #666666\">*</span> std<span style=\"color: #666666\">::</span>pow(inputs.dang.data()[<span style=\"color: #666666\">0</span>], Scalar(<span style=\"color: #666666\">2</span>)) <span style=\"color: #666666\">*</span> inputs.params.L.data()[<span style=\"color: #666666\">0</span>]) <span style=\"color: #666666\">/</span>\n",
              "        inputs.params.L.data()[<span style=\"color: #666666\">1</span>];\n",
              "  }\n",
              "}  <span style=\"color: #408080; font-style: italic\">// NOLINT(readability/fn_size)</span>\n",
              "\n",
              "<span style=\"color: #408080; font-style: italic\">// NOLINTNEXTLINE(readability/fn_size)</span>\n",
              "}  <span style=\"color: #408080; font-style: italic\">// namespace double_pendulum</span>\n",
              "</pre></div>\n"
            ]
          },
          "metadata": {}
        }
      ]
    },
    {
      "cell_type": "code",
      "source": [
        "# can generate the same function in other languages as well:\n",
        "namespace = \"double_pendulum\"\n",
        "double_pendulum_python = codegen.Codegen(\n",
        "    inputs=inputs,\n",
        "    outputs=outputs,\n",
        "    config=codegen.PythonConfig(use_eigen_types=False),\n",
        "    name=\"double_pendulum\",\n",
        "    return_key=\"ddang\",\n",
        ")\n",
        "double_pendulum_python_data = double_pendulum_python.generate_function(\n",
        "    namespace=namespace,\n",
        ")\n",
        "\n",
        "print(\"Files generated in {}:\\n\".format(double_pendulum_python_data.output_dir))\n",
        "for f in double_pendulum_python_data.generated_files:\n",
        "    print(\"  |- {}\".format(os.path.relpath(f, double_pendulum_python_data.output_dir)))\n",
        "\n",
        "display_code_file(\n",
        "    double_pendulum_python_data.function_dir / \"double_pendulum.py\",\n",
        "    \"python\",\n",
        ")"
      ],
      "metadata": {
        "colab": {
          "base_uri": "https://localhost:8080/",
          "height": 1000
        },
        "id": "2ZMCdmOkrXSQ",
        "outputId": "f2653c11-fa45-49f4-820d-8a4933722973"
      },
      "execution_count": 15,
      "outputs": [
        {
          "output_type": "stream",
          "name": "stdout",
          "text": [
            "Files generated in /tmp/sf_codegen_double_pendulum_c36x8cq1:\n",
            "\n",
            "  |- lcmtypes/double_pendulum.lcm\n",
            "  |- python/symforce/double_pendulum/double_pendulum.py\n",
            "  |- python/symforce/double_pendulum/__init__.py\n"
          ]
        },
        {
          "output_type": "display_data",
          "data": {
            "text/plain": [
              "<IPython.core.display.HTML object>"
            ],
            "text/html": [
              "<div class=\"highlight\" style=\"background: #f8f8f8\"><pre style=\"line-height: 125%\"><span></span><span style=\"color: #408080; font-style: italic\"># -----------------------------------------------------------------------------</span>\n",
              "<span style=\"color: #408080; font-style: italic\"># This file was autogenerated by symforce from template:</span>\n",
              "<span style=\"color: #408080; font-style: italic\">#     function/FUNCTION.py.jinja</span>\n",
              "<span style=\"color: #408080; font-style: italic\"># Do NOT modify by hand.</span>\n",
              "<span style=\"color: #408080; font-style: italic\"># -----------------------------------------------------------------------------</span>\n",
              "\n",
              "<span style=\"color: #408080; font-style: italic\"># pylint: disable=too-many-locals,too-many-lines,too-many-statements,unused-argument,unused-import</span>\n",
              "\n",
              "<span style=\"color: #008000; font-weight: bold\">import</span> <span style=\"color: #0000FF; font-weight: bold\">math</span>\n",
              "<span style=\"color: #008000; font-weight: bold\">import</span> <span style=\"color: #0000FF; font-weight: bold\">typing</span> <span style=\"color: #008000; font-weight: bold\">as</span> <span style=\"color: #0000FF; font-weight: bold\">T</span>\n",
              "\n",
              "<span style=\"color: #008000; font-weight: bold\">import</span> <span style=\"color: #0000FF; font-weight: bold\">numpy</span>\n",
              "\n",
              "<span style=\"color: #008000; font-weight: bold\">import</span> <span style=\"color: #0000FF; font-weight: bold\">sym</span>\n",
              "\n",
              "\n",
              "<span style=\"color: #008000; font-weight: bold\">def</span> <span style=\"color: #0000FF\">double_pendulum</span>(ang, dang, constants, params):\n",
              "    <span style=\"color: #408080; font-style: italic\"># type: (numpy.ndarray, numpy.ndarray, T.Any, T.Any) -&gt; numpy.ndarray</span>\n",
              "    <span style=\"color: #BA2121; font-style: italic\">&quot;&quot;&quot;</span>\n",
              "<span style=\"color: #BA2121; font-style: italic\">    This function was autogenerated. Do not modify by hand.</span>\n",
              "\n",
              "<span style=\"color: #BA2121; font-style: italic\">    Args:</span>\n",
              "<span style=\"color: #BA2121; font-style: italic\">        ang: Matrix12</span>\n",
              "<span style=\"color: #BA2121; font-style: italic\">        dang: Matrix12</span>\n",
              "<span style=\"color: #BA2121; font-style: italic\">        constants: Values</span>\n",
              "<span style=\"color: #BA2121; font-style: italic\">        params: Values</span>\n",
              "\n",
              "<span style=\"color: #BA2121; font-style: italic\">    Outputs:</span>\n",
              "<span style=\"color: #BA2121; font-style: italic\">        ddang: Matrix21</span>\n",
              "<span style=\"color: #BA2121; font-style: italic\">    &quot;&quot;&quot;</span>\n",
              "\n",
              "    <span style=\"color: #408080; font-style: italic\"># Total ops: 50</span>\n",
              "\n",
              "    <span style=\"color: #408080; font-style: italic\"># Input arrays</span>\n",
              "    <span style=\"color: #008000; font-weight: bold\">if</span> ang<span style=\"color: #666666\">.</span>shape <span style=\"color: #666666\">==</span> (<span style=\"color: #666666\">2</span>,):\n",
              "        ang <span style=\"color: #666666\">=</span> ang<span style=\"color: #666666\">.</span>reshape((<span style=\"color: #666666\">1</span>, <span style=\"color: #666666\">2</span>))\n",
              "    <span style=\"color: #008000; font-weight: bold\">elif</span> ang<span style=\"color: #666666\">.</span>shape <span style=\"color: #666666\">!=</span> (<span style=\"color: #666666\">1</span>, <span style=\"color: #666666\">2</span>):\n",
              "        <span style=\"color: #008000; font-weight: bold\">raise</span> <span style=\"color: #D2413A; font-weight: bold\">IndexError</span>(\n",
              "            <span style=\"color: #BA2121\">&quot;ang is expected to have shape (1, 2) or (2,); instead had shape </span><span style=\"color: #BB6688; font-weight: bold\">{}</span><span style=\"color: #BA2121\">&quot;</span><span style=\"color: #666666\">.</span>format(ang<span style=\"color: #666666\">.</span>shape)\n",
              "        )\n",
              "\n",
              "    <span style=\"color: #008000; font-weight: bold\">if</span> dang<span style=\"color: #666666\">.</span>shape <span style=\"color: #666666\">==</span> (<span style=\"color: #666666\">2</span>,):\n",
              "        dang <span style=\"color: #666666\">=</span> dang<span style=\"color: #666666\">.</span>reshape((<span style=\"color: #666666\">1</span>, <span style=\"color: #666666\">2</span>))\n",
              "    <span style=\"color: #008000; font-weight: bold\">elif</span> dang<span style=\"color: #666666\">.</span>shape <span style=\"color: #666666\">!=</span> (<span style=\"color: #666666\">1</span>, <span style=\"color: #666666\">2</span>):\n",
              "        <span style=\"color: #008000; font-weight: bold\">raise</span> <span style=\"color: #D2413A; font-weight: bold\">IndexError</span>(\n",
              "            <span style=\"color: #BA2121\">&quot;dang is expected to have shape (1, 2) or (2,); instead had shape </span><span style=\"color: #BB6688; font-weight: bold\">{}</span><span style=\"color: #BA2121\">&quot;</span><span style=\"color: #666666\">.</span>format(dang<span style=\"color: #666666\">.</span>shape)\n",
              "        )\n",
              "\n",
              "    <span style=\"color: #408080; font-style: italic\"># Intermediate terms (8)</span>\n",
              "    _tmp0 <span style=\"color: #666666\">=</span> <span style=\"color: #666666\">2</span> <span style=\"color: #666666\">*</span> ang[<span style=\"color: #666666\">0</span>, <span style=\"color: #666666\">1</span>]\n",
              "    _tmp1 <span style=\"color: #666666\">=</span> <span style=\"color: #666666\">2</span> <span style=\"color: #666666\">*</span> params<span style=\"color: #666666\">.</span>m[<span style=\"color: #666666\">0</span>] <span style=\"color: #666666\">+</span> params<span style=\"color: #666666\">.</span>m[<span style=\"color: #666666\">1</span>]\n",
              "    _tmp2 <span style=\"color: #666666\">=</span> <span style=\"color: #666666\">1</span> <span style=\"color: #666666\">/</span> (_tmp1 <span style=\"color: #666666\">-</span> params<span style=\"color: #666666\">.</span>m[<span style=\"color: #666666\">1</span>] <span style=\"color: #666666\">*</span> math<span style=\"color: #666666\">.</span>cos(_tmp0 <span style=\"color: #666666\">-</span> <span style=\"color: #666666\">2</span> <span style=\"color: #666666\">*</span> ang[<span style=\"color: #666666\">0</span>, <span style=\"color: #666666\">0</span>]))\n",
              "    _tmp3 <span style=\"color: #666666\">=</span> <span style=\"color: #666666\">-</span>ang[<span style=\"color: #666666\">0</span>, <span style=\"color: #666666\">0</span>]\n",
              "    _tmp4 <span style=\"color: #666666\">=</span> _tmp3 <span style=\"color: #666666\">+</span> ang[<span style=\"color: #666666\">0</span>, <span style=\"color: #666666\">1</span>]\n",
              "    _tmp5 <span style=\"color: #666666\">=</span> math<span style=\"color: #666666\">.</span>cos(_tmp4)\n",
              "    _tmp6 <span style=\"color: #666666\">=</span> <span style=\"color: #666666\">2</span> <span style=\"color: #666666\">*</span> math<span style=\"color: #666666\">.</span>sin(_tmp4)\n",
              "    _tmp7 <span style=\"color: #666666\">=</span> params<span style=\"color: #666666\">.</span>m[<span style=\"color: #666666\">0</span>] <span style=\"color: #666666\">+</span> params<span style=\"color: #666666\">.</span>m[<span style=\"color: #666666\">1</span>]\n",
              "\n",
              "    <span style=\"color: #408080; font-style: italic\"># Output terms</span>\n",
              "    _ddang <span style=\"color: #666666\">=</span> numpy<span style=\"color: #666666\">.</span>zeros((<span style=\"color: #666666\">2</span>, <span style=\"color: #666666\">1</span>))\n",
              "    _ddang[<span style=\"color: #666666\">0</span>, <span style=\"color: #666666\">0</span>] <span style=\"color: #666666\">=</span> (\n",
              "        _tmp2\n",
              "        <span style=\"color: #666666\">*</span> (\n",
              "            <span style=\"color: #666666\">-</span>_tmp1 <span style=\"color: #666666\">*</span> constants<span style=\"color: #666666\">.</span>g <span style=\"color: #666666\">*</span> math<span style=\"color: #666666\">.</span>sin(ang[<span style=\"color: #666666\">0</span>, <span style=\"color: #666666\">0</span>])\n",
              "            <span style=\"color: #666666\">+</span> _tmp6\n",
              "            <span style=\"color: #666666\">*</span> params<span style=\"color: #666666\">.</span>m[<span style=\"color: #666666\">1</span>]\n",
              "            <span style=\"color: #666666\">*</span> (<span style=\"color: #666666\">2</span> <span style=\"color: #666666\">*</span> _tmp5 <span style=\"color: #666666\">*</span> dang[<span style=\"color: #666666\">0</span>, <span style=\"color: #666666\">0</span>] <span style=\"color: #666666\">*</span> params<span style=\"color: #666666\">.</span>L[<span style=\"color: #666666\">0</span>] <span style=\"color: #666666\">+</span> <span style=\"color: #666666\">2</span> <span style=\"color: #666666\">*</span> dang[<span style=\"color: #666666\">0</span>, <span style=\"color: #666666\">1</span>] <span style=\"color: #666666\">*</span> params<span style=\"color: #666666\">.</span>L[<span style=\"color: #666666\">1</span>])\n",
              "            <span style=\"color: #666666\">+</span> constants<span style=\"color: #666666\">.</span>g <span style=\"color: #666666\">*</span> params<span style=\"color: #666666\">.</span>m[<span style=\"color: #666666\">1</span>] <span style=\"color: #666666\">*</span> math<span style=\"color: #666666\">.</span>sin(_tmp0 <span style=\"color: #666666\">+</span> _tmp3)\n",
              "        )\n",
              "        <span style=\"color: #666666\">/</span> params<span style=\"color: #666666\">.</span>L[<span style=\"color: #666666\">0</span>]\n",
              "    )\n",
              "    _ddang[<span style=\"color: #666666\">1</span>, <span style=\"color: #666666\">0</span>] <span style=\"color: #666666\">=</span> (\n",
              "        <span style=\"color: #666666\">-</span>_tmp2\n",
              "        <span style=\"color: #666666\">*</span> _tmp6\n",
              "        <span style=\"color: #666666\">*</span> (\n",
              "            _tmp5 <span style=\"color: #666666\">*</span> dang[<span style=\"color: #666666\">0</span>, <span style=\"color: #666666\">1</span>] <span style=\"color: #666666\">**</span> <span style=\"color: #666666\">2</span> <span style=\"color: #666666\">*</span> params<span style=\"color: #666666\">.</span>L[<span style=\"color: #666666\">1</span>] <span style=\"color: #666666\">*</span> params<span style=\"color: #666666\">.</span>m[<span style=\"color: #666666\">1</span>]\n",
              "            <span style=\"color: #666666\">+</span> _tmp7 <span style=\"color: #666666\">*</span> constants<span style=\"color: #666666\">.</span>g <span style=\"color: #666666\">*</span> math<span style=\"color: #666666\">.</span>cos(ang[<span style=\"color: #666666\">0</span>, <span style=\"color: #666666\">0</span>])\n",
              "            <span style=\"color: #666666\">+</span> _tmp7 <span style=\"color: #666666\">*</span> dang[<span style=\"color: #666666\">0</span>, <span style=\"color: #666666\">0</span>] <span style=\"color: #666666\">**</span> <span style=\"color: #666666\">2</span> <span style=\"color: #666666\">*</span> params<span style=\"color: #666666\">.</span>L[<span style=\"color: #666666\">0</span>]\n",
              "        )\n",
              "        <span style=\"color: #666666\">/</span> params<span style=\"color: #666666\">.</span>L[<span style=\"color: #666666\">1</span>]\n",
              "    )\n",
              "    <span style=\"color: #008000; font-weight: bold\">return</span> _ddang\n",
              "</pre></div>\n"
            ]
          },
          "metadata": {}
        }
      ]
    },
    {
      "cell_type": "code",
      "source": [
        "constants_t = codegen_util.load_generated_lcmtype(\n",
        "    namespace, \"constants_t\", double_pendulum_python_data.python_types_dir\n",
        ")\n",
        "\n",
        "params_t = codegen_util.load_generated_lcmtype(\n",
        "    namespace, \"params_t\", double_pendulum_python_data.python_types_dir\n",
        ")\n",
        "\n",
        "ang = np.array([[0.0, 0.5]])\n",
        "dang = np.array([[0.0, 0.0]])\n",
        "consts = constants_t()\n",
        "consts.g = 9.81\n",
        "params = params_t()\n",
        "params.L = [0.5, 0.3]\n",
        "params.m = [0.3, 0.2]\n",
        "\n",
        "gen_module = codegen_util.load_generated_package(\n",
        "    namespace, double_pendulum_python_data.function_dir\n",
        ")\n",
        "gen_module.double_pendulum(ang, dang, consts, params)"
      ],
      "metadata": {
        "id": "sroE2qiJrca0",
        "outputId": "753cb108-4c3d-451f-e9d7-b87c82d2eae8",
        "colab": {
          "base_uri": "https://localhost:8080/"
        }
      },
      "execution_count": 16,
      "outputs": [
        {
          "output_type": "execute_result",
          "data": {
            "text/plain": [
              "array([[  4.77199518],\n",
              "       [-22.65691471]])"
            ]
          },
          "metadata": {},
          "execution_count": 16
        }
      ]
    }
  ]
}