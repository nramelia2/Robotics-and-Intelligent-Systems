{
  "nbformat": 4,
  "nbformat_minor": 0,
  "metadata": {
    "colab": {
      "provenance": []
    },
    "kernelspec": {
      "name": "python3",
      "display_name": "Python 3"
    },
    "language_info": {
      "name": "python"
    }
  },
  "cells": [
    {
      "cell_type": "code",
      "execution_count": 2,
      "metadata": {
        "colab": {
          "base_uri": "https://localhost:8080/"
        },
        "id": "1Wi5ZfmqmLFi",
        "outputId": "de38116d-440a-48a9-c315-b0c45e3465f0"
      },
      "outputs": [
        {
          "output_type": "stream",
          "name": "stdout",
          "text": [
            "Looking in indexes: https://pypi.org/simple, https://us-python.pkg.dev/colab-wheels/public/simple/\n",
            "Requirement already satisfied: symforce in /usr/local/lib/python3.8/dist-packages (0.7.0)\n",
            "Requirement already satisfied: sympy~=1.11.1 in /usr/local/lib/python3.8/dist-packages (from symforce) (1.11.1)\n",
            "Requirement already satisfied: numpy in /usr/local/lib/python3.8/dist-packages (from symforce) (1.21.6)\n",
            "Requirement already satisfied: graphviz in /usr/local/lib/python3.8/dist-packages (from symforce) (0.10.1)\n",
            "Requirement already satisfied: black in /usr/local/lib/python3.8/dist-packages (from symforce) (22.10.0)\n",
            "Requirement already satisfied: clang-format in /usr/local/lib/python3.8/dist-packages (from symforce) (15.0.4)\n",
            "Requirement already satisfied: symforce-sym==0.7.0 in /usr/local/lib/python3.8/dist-packages (from symforce) (0.7.0)\n",
            "Requirement already satisfied: scipy in /usr/local/lib/python3.8/dist-packages (from symforce) (1.7.3)\n",
            "Requirement already satisfied: skymarshal==0.7.0 in /usr/local/lib/python3.8/dist-packages (from symforce) (0.7.0)\n",
            "Requirement already satisfied: jinja2 in /usr/local/lib/python3.8/dist-packages (from symforce) (2.11.3)\n",
            "Requirement already satisfied: ply in /usr/local/lib/python3.8/dist-packages (from skymarshal==0.7.0->symforce) (3.11)\n",
            "Requirement already satisfied: argh in /usr/local/lib/python3.8/dist-packages (from skymarshal==0.7.0->symforce) (0.26.2)\n",
            "Requirement already satisfied: six in /usr/local/lib/python3.8/dist-packages (from skymarshal==0.7.0->symforce) (1.15.0)\n",
            "Requirement already satisfied: mpmath>=0.19 in /usr/local/lib/python3.8/dist-packages (from sympy~=1.11.1->symforce) (1.2.1)\n",
            "Requirement already satisfied: mypy-extensions>=0.4.3 in /usr/local/lib/python3.8/dist-packages (from black->symforce) (0.4.3)\n",
            "Requirement already satisfied: platformdirs>=2 in /usr/local/lib/python3.8/dist-packages (from black->symforce) (2.5.4)\n",
            "Requirement already satisfied: tomli>=1.1.0 in /usr/local/lib/python3.8/dist-packages (from black->symforce) (2.0.1)\n",
            "Requirement already satisfied: pathspec>=0.9.0 in /usr/local/lib/python3.8/dist-packages (from black->symforce) (0.10.2)\n",
            "Requirement already satisfied: typing-extensions>=3.10.0.0 in /usr/local/lib/python3.8/dist-packages (from black->symforce) (4.1.1)\n",
            "Requirement already satisfied: click>=8.0.0 in /usr/local/lib/python3.8/dist-packages (from black->symforce) (8.1.3)\n",
            "Requirement already satisfied: MarkupSafe>=0.23 in /usr/local/lib/python3.8/dist-packages (from jinja2->symforce) (2.0.1)\n"
          ]
        }
      ],
      "source": [
        "pip install symforce"
      ]
    },
    {
      "cell_type": "code",
      "source": [
        "# Setup\n",
        "import symforce\n",
        "\n",
        "symforce.set_symbolic_api(\"sympy\")\n",
        "symforce.set_log_level(\"warning\")\n",
        "\n",
        "import symforce.symbolic as sf\n",
        "from symforce.values import Values\n",
        "from symforce.notebook_util import display, display_code, display_code_file"
      ],
      "metadata": {
        "id": "HAAYWpL8mnhz"
      },
      "execution_count": 3,
      "outputs": []
    },
    {
      "cell_type": "code",
      "source": [
        "inputs = Values(\n",
        "    x=sf.Symbol(\"x\"),\n",
        "    y=sf.Rot2.symbolic(\"c\"),\n",
        ")\n",
        "display(inputs)"
      ],
      "metadata": {
        "colab": {
          "base_uri": "https://localhost:8080/",
          "height": 86
        },
        "id": "U8XeBhLOmpnX",
        "outputId": "d3fc162b-90db-4af2-828a-e414c5bcde31"
      },
      "execution_count": 4,
      "outputs": [
        {
          "output_type": "display_data",
          "data": {
            "text/plain": [
              "Values(\n",
              "  x: x,\n",
              "  y: <Rot2 <C real=c_re, imag=c_im>>,\n",
              ")"
            ]
          },
          "metadata": {}
        }
      ]
    },
    {
      "cell_type": "code",
      "source": [
        "# The .add() method can add a symbol using its name as the key:\n",
        "inputs.add(sf.Symbol(\"foo\"))\n",
        "display(inputs)"
      ],
      "metadata": {
        "colab": {
          "base_uri": "https://localhost:8080/",
          "height": 104
        },
        "id": "m3fmqtromuXd",
        "outputId": "1ba3ee7c-a73c-45c6-e2ef-022a9cf1dd58"
      },
      "execution_count": 5,
      "outputs": [
        {
          "output_type": "display_data",
          "data": {
            "text/plain": [
              "Values(\n",
              "  x: x,\n",
              "  y: <Rot2 <C real=c_re, imag=c_im>>,\n",
              "  foo: foo,\n",
              ")"
            ]
          },
          "metadata": {}
        }
      ]
    },
    {
      "cell_type": "code",
      "source": [
        "# Adding sub-values are well encouraged:\n",
        "x, y = sf.symbols(\"x y\")\n",
        "expr = x ** 2 + sf.sin(y) / x ** 2\n",
        "inputs[\"states\"] = Values(p=expr)\n",
        "display(inputs)"
      ],
      "metadata": {
        "colab": {
          "base_uri": "https://localhost:8080/",
          "height": 156
        },
        "id": "jqOb5RlNmyPO",
        "outputId": "318d61ab-866c-4990-a153-20ec50654c4f"
      },
      "execution_count": 6,
      "outputs": [
        {
          "output_type": "display_data",
          "data": {
            "text/plain": [
              "Values(\n",
              "  x: x,\n",
              "  y: <Rot2 <C real=c_re, imag=c_im>>,\n",
              "  foo: foo,\n",
              "  states:   Values(\n",
              "    p: x**2 + sin(y)/x**2,\n",
              "  ),\n",
              ")"
            ]
          },
          "metadata": {}
        }
      ]
    },
    {
      "cell_type": "code",
      "source": [
        "# A Values serializes to a depth-first traversed list. This means it implements StorageOps:\n",
        "display(inputs.to_storage())"
      ],
      "metadata": {
        "colab": {
          "base_uri": "https://localhost:8080/",
          "height": 58
        },
        "id": "qrtXuQTmm50J",
        "outputId": "6cda1cb1-c034-487a-9221-dd26bf8be384"
      },
      "execution_count": 7,
      "outputs": [
        {
          "output_type": "display_data",
          "data": {
            "text/plain": [
              "⎡                   2   sin(y)⎤\n",
              "⎢x, cᵣₑ, cᵢₘ, foo, x  + ──────⎥\n",
              "⎢                          2  ⎥\n",
              "⎣                         x   ⎦"
            ],
            "image/png": "[encoded data removed]",
            "text/latex": "$\\displaystyle \\left[ x, \\  c_{re}, \\  c_{im}, \\  foo, \\  x^{2} + \\frac{\\sin{\\left(y \\right)}}{x^{2}}\\right]$"
          },
          "metadata": {}
        }
      ]
    },
    {
      "cell_type": "code",
      "source": [
        "# can also get a flattened lists of keys and values, with . separation for sub-values:\n",
        "display(inputs.items_recursive())"
      ],
      "metadata": {
        "colab": {
          "base_uri": "https://localhost:8080/",
          "height": 86
        },
        "id": "cMhBFVmAm__w",
        "outputId": "3c4211c8-ba59-4e71-9fcd-3989e5b7f741"
      },
      "execution_count": 8,
      "outputs": [
        {
          "output_type": "display_data",
          "data": {
            "text/plain": [
              "[('x', x),\n",
              " ('y', <Rot2 <C real=c_re, imag=c_im>>),\n",
              " ('foo', foo),\n",
              " ('states.p', x**2 + sin(y)/x**2)]"
            ]
          },
          "metadata": {}
        }
      ]
    },
    {
      "cell_type": "markdown",
      "source": [
        "### Note that there is a .keys_recursive() and a .values_recursive() which return flattened lists of keys and values respectively:"
      ],
      "metadata": {
        "id": "Ysb-7Wu7nE1y"
      }
    },
    {
      "cell_type": "code",
      "source": [
        "display(inputs.keys_recursive())\n",
        "display(inputs.values_recursive())"
      ],
      "metadata": {
        "colab": {
          "base_uri": "https://localhost:8080/",
          "height": 52
        },
        "id": "7g4IN8finGO8",
        "outputId": "8f532842-9773-4297-a2b6-1bffb7a63fb4"
      },
      "execution_count": 9,
      "outputs": [
        {
          "output_type": "display_data",
          "data": {
            "text/plain": [
              "['x', 'y', 'foo', 'states.p']"
            ]
          },
          "metadata": {}
        },
        {
          "output_type": "display_data",
          "data": {
            "text/plain": [
              "[x, <Rot2 <C real=c_re, imag=c_im>>, foo, x**2 + sin(y)/x**2]"
            ]
          },
          "metadata": {}
        }
      ]
    },
    {
      "cell_type": "markdown",
      "source": [
        "### To fully reconstruct the types in the Values from the serialized scalars, need an index that describes which parts of the serialized list correspond to which types. The spec is T.Dict[str, IndexEntry] where IndexEntry has attributes offset, storage_dim, datatype, shape, item_index:"
      ],
      "metadata": {
        "id": "8C4jrJDznPW0"
      }
    },
    {
      "cell_type": "code",
      "source": [
        "index = inputs.index()\n",
        "index"
      ],
      "metadata": {
        "colab": {
          "base_uri": "https://localhost:8080/"
        },
        "id": "2PaDANKmnVEp",
        "outputId": "29207034-7fc0-4cc8-c8de-ee513875223d"
      },
      "execution_count": 10,
      "outputs": [
        {
          "output_type": "execute_result",
          "data": {
            "text/plain": [
              "OrderedDict([('x',\n",
              "  IndexEntry(offset=0, storage_dim=1, _module='builtins', _qualname='float', shape=None, item_index=None)),\n",
              " ('y',\n",
              "  IndexEntry(offset=1, storage_dim=2, _module='symforce.geo.rot2', _qualname='Rot2', shape=None, item_index=None)),\n",
              " ('foo',\n",
              "  IndexEntry(offset=3, storage_dim=1, _module='builtins', _qualname='float', shape=None, item_index=None)),\n",
              " ('states',\n",
              "  IndexEntry(offset=4, storage_dim=1, _module='symforce.values.values', _qualname='Values', shape=None, item_index=OrderedDict([('p', IndexEntry(offset=0, storage_dim=1, _module='builtins', _qualname='float', shape=None, item_index=None))])))])"
            ]
          },
          "metadata": {},
          "execution_count": 10
        }
      ]
    },
    {
      "cell_type": "code",
      "source": [
        "# With a serialized list and an index, can get the values back:\n",
        "inputs2 = Values.from_storage_index(inputs.to_storage(), index)\n",
        "assert inputs == inputs2\n",
        "display(inputs)"
      ],
      "metadata": {
        "colab": {
          "base_uri": "https://localhost:8080/",
          "height": 156
        },
        "id": "l6xMHt4tnZTm",
        "outputId": "6cfd9491-3d8f-4606-b408-3d2d4d6f1586"
      },
      "execution_count": 11,
      "outputs": [
        {
          "output_type": "display_data",
          "data": {
            "text/plain": [
              "Values(\n",
              "  x: x,\n",
              "  y: <Rot2 <C real=c_re, imag=c_im>>,\n",
              "  foo: foo,\n",
              "  states:   Values(\n",
              "    p: x**2 + sin(y)/x**2,\n",
              "  ),\n",
              ")"
            ]
          },
          "metadata": {}
        }
      ]
    },
    {
      "cell_type": "code",
      "source": [
        "# The item_index is a recursive structure that can contain the index for a sub-values:\n",
        "item_index = inputs.index()[\"states\"].item_index\n",
        "assert item_index == inputs[\"states\"].index()"
      ],
      "metadata": {
        "id": "pbxoJ6Mmnn1k"
      },
      "execution_count": 12,
      "outputs": []
    },
    {
      "cell_type": "code",
      "source": [
        "# Can also set sub-values directly with dot notation in the keys. They get split up:\n",
        "inputs[\"states.blah\"] = 3\n",
        "display(inputs)"
      ],
      "metadata": {
        "colab": {
          "base_uri": "https://localhost:8080/",
          "height": 173
        },
        "id": "Bcn_vcMBnrbw",
        "outputId": "586c5eed-5027-4af5-ff78-5ba4176418ec"
      },
      "execution_count": 13,
      "outputs": [
        {
          "output_type": "display_data",
          "data": {
            "text/plain": [
              "Values(\n",
              "  x: x,\n",
              "  y: <Rot2 <C real=c_re, imag=c_im>>,\n",
              "  foo: foo,\n",
              "  states:   Values(\n",
              "    p: x**2 + sin(y)/x**2,\n",
              "    blah: 3,\n",
              "  ),\n",
              ")"
            ]
          },
          "metadata": {}
        }
      ]
    },
    {
      "cell_type": "code",
      "source": [
        "# The .attr field also allows attribute access rather than key access:\n",
        "assert inputs[\"states.p\"] is inputs[\"states\"][\"p\"] is inputs.attr.states.p\n",
        "display(inputs.attr.states.p)"
      ],
      "metadata": {
        "colab": {
          "base_uri": "https://localhost:8080/",
          "height": 53
        },
        "id": "xv8p0aZ5nwa1",
        "outputId": "c06ad04f-203a-47b4-8d25-72c9ad032693"
      },
      "execution_count": 14,
      "outputs": [
        {
          "output_type": "display_data",
          "data": {
            "text/plain": [
              " 2   sin(y)\n",
              "x  + ──────\n",
              "        2  \n",
              "       x   "
            ],
            "image/png": "[encoded data removed]",
            "text/latex": "$\\displaystyle x^{2} + \\frac{\\sin{\\left(y \\right)}}{x^{2}}$"
          },
          "metadata": {}
        }
      ]
    },
    {
      "cell_type": "markdown",
      "source": [
        "### SymForce adds the concept of a name scope to namespace symbols. Within a scope block, symbol names get prefixed with the scope name:"
      ],
      "metadata": {
        "id": "55VbiI1Qn2D7"
      }
    },
    {
      "cell_type": "code",
      "source": [
        "with sf.scope(\"params\"):\n",
        "    s = sf.Symbol(\"cost\")\n",
        "display(s)"
      ],
      "metadata": {
        "colab": {
          "base_uri": "https://localhost:8080/",
          "height": 38
        },
        "id": "-joQwpixn4QC",
        "outputId": "038e3a32-b2d9-42ae-bee7-284c4c7961b2"
      },
      "execution_count": 15,
      "outputs": [
        {
          "output_type": "display_data",
          "data": {
            "text/plain": [
              "params.cost"
            ],
            "image/png": "[encoded data removed]",
            "text/latex": "$\\displaystyle params.cost$"
          },
          "metadata": {}
        }
      ]
    },
    {
      "cell_type": "markdown",
      "source": [
        "### A common use case is to call a function that adds symbols within name scope to avoid name collisions, also chain name scopes:"
      ],
      "metadata": {
        "id": "oUTVukBpn-83"
      }
    },
    {
      "cell_type": "code",
      "source": [
        "v = Values()\n",
        "v.add(sf.Symbol(\"x\"))\n",
        "with sf.scope(\"foo\"):\n",
        "    v.add(sf.Symbol(\"x\"))\n",
        "    with sf.scope(\"bar\"):\n",
        "        v.add(sf.Symbol(\"x\"))\n",
        "display(v)\n",
        "display(v.attr.foo.bar.x)"
      ],
      "metadata": {
        "colab": {
          "base_uri": "https://localhost:8080/",
          "height": 195
        },
        "id": "w7oKLLCFoDEG",
        "outputId": "5f1ba82b-634e-4390-b607-98cc439d39e8"
      },
      "execution_count": 16,
      "outputs": [
        {
          "output_type": "display_data",
          "data": {
            "text/plain": [
              "Values(\n",
              "  x: x,\n",
              "  foo:   Values(\n",
              "    x: foo.x,\n",
              "    bar:     Values(\n",
              "      x: foo.bar.x,\n",
              "    ),\n",
              "  ),\n",
              ")"
            ]
          },
          "metadata": {}
        },
        {
          "output_type": "display_data",
          "data": {
            "text/plain": [
              "foo.bar.x"
            ],
            "image/png": "[encoded data removed]",
            "text/latex": "$\\displaystyle foo.bar.x$"
          },
          "metadata": {}
        }
      ]
    },
    {
      "cell_type": "markdown",
      "source": [
        "### The values class also provides a .scope() method that not only applies the scope to symbol names but also to keys added to the Values:"
      ],
      "metadata": {
        "id": "1wqNWZeKoGMH"
      }
    },
    {
      "cell_type": "code",
      "source": [
        "v = Values()\n",
        "with v.scope(\"hello\"):\n",
        "    v[\"y\"] = x ** 2\n",
        "    v[\"z\"] = sf.Symbol(\"z\")\n",
        "v"
      ],
      "metadata": {
        "colab": {
          "base_uri": "https://localhost:8080/"
        },
        "id": "ZBA72L9UoIbW",
        "outputId": "de2b4b2a-f7b5-498d-88ac-39de34ef39e7"
      },
      "execution_count": 17,
      "outputs": [
        {
          "output_type": "execute_result",
          "data": {
            "text/plain": [
              "Values(\n",
              "  hello:   Values(\n",
              "    y: x**2,\n",
              "    z: hello.z,\n",
              "  ),\n",
              ")"
            ]
          },
          "metadata": {},
          "execution_count": 17
        }
      ]
    },
    {
      "cell_type": "markdown",
      "source": [
        "### This flexible set of features provided by the Values class allows conveniently building up large expressions, and acts as the interface to code generation."
      ],
      "metadata": {
        "id": "gGnMFgNSoWzv"
      }
    },
    {
      "cell_type": "markdown",
      "source": [
        "### Lie Group Operations\n",
        "One useful feature of Values objects is that element-wise Lie group operations on can be performed on them."
      ],
      "metadata": {
        "id": "sE5zj3bFoZHw"
      }
    },
    {
      "cell_type": "code",
      "source": [
        "lie_vals = Values()\n",
        "lie_vals[\"scalar\"] = sf.Symbol(\"x\")\n",
        "lie_vals[\"rot3\"] = sf.Rot3.symbolic(\"rot\")\n",
        "\n",
        "sub_lie_vals = Values()\n",
        "sub_lie_vals[\"pose3\"] = sf.Pose3.symbolic(\"pose\")\n",
        "sub_lie_vals[\"vec\"] = sf.V3.symbolic(\"vec\")\n",
        "\n",
        "lie_vals[\"sub_vals\"] = sub_lie_vals\n",
        "\n",
        "display(lie_vals)"
      ],
      "metadata": {
        "colab": {
          "base_uri": "https://localhost:8080/",
          "height": 225
        },
        "id": "N5Q2Wk-LodtM",
        "outputId": "cd00199b-2fee-4fa8-99bc-485c139380e1"
      },
      "execution_count": 18,
      "outputs": [
        {
          "output_type": "display_data",
          "data": {
            "text/plain": [
              "Values(\n",
              "  scalar: x,\n",
              "  rot3: <Rot3 <Q xyzw=[rot_x, rot_y, rot_z, rot_w]>>,\n",
              "  sub_vals:   Values(\n",
              "    pose3: <Pose3 R=<Rot3 <Q xyzw=[pose.R_x, pose.R_y, pose.R_z, pose.R_w]>>, t=(pose.t0, pose.t1, pose.t2)>,\n",
              "    vec: Matrix([\n",
              "[vec0],\n",
              "[vec1],\n",
              "[vec2]]),\n",
              "  ),\n",
              ")"
            ]
          },
          "metadata": {}
        }
      ]
    },
    {
      "cell_type": "code",
      "source": [
        "display(lie_vals.tangent_dim())\n",
        "display(len(lie_vals.to_tangent()))"
      ],
      "metadata": {
        "colab": {
          "base_uri": "https://localhost:8080/",
          "height": 58
        },
        "id": "kBKd5r8SojKi",
        "outputId": "2a66fdb5-0bdc-4884-daf9-a99e2e62e02c"
      },
      "execution_count": 19,
      "outputs": [
        {
          "output_type": "display_data",
          "data": {
            "text/plain": [
              "13"
            ],
            "image/png": "[encoded data removed]",
            "text/latex": "$\\displaystyle 13$"
          },
          "metadata": {}
        },
        {
          "output_type": "display_data",
          "data": {
            "text/plain": [
              "13"
            ],
            "image/png": "[encoded data removed]",
            "text/latex": "$\\displaystyle 13$"
          },
          "metadata": {}
        }
      ]
    },
    {
      "cell_type": "markdown",
      "source": [
        "### Importantly, can compute the jacobian of the storage space of the object with respect to its tangent space:"
      ],
      "metadata": {
        "id": "2yWzu56Rovvp"
      }
    },
    {
      "cell_type": "code",
      "source": [
        "display(lie_vals.storage_D_tangent())"
      ],
      "metadata": {
        "colab": {
          "base_uri": "https://localhost:8080/",
          "height": 336
        },
        "id": "SRnu1fnuojVm",
        "outputId": "f3f95d75-70b9-4ea5-8cb0-7149e18c5ea4"
      },
      "execution_count": 20,
      "outputs": [
        {
          "output_type": "display_data",
          "data": {
            "text/plain": [
              "⎡1     0        0        0         0           0           0       0  0  0  0 \n",
              "⎢                                                                             \n",
              "⎢    rot_w   -rot_z    rot_y                                                  \n",
              "⎢0   ─────   ───────   ─────       0           0           0       0  0  0  0 \n",
              "⎢      2        2        2                                                    \n",
              "⎢                                                                             \n",
              "⎢    rot_z    rot_w   -rotₓ                                                   \n",
              "⎢0   ─────    ─────   ──────       0           0           0       0  0  0  0 \n",
              "⎢      2        2       2                                                     \n",
              "⎢                                                                             \n",
              "⎢   -rot_y    rotₓ     rot_w                                                  \n",
              "⎢0  ───────   ────     ─────       0           0           0       0  0  0  0 \n",
              "⎢      2       2         2                                                    \n",
              "⎢                                                                             \n",
              "⎢   -rotₓ    -rot_y   -rot_z                                                  \n",
              "⎢0  ──────   ───────  ───────      0           0           0       0  0  0  0 \n",
              "⎢     2         2        2                                                    \n",
              "⎢                                                                             \n",
              "⎢                               pose.R_w   -pose.R_z    pose.R_y              \n",
              "⎢0     0        0        0      ────────   ──────────   ────────   0  0  0  0 \n",
              "⎢                                  2           2           2                  \n",
              "⎢                                                                             \n",
              "⎢                               pose.R_z    pose.R_w   -pose.Rₓ               \n",
              "⎢0     0        0        0      ────────    ────────   ─────────   0  0  0  0 \n",
              "⎢                                  2           2           2                  \n",
              "⎢                                                                             \n",
              "⎢                              -pose.R_y    pose.Rₓ     pose.R_w              \n",
              "⎢0     0        0        0     ──────────   ───────     ────────   0  0  0  0 \n",
              "⎢                                  2           2           2                  \n",
              "⎢                                                                             \n",
              "⎢                              -pose.Rₓ    -pose.R_y   -pose.R_z              \n",
              "⎢0     0        0        0     ─────────   ──────────  ──────────  0  0  0  0 \n",
              "⎢                                  2           2           2                  \n",
              "⎢                                                                             \n",
              "⎢0     0        0        0         0           0           0       1  0  0  0 \n",
              "⎢                                                                             \n",
              "⎢0     0        0        0         0           0           0       0  1  0  0 \n",
              "⎢                                                                             \n",
              "⎢0     0        0        0         0           0           0       0  0  1  0 \n",
              "⎢                                                                             \n",
              "⎢0     0        0        0         0           0           0       0  0  0  1 \n",
              "⎢                                                                             \n",
              "⎢0     0        0        0         0           0           0       0  0  0  0 \n",
              "⎢                                                                             \n",
              "⎣0     0        0        0         0           0           0       0  0  0  0 \n",
              "\n",
              " 0  0⎤\n",
              "     ⎥\n",
              "     ⎥\n",
              " 0  0⎥\n",
              "     ⎥\n",
              "     ⎥\n",
              "     ⎥\n",
              " 0  0⎥\n",
              "     ⎥\n",
              "     ⎥\n",
              "     ⎥\n",
              " 0  0⎥\n",
              "     ⎥\n",
              "     ⎥\n",
              "     ⎥\n",
              " 0  0⎥\n",
              "     ⎥\n",
              "     ⎥\n",
              "     ⎥\n",
              " 0  0⎥\n",
              "     ⎥\n",
              "     ⎥\n",
              "     ⎥\n",
              " 0  0⎥\n",
              "     ⎥\n",
              "     ⎥\n",
              "     ⎥\n",
              " 0  0⎥\n",
              "     ⎥\n",
              "     ⎥\n",
              "     ⎥\n",
              " 0  0⎥\n",
              "     ⎥\n",
              "     ⎥\n",
              " 0  0⎥\n",
              "     ⎥\n",
              " 0  0⎥\n",
              "     ⎥\n",
              " 0  0⎥\n",
              "     ⎥\n",
              " 0  0⎥\n",
              "     ⎥\n",
              " 1  0⎥\n",
              "     ⎥\n",
              " 0  1⎦"
            ],
            "text/latex": "$\\displaystyle \\left[\\begin{array}{ccccccccccccc}1 & 0 & 0 & 0 & 0 & 0 & 0 & 0 & 0 & 0 & 0 & 0 & 0\\\\0 & \\frac{rot_{w}}{2} & - \\frac{rot_{z}}{2} & \\frac{rot_{y}}{2} & 0 & 0 & 0 & 0 & 0 & 0 & 0 & 0 & 0\\\\0 & \\frac{rot_{z}}{2} & \\frac{rot_{w}}{2} & - \\frac{rot_{x}}{2} & 0 & 0 & 0 & 0 & 0 & 0 & 0 & 0 & 0\\\\0 & - \\frac{rot_{y}}{2} & \\frac{rot_{x}}{2} & \\frac{rot_{w}}{2} & 0 & 0 & 0 & 0 & 0 & 0 & 0 & 0 & 0\\\\0 & - \\frac{rot_{x}}{2} & - \\frac{rot_{y}}{2} & - \\frac{rot_{z}}{2} & 0 & 0 & 0 & 0 & 0 & 0 & 0 & 0 & 0\\\\0 & 0 & 0 & 0 & \\frac{pose.R_{w}}{2} & - \\frac{pose.R_{z}}{2} & \\frac{pose.R_{y}}{2} & 0 & 0 & 0 & 0 & 0 & 0\\\\0 & 0 & 0 & 0 & \\frac{pose.R_{z}}{2} & \\frac{pose.R_{w}}{2} & - \\frac{pose.R_{x}}{2} & 0 & 0 & 0 & 0 & 0 & 0\\\\0 & 0 & 0 & 0 & - \\frac{pose.R_{y}}{2} & \\frac{pose.R_{x}}{2} & \\frac{pose.R_{w}}{2} & 0 & 0 & 0 & 0 & 0 & 0\\\\0 & 0 & 0 & 0 & - \\frac{pose.R_{x}}{2} & - \\frac{pose.R_{y}}{2} & - \\frac{pose.R_{z}}{2} & 0 & 0 & 0 & 0 & 0 & 0\\\\0 & 0 & 0 & 0 & 0 & 0 & 0 & 1 & 0 & 0 & 0 & 0 & 0\\\\0 & 0 & 0 & 0 & 0 & 0 & 0 & 0 & 1 & 0 & 0 & 0 & 0\\\\0 & 0 & 0 & 0 & 0 & 0 & 0 & 0 & 0 & 1 & 0 & 0 & 0\\\\0 & 0 & 0 & 0 & 0 & 0 & 0 & 0 & 0 & 0 & 1 & 0 & 0\\\\0 & 0 & 0 & 0 & 0 & 0 & 0 & 0 & 0 & 0 & 0 & 1 & 0\\\\0 & 0 & 0 & 0 & 0 & 0 & 0 & 0 & 0 & 0 & 0 & 0 & 1\\end{array}\\right]$"
          },
          "metadata": {}
        }
      ]
    },
    {
      "cell_type": "markdown",
      "source": [
        "### This means that can use the elements of the object to compute a residual, and then compute the jacobian of such a residual with respect to the tangent space of our values object."
      ],
      "metadata": {
        "id": "k2ymAKuio1PD"
      }
    },
    {
      "cell_type": "code",
      "source": [
        "residual = sf.Matrix(6, 1)\n",
        "residual[0:3, 0] = lie_vals[\"rot3\"] * lie_vals[\"sub_vals.vec\"]\n",
        "residual[3:6, 0] = lie_vals[\"sub_vals.pose3\"] * lie_vals[\"sub_vals.vec\"]\n",
        "display(residual)"
      ],
      "metadata": {
        "colab": {
          "base_uri": "https://localhost:8080/",
          "height": 162
        },
        "id": "Rl1LIHYYo4vl",
        "outputId": "c66675e1-767c-435b-e4fc-d4a148f885b4"
      },
      "execution_count": 21,
      "outputs": [
        {
          "output_type": "display_data",
          "data": {
            "text/plain": [
              "⎡                         ⎛         2          2    ⎞                         \n",
              "⎢                    vec₀⋅⎝- 2⋅rot_y  - 2⋅rot_z  + 1⎠ + vec₁⋅(-2⋅rot_w⋅rot_z +\n",
              "⎢                                                                             \n",
              "⎢                                                               ⎛        2    \n",
              "⎢                    vec₀⋅(2⋅rot_w⋅rot_z + 2⋅rotₓ⋅rot_y) + vec₁⋅⎝- 2⋅rotₓ  - 2\n",
              "⎢                                                                             \n",
              "⎢                                                                             \n",
              "⎢                    vec₀⋅(-2⋅rot_w⋅rot_y + 2⋅rotₓ⋅rot_z) + vec₁⋅(2⋅rot_w⋅rotₓ\n",
              "⎢                                                                             \n",
              "⎢               ⎛            2             2    ⎞                             \n",
              "⎢pose.t0 + vec₀⋅⎝- 2⋅pose.R_y  - 2⋅pose.R_z  + 1⎠ + vec₁⋅(-2⋅pose.R_w⋅pose.R_z\n",
              "⎢                                                                             \n",
              "⎢                                                                 ⎛           \n",
              "⎢pose.t1 + vec₀⋅(2⋅pose.R_w⋅pose.R_z + 2⋅pose.Rₓ⋅pose.R_y) + vec₁⋅⎝- 2⋅pose.Rₓ\n",
              "⎢                                                                             \n",
              "⎢                                                                             \n",
              "⎣pose.t2 + vec₀⋅(-2⋅pose.R_w⋅pose.R_y + 2⋅pose.Rₓ⋅pose.R_z) + vec₁⋅(2⋅pose.R_w\n",
              "\n",
              "                                                                        ⎤\n",
              " 2⋅rotₓ⋅rot_y) + vec₂⋅(2⋅rot_w⋅rot_y + 2⋅rotₓ⋅rot_z)                    ⎥\n",
              "                                                                        ⎥\n",
              "      2    ⎞                                                            ⎥\n",
              "⋅rot_z  + 1⎠ + vec₂⋅(-2⋅rot_w⋅rotₓ + 2⋅rot_y⋅rot_z)                     ⎥\n",
              "                                                                        ⎥\n",
              "                         ⎛        2          2    ⎞                     ⎥\n",
              " + 2⋅rot_y⋅rot_z) + vec₂⋅⎝- 2⋅rotₓ  - 2⋅rot_y  + 1⎠                     ⎥\n",
              "                                                                        ⎥\n",
              "                                                                        ⎥\n",
              " + 2⋅pose.Rₓ⋅pose.R_y) + vec₂⋅(2⋅pose.R_w⋅pose.R_y + 2⋅pose.Rₓ⋅pose.R_z)⎥\n",
              "                                                                        ⎥\n",
              "2             2    ⎞                                                    ⎥\n",
              "  - 2⋅pose.R_z  + 1⎠ + vec₂⋅(-2⋅pose.R_w⋅pose.Rₓ + 2⋅pose.R_y⋅pose.R_z) ⎥\n",
              "                                                                        ⎥\n",
              "                                       ⎛           2             2    ⎞ ⎥\n",
              "⋅pose.Rₓ + 2⋅pose.R_y⋅pose.R_z) + vec₂⋅⎝- 2⋅pose.Rₓ  - 2⋅pose.R_y  + 1⎠ ⎦"
            ],
            "text/latex": "$\\displaystyle \\left[\\begin{matrix}vec_{0} \\left(- 2 rot_{y}^{2} - 2 rot_{z}^{2} + 1\\right) + vec_{1} \\left(- 2 rot_{w} rot_{z} + 2 rot_{x} rot_{y}\\right) + vec_{2} \\cdot \\left(2 rot_{w} rot_{y} + 2 rot_{x} rot_{z}\\right)\\\\vec_{0} \\cdot \\left(2 rot_{w} rot_{z} + 2 rot_{x} rot_{y}\\right) + vec_{1} \\left(- 2 rot_{x}^{2} - 2 rot_{z}^{2} + 1\\right) + vec_{2} \\left(- 2 rot_{w} rot_{x} + 2 rot_{y} rot_{z}\\right)\\\\vec_{0} \\left(- 2 rot_{w} rot_{y} + 2 rot_{x} rot_{z}\\right) + vec_{1} \\cdot \\left(2 rot_{w} rot_{x} + 2 rot_{y} rot_{z}\\right) + vec_{2} \\left(- 2 rot_{x}^{2} - 2 rot_{y}^{2} + 1\\right)\\\\pose.t0 + vec_{0} \\left(- 2 pose.R_{y}^{2} - 2 pose.R_{z}^{2} + 1\\right) + vec_{1} \\left(- 2 pose.R_{w} pose.R_{z} + 2 pose.R_{x} pose.R_{y}\\right) + vec_{2} \\cdot \\left(2 pose.R_{w} pose.R_{y} + 2 pose.R_{x} pose.R_{z}\\right)\\\\pose.t1 + vec_{0} \\cdot \\left(2 pose.R_{w} pose.R_{z} + 2 pose.R_{x} pose.R_{y}\\right) + vec_{1} \\left(- 2 pose.R_{x}^{2} - 2 pose.R_{z}^{2} + 1\\right) + vec_{2} \\left(- 2 pose.R_{w} pose.R_{x} + 2 pose.R_{y} pose.R_{z}\\right)\\\\pose.t2 + vec_{0} \\left(- 2 pose.R_{w} pose.R_{y} + 2 pose.R_{x} pose.R_{z}\\right) + vec_{1} \\cdot \\left(2 pose.R_{w} pose.R_{x} + 2 pose.R_{y} pose.R_{z}\\right) + vec_{2} \\left(- 2 pose.R_{x}^{2} - 2 pose.R_{y}^{2} + 1\\right)\\end{matrix}\\right]$"
          },
          "metadata": {}
        }
      ]
    },
    {
      "cell_type": "code",
      "source": [
        "residual_D_tangent = residual.jacobian(lie_vals)\n",
        "display(residual_D_tangent.shape)\n",
        "display(residual_D_tangent)"
      ],
      "metadata": {
        "colab": {
          "base_uri": "https://localhost:8080/",
          "height": 183
        },
        "id": "mZP2Za5do7CV",
        "outputId": "1e98acf5-0378-4ba6-f35e-0facbe73ac2b"
      },
      "execution_count": 22,
      "outputs": [
        {
          "output_type": "display_data",
          "data": {
            "text/plain": [
              "(6, 13)"
            ],
            "image/png": "[encoded data removed]",
            "text/latex": "$\\displaystyle \\left( 6, \\  13\\right)$"
          },
          "metadata": {}
        },
        {
          "output_type": "display_data",
          "data": {
            "text/plain": [
              "⎡                                                                             \n",
              "⎢0     vec₁⋅(2⋅rot_w⋅rot_y + 2⋅rotₓ⋅rot_z) + vec₂⋅(2⋅rot_w⋅rot_z - 2⋅rotₓ⋅rot_\n",
              "⎢                                                                             \n",
              "⎢                                               ⎛       2       2        2    \n",
              "⎢0  vec₁⋅(-2⋅rot_w⋅rotₓ + 2⋅rot_y⋅rot_z) + vec₂⋅⎝- rot_w  + rotₓ  - rot_y  + r\n",
              "⎢                                                                             \n",
              "⎢         ⎛     2       2        2        2⎞                                  \n",
              "⎢0   vec₁⋅⎝rot_w  - rotₓ  - rot_y  + rot_z ⎠ + vec₂⋅(-2⋅rot_w⋅rotₓ - 2⋅rot_y⋅r\n",
              "⎢                                                                             \n",
              "⎢                                                                             \n",
              "⎢0                                         0                                  \n",
              "⎢                                                                             \n",
              "⎢                                                                             \n",
              "⎢0                                         0                                  \n",
              "⎢                                                                             \n",
              "⎢                                                                             \n",
              "⎣0                                         0                                  \n",
              "\n",
              "                                                     ⎛     2       2        2 \n",
              "y)       vec₀⋅(-2⋅rot_w⋅rot_y - 2⋅rotₓ⋅rot_z) + vec₂⋅⎝rot_w  + rotₓ  - rot_y  \n",
              "                                                                              \n",
              "    2⎞                                                                        \n",
              "ot_z ⎠     vec₀⋅(2⋅rot_w⋅rotₓ - 2⋅rot_y⋅rot_z) + vec₂⋅(2⋅rot_w⋅rot_z + 2⋅rotₓ⋅\n",
              "                                                                              \n",
              "             ⎛       2       2        2        2⎞                             \n",
              "ot_z)   vec₀⋅⎝- rot_w  + rotₓ  + rot_y  - rot_z ⎠ + vec₂⋅(-2⋅rot_w⋅rot_y + 2⋅r\n",
              "                                                                              \n",
              "                                                                              \n",
              "                                               0                              \n",
              "                                                                              \n",
              "                                                                              \n",
              "                                               0                              \n",
              "                                                                              \n",
              "                                                                              \n",
              "                                               0                              \n",
              "\n",
              "       2⎞                                               ⎛       2       2     \n",
              "- rot_z ⎠   vec₀⋅(-2⋅rot_w⋅rot_z + 2⋅rotₓ⋅rot_y) + vec₁⋅⎝- rot_w  - rotₓ  + ro\n",
              "                                                                              \n",
              "                  ⎛     2       2        2        2⎞                          \n",
              "rot_y)       vec₀⋅⎝rot_w  - rotₓ  + rot_y  - rot_z ⎠ + vec₁⋅(-2⋅rot_w⋅rot_z - \n",
              "                                                                              \n",
              "                                                                              \n",
              "otₓ⋅rot_z)     vec₀⋅(2⋅rot_w⋅rotₓ + 2⋅rot_y⋅rot_z) + vec₁⋅(2⋅rot_w⋅rot_y - 2⋅r\n",
              "                                                                              \n",
              "                                                                              \n",
              "                                                   0                          \n",
              "                                                                              \n",
              "                                                                              \n",
              "                                                   0                          \n",
              "                                                                              \n",
              "                                                                              \n",
              "                                                   0                          \n",
              "\n",
              "   2        2⎞                                                                \n",
              "t_y  + rot_z ⎠                                                     0          \n",
              "                                                                              \n",
              "                                                                              \n",
              "2⋅rotₓ⋅rot_y)                                                      0          \n",
              "                                                                              \n",
              "                                                                              \n",
              "otₓ⋅rot_z)                                                         0          \n",
              "                                                                              \n",
              "                                                                              \n",
              "                   vec₁⋅(2⋅pose.R_w⋅pose.R_y + 2⋅pose.Rₓ⋅pose.R_z) + vec₂⋅(2⋅p\n",
              "                                                                              \n",
              "                                                                        ⎛     \n",
              "                vec₁⋅(-2⋅pose.R_w⋅pose.Rₓ + 2⋅pose.R_y⋅pose.R_z) + vec₂⋅⎝- pos\n",
              "                                                                              \n",
              "                      ⎛        2          2           2           2⎞          \n",
              "                 vec₁⋅⎝pose.R_w  - pose.Rₓ  - pose.R_y  + pose.R_z ⎠ + vec₂⋅(-\n",
              "\n",
              "                                                                              \n",
              "                                                                              \n",
              "                                                                              \n",
              "                                                                              \n",
              "                                                                              \n",
              "                                                                              \n",
              "                                                                              \n",
              "                                                                              \n",
              "                                                                              \n",
              "                                                                              \n",
              "ose.R_w⋅pose.R_z - 2⋅pose.Rₓ⋅pose.R_y)       vec₀⋅(-2⋅pose.R_w⋅pose.R_y - 2⋅po\n",
              "                                                                              \n",
              "     2          2           2           2⎞                                    \n",
              "e.R_w  + pose.Rₓ  - pose.R_y  + pose.R_z ⎠     vec₀⋅(2⋅pose.R_w⋅pose.Rₓ - 2⋅po\n",
              "                                                                              \n",
              "                                                 ⎛          2          2      \n",
              "2⋅pose.R_w⋅pose.Rₓ - 2⋅pose.R_y⋅pose.R_z)   vec₀⋅⎝- pose.R_w  + pose.Rₓ  + pos\n",
              "\n",
              "                                                                              \n",
              "                 0                                                            \n",
              "                                                                              \n",
              "                                                                              \n",
              "                 0                                                            \n",
              "                                                                              \n",
              "                                                                              \n",
              "                 0                                                            \n",
              "                                                                              \n",
              "                       ⎛        2          2           2           2⎞         \n",
              "se.Rₓ⋅pose.R_z) + vec₂⋅⎝pose.R_w  + pose.Rₓ  - pose.R_y  - pose.R_z ⎠   vec₀⋅(\n",
              "                                                                              \n",
              "                                                                              \n",
              "se.R_y⋅pose.R_z) + vec₂⋅(2⋅pose.R_w⋅pose.R_z + 2⋅pose.Rₓ⋅pose.R_y)       vec₀⋅\n",
              "                                                                              \n",
              "     2           2⎞                                                           \n",
              "e.R_y  - pose.R_z ⎠ + vec₂⋅(-2⋅pose.R_w⋅pose.R_y + 2⋅pose.Rₓ⋅pose.R_z)     vec\n",
              "\n",
              "                                                                              \n",
              "                                             0                                \n",
              "                                                                              \n",
              "                                                                              \n",
              "                                             0                                \n",
              "                                                                              \n",
              "                                                                              \n",
              "                                             0                                \n",
              "                                                                              \n",
              "                                                  ⎛          2          2     \n",
              "-2⋅pose.R_w⋅pose.R_z + 2⋅pose.Rₓ⋅pose.R_y) + vec₁⋅⎝- pose.R_w  - pose.Rₓ  + po\n",
              "                                                                              \n",
              "⎛        2          2           2           2⎞                                \n",
              "⎝pose.R_w  - pose.Rₓ  + pose.R_y  - pose.R_z ⎠ + vec₁⋅(-2⋅pose.R_w⋅pose.R_z - \n",
              "                                                                              \n",
              "                                                                              \n",
              "₀⋅(2⋅pose.R_w⋅pose.Rₓ + 2⋅pose.R_y⋅pose.R_z) + vec₁⋅(2⋅pose.R_w⋅pose.R_y - 2⋅p\n",
              "\n",
              "                                                2          2                  \n",
              "                      0  0  0          - 2⋅rot_y  - 2⋅rot_z  + 1              \n",
              "                                                                              \n",
              "                                                                              \n",
              "                      0  0  0        2⋅rot_w⋅rot_z + 2⋅rotₓ⋅rot_y             \n",
              "                                                                              \n",
              "                                                                              \n",
              "                      0  0  0        -2⋅rot_w⋅rot_y + 2⋅rotₓ⋅rot_z            \n",
              "                                                                              \n",
              "      2           2⎞                            2             2               \n",
              "se.R_y  + pose.R_z ⎠  1  0  0       - 2⋅pose.R_y  - 2⋅pose.R_z  + 1       -2⋅p\n",
              "                                                                              \n",
              "                                                                              \n",
              "2⋅pose.Rₓ⋅pose.R_y)   0  1  0  2⋅pose.R_w⋅pose.R_z + 2⋅pose.Rₓ⋅pose.R_y       \n",
              "                                                                              \n",
              "                                                                              \n",
              "ose.Rₓ⋅pose.R_z)      0  0  1  -2⋅pose.R_w⋅pose.R_y + 2⋅pose.Rₓ⋅pose.R_z  2⋅po\n",
              "\n",
              "                                                                              \n",
              "  -2⋅rot_w⋅rot_z + 2⋅rotₓ⋅rot_y              2⋅rot_w⋅rot_y + 2⋅rotₓ⋅rot_z     \n",
              "                                                                              \n",
              "            2          2                                                      \n",
              "    - 2⋅rotₓ  - 2⋅rot_z  + 1                 -2⋅rot_w⋅rotₓ + 2⋅rot_y⋅rot_z    \n",
              "                                                                              \n",
              "                                                       2          2           \n",
              "  2⋅rot_w⋅rotₓ + 2⋅rot_y⋅rot_z                 - 2⋅rotₓ  - 2⋅rot_y  + 1       \n",
              "                                                                              \n",
              "                                                                              \n",
              "ose.R_w⋅pose.R_z + 2⋅pose.Rₓ⋅pose.R_y  2⋅pose.R_w⋅pose.R_y + 2⋅pose.Rₓ⋅pose.R_\n",
              "                                                                              \n",
              "            2             2                                                   \n",
              " - 2⋅pose.Rₓ  - 2⋅pose.R_z  + 1        -2⋅pose.R_w⋅pose.Rₓ + 2⋅pose.R_y⋅pose.R\n",
              "                                                                              \n",
              "                                                       2             2        \n",
              "se.R_w⋅pose.Rₓ + 2⋅pose.R_y⋅pose.R_z        - 2⋅pose.Rₓ  - 2⋅pose.R_y  + 1    \n",
              "\n",
              "  ⎤\n",
              "  ⎥\n",
              "  ⎥\n",
              "  ⎥\n",
              "  ⎥\n",
              "  ⎥\n",
              "  ⎥\n",
              "  ⎥\n",
              "  ⎥\n",
              "  ⎥\n",
              "z ⎥\n",
              "  ⎥\n",
              "  ⎥\n",
              "_z⎥\n",
              "  ⎥\n",
              "  ⎥\n",
              "  ⎦"
            ],
            "text/latex": "$\\displaystyle \\left[\\begin{array}{ccccccccccccc}0 & vec_{1} \\cdot \\left(2 rot_{w} rot_{y} + 2 rot_{x} rot_{z}\\right) + vec_{2} \\cdot \\left(2 rot_{w} rot_{z} - 2 rot_{x} rot_{y}\\right) & vec_{0} \\left(- 2 rot_{w} rot_{y} - 2 rot_{x} rot_{z}\\right) + vec_{2} \\left(rot_{w}^{2} + rot_{x}^{2} - rot_{y}^{2} - rot_{z}^{2}\\right) & vec_{0} \\left(- 2 rot_{w} rot_{z} + 2 rot_{x} rot_{y}\\right) + vec_{1} \\left(- rot_{w}^{2} - rot_{x}^{2} + rot_{y}^{2} + rot_{z}^{2}\\right) & 0 & 0 & 0 & 0 & 0 & 0 & - 2 rot_{y}^{2} - 2 rot_{z}^{2} + 1 & - 2 rot_{w} rot_{z} + 2 rot_{x} rot_{y} & 2 rot_{w} rot_{y} + 2 rot_{x} rot_{z}\\\\0 & vec_{1} \\left(- 2 rot_{w} rot_{x} + 2 rot_{y} rot_{z}\\right) + vec_{2} \\left(- rot_{w}^{2} + rot_{x}^{2} - rot_{y}^{2} + rot_{z}^{2}\\right) & vec_{0} \\cdot \\left(2 rot_{w} rot_{x} - 2 rot_{y} rot_{z}\\right) + vec_{2} \\cdot \\left(2 rot_{w} rot_{z} + 2 rot_{x} rot_{y}\\right) & vec_{0} \\left(rot_{w}^{2} - rot_{x}^{2} + rot_{y}^{2} - rot_{z}^{2}\\right) + vec_{1} \\left(- 2 rot_{w} rot_{z} - 2 rot_{x} rot_{y}\\right) & 0 & 0 & 0 & 0 & 0 & 0 & 2 rot_{w} rot_{z} + 2 rot_{x} rot_{y} & - 2 rot_{x}^{2} - 2 rot_{z}^{2} + 1 & - 2 rot_{w} rot_{x} + 2 rot_{y} rot_{z}\\\\0 & vec_{1} \\left(rot_{w}^{2} - rot_{x}^{2} - rot_{y}^{2} + rot_{z}^{2}\\right) + vec_{2} \\left(- 2 rot_{w} rot_{x} - 2 rot_{y} rot_{z}\\right) & vec_{0} \\left(- rot_{w}^{2} + rot_{x}^{2} + rot_{y}^{2} - rot_{z}^{2}\\right) + vec_{2} \\left(- 2 rot_{w} rot_{y} + 2 rot_{x} rot_{z}\\right) & vec_{0} \\cdot \\left(2 rot_{w} rot_{x} + 2 rot_{y} rot_{z}\\right) + vec_{1} \\cdot \\left(2 rot_{w} rot_{y} - 2 rot_{x} rot_{z}\\right) & 0 & 0 & 0 & 0 & 0 & 0 & - 2 rot_{w} rot_{y} + 2 rot_{x} rot_{z} & 2 rot_{w} rot_{x} + 2 rot_{y} rot_{z} & - 2 rot_{x}^{2} - 2 rot_{y}^{2} + 1\\\\0 & 0 & 0 & 0 & vec_{1} \\cdot \\left(2 pose.R_{w} pose.R_{y} + 2 pose.R_{x} pose.R_{z}\\right) + vec_{2} \\cdot \\left(2 pose.R_{w} pose.R_{z} - 2 pose.R_{x} pose.R_{y}\\right) & vec_{0} \\left(- 2 pose.R_{w} pose.R_{y} - 2 pose.R_{x} pose.R_{z}\\right) + vec_{2} \\left(pose.R_{w}^{2} + pose.R_{x}^{2} - pose.R_{y}^{2} - pose.R_{z}^{2}\\right) & vec_{0} \\left(- 2 pose.R_{w} pose.R_{z} + 2 pose.R_{x} pose.R_{y}\\right) + vec_{1} \\left(- pose.R_{w}^{2} - pose.R_{x}^{2} + pose.R_{y}^{2} + pose.R_{z}^{2}\\right) & 1 & 0 & 0 & - 2 pose.R_{y}^{2} - 2 pose.R_{z}^{2} + 1 & - 2 pose.R_{w} pose.R_{z} + 2 pose.R_{x} pose.R_{y} & 2 pose.R_{w} pose.R_{y} + 2 pose.R_{x} pose.R_{z}\\\\0 & 0 & 0 & 0 & vec_{1} \\left(- 2 pose.R_{w} pose.R_{x} + 2 pose.R_{y} pose.R_{z}\\right) + vec_{2} \\left(- pose.R_{w}^{2} + pose.R_{x}^{2} - pose.R_{y}^{2} + pose.R_{z}^{2}\\right) & vec_{0} \\cdot \\left(2 pose.R_{w} pose.R_{x} - 2 pose.R_{y} pose.R_{z}\\right) + vec_{2} \\cdot \\left(2 pose.R_{w} pose.R_{z} + 2 pose.R_{x} pose.R_{y}\\right) & vec_{0} \\left(pose.R_{w}^{2} - pose.R_{x}^{2} + pose.R_{y}^{2} - pose.R_{z}^{2}\\right) + vec_{1} \\left(- 2 pose.R_{w} pose.R_{z} - 2 pose.R_{x} pose.R_{y}\\right) & 0 & 1 & 0 & 2 pose.R_{w} pose.R_{z} + 2 pose.R_{x} pose.R_{y} & - 2 pose.R_{x}^{2} - 2 pose.R_{z}^{2} + 1 & - 2 pose.R_{w} pose.R_{x} + 2 pose.R_{y} pose.R_{z}\\\\0 & 0 & 0 & 0 & vec_{1} \\left(pose.R_{w}^{2} - pose.R_{x}^{2} - pose.R_{y}^{2} + pose.R_{z}^{2}\\right) + vec_{2} \\left(- 2 pose.R_{w} pose.R_{x} - 2 pose.R_{y} pose.R_{z}\\right) & vec_{0} \\left(- pose.R_{w}^{2} + pose.R_{x}^{2} + pose.R_{y}^{2} - pose.R_{z}^{2}\\right) + vec_{2} \\left(- 2 pose.R_{w} pose.R_{y} + 2 pose.R_{x} pose.R_{z}\\right) & vec_{0} \\cdot \\left(2 pose.R_{w} pose.R_{x} + 2 pose.R_{y} pose.R_{z}\\right) + vec_{1} \\cdot \\left(2 pose.R_{w} pose.R_{y} - 2 pose.R_{x} pose.R_{z}\\right) & 0 & 0 & 1 & - 2 pose.R_{w} pose.R_{y} + 2 pose.R_{x} pose.R_{z} & 2 pose.R_{w} pose.R_{x} + 2 pose.R_{y} pose.R_{z} & - 2 pose.R_{x}^{2} - 2 pose.R_{y}^{2} + 1\\end{array}\\right]$"
          },
          "metadata": {}
        }
      ]
    }
  ]
}