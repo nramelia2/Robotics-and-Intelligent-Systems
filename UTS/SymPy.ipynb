{
  "nbformat": 4,
  "nbformat_minor": 0,
  "metadata": {
    "colab": {
      "provenance": []
    },
    "kernelspec": {
      "name": "python3",
      "display_name": "Python 3"
    },
    "language_info": {
      "name": "python"
    }
  },
  "cells": [
    {
      "cell_type": "code",
      "source": [
        "pip install symforce"
      ],
      "metadata": {
        "colab": {
          "base_uri": "https://localhost:8080/"
        },
        "id": "NjpheJcWXZl-",
        "outputId": "8d4e4fe0-fdd3-4e32-ce32-5a3729adce67"
      },
      "execution_count": 7,
      "outputs": [
        {
          "output_type": "stream",
          "name": "stdout",
          "text": [
            "Looking in indexes: https://pypi.org/simple, https://us-python.pkg.dev/colab-wheels/public/simple/\n",
            "Requirement already satisfied: symforce in /usr/local/lib/python3.8/dist-packages (0.7.0)\n",
            "Requirement already satisfied: symforce-sym==0.7.0 in /usr/local/lib/python3.8/dist-packages (from symforce) (0.7.0)\n",
            "Requirement already satisfied: skymarshal==0.7.0 in /usr/local/lib/python3.8/dist-packages (from symforce) (0.7.0)\n",
            "Requirement already satisfied: clang-format in /usr/local/lib/python3.8/dist-packages (from symforce) (15.0.4)\n",
            "Requirement already satisfied: black in /usr/local/lib/python3.8/dist-packages (from symforce) (22.10.0)\n",
            "Requirement already satisfied: graphviz in /usr/local/lib/python3.8/dist-packages (from symforce) (0.10.1)\n",
            "Requirement already satisfied: jinja2 in /usr/local/lib/python3.8/dist-packages (from symforce) (2.11.3)\n",
            "Requirement already satisfied: sympy~=1.11.1 in /usr/local/lib/python3.8/dist-packages (from symforce) (1.11.1)\n",
            "Requirement already satisfied: scipy in /usr/local/lib/python3.8/dist-packages (from symforce) (1.7.3)\n",
            "Requirement already satisfied: numpy in /usr/local/lib/python3.8/dist-packages (from symforce) (1.21.6)\n",
            "Requirement already satisfied: argh in /usr/local/lib/python3.8/dist-packages (from skymarshal==0.7.0->symforce) (0.26.2)\n",
            "Requirement already satisfied: ply in /usr/local/lib/python3.8/dist-packages (from skymarshal==0.7.0->symforce) (3.11)\n",
            "Requirement already satisfied: six in /usr/local/lib/python3.8/dist-packages (from skymarshal==0.7.0->symforce) (1.15.0)\n",
            "Requirement already satisfied: mpmath>=0.19 in /usr/local/lib/python3.8/dist-packages (from sympy~=1.11.1->symforce) (1.2.1)\n",
            "Requirement already satisfied: platformdirs>=2 in /usr/local/lib/python3.8/dist-packages (from black->symforce) (2.5.4)\n",
            "Requirement already satisfied: pathspec>=0.9.0 in /usr/local/lib/python3.8/dist-packages (from black->symforce) (0.10.2)\n",
            "Requirement already satisfied: click>=8.0.0 in /usr/local/lib/python3.8/dist-packages (from black->symforce) (8.1.3)\n",
            "Requirement already satisfied: tomli>=1.1.0 in /usr/local/lib/python3.8/dist-packages (from black->symforce) (2.0.1)\n",
            "Requirement already satisfied: typing-extensions>=3.10.0.0 in /usr/local/lib/python3.8/dist-packages (from black->symforce) (4.1.1)\n",
            "Requirement already satisfied: mypy-extensions>=0.4.3 in /usr/local/lib/python3.8/dist-packages (from black->symforce) (0.4.3)\n",
            "Requirement already satisfied: MarkupSafe>=0.23 in /usr/local/lib/python3.8/dist-packages (from jinja2->symforce) (2.0.1)\n"
          ]
        }
      ]
    },
    {
      "cell_type": "code",
      "execution_count": 8,
      "metadata": {
        "id": "cmvOSD9yW2Uf"
      },
      "outputs": [],
      "source": [
        "# Configuration (optional)\n",
        "import symforce\n",
        "\n",
        "symforce.set_symbolic_api(\"sympy\") # The sympy API is the default and pure python.\n",
        "symforce.set_log_level(\"warning\")\n",
        "# symforce.notebook_util - helpers for interactive use in a Jupyter notebook with an IPython kernel.\n",
        "# display - display the given expressions in latex, or print if not an expression.\n",
        "# print_expression_tree - print a SymPy expression tree, ignoring node attributes.\n",
        "from symforce.notebook_util import display, print_expression_tree"
      ]
    },
    {
      "cell_type": "code",
      "source": [
        "# algebraic symbols.\n",
        "import symforce.symbolic as sf\n",
        "\n",
        "x = sf.Symbol(\"x\")\n",
        "y = sf.Symbol(\"y\")"
      ],
      "metadata": {
        "id": "9tgcF1iBX1lm"
      },
      "execution_count": 9,
      "outputs": []
    },
    {
      "cell_type": "code",
      "source": [
        "# build a symbolic expression.\n",
        "expr = x ** 2 + sf.sin(y) / x ** 2\n",
        "display(expr)"
      ],
      "metadata": {
        "colab": {
          "base_uri": "https://localhost:8080/",
          "height": 53
        },
        "id": "4XPZyQI9X3s7",
        "outputId": "32ec806c-ad84-4da6-f421-11f0019e67b6"
      },
      "execution_count": 10,
      "outputs": [
        {
          "output_type": "display_data",
          "data": {
            "text/plain": [
              " 2   sin(y)\n",
              "x  + ──────\n",
              "        2  \n",
              "       x   "
            ],
            "image/png": "[encoded data removed]",
            "text/latex": "$\\displaystyle x^{2} + \\frac{\\sin{\\left(y \\right)}}{x^{2}}$"
          },
          "metadata": {}
        }
      ]
    },
    {
      "cell_type": "code",
      "source": [
        "# this expression object is a tree of operations and arguments.\n",
        "print_expression_tree(expr)"
      ],
      "metadata": {
        "colab": {
          "base_uri": "https://localhost:8080/"
        },
        "id": "ypAt0ZNCX6JP",
        "outputId": "185d7efc-70b9-4e6a-945d-e3e9b57895fc"
      },
      "execution_count": 11,
      "outputs": [
        {
          "output_type": "stream",
          "name": "stdout",
          "text": [
            "Add: x**2 + sin(y)/x**2\n",
            "+-Pow: x**2\n",
            "| +-Symbol: x\n",
            "| +-Integer: 2\n",
            "+-Mul: sin(y)/x**2\n",
            "  +-Pow: x**(-2)\n",
            "  | +-Symbol: x\n",
            "  | +-Integer: -2\n",
            "  +-sin: sin(y)\n",
            "    +-Symbol: y\n"
          ]
        }
      ]
    },
    {
      "cell_type": "code",
      "source": [
        "# we can evaluate this numerically by plugging in values.\n",
        "display(expr.subs({x: 1.2, y: 0.4}))"
      ],
      "metadata": {
        "colab": {
          "base_uri": "https://localhost:8080/",
          "height": 37
        },
        "id": "F6Bst34HYB-7",
        "outputId": "4cdb28d1-45d6-4747-aa9f-d68e1b239397"
      },
      "execution_count": 12,
      "outputs": [
        {
          "output_type": "display_data",
          "data": {
            "text/plain": [
              "1.71042940438101"
            ],
            "image/png": "[encoded data removed]",
            "text/latex": "$\\displaystyle 1.71042940438101$"
          },
          "metadata": {}
        }
      ]
    },
    {
      "cell_type": "code",
      "source": [
        "# we can perform symbolic manipulation like differentiation, integration, simplifiation, etc..\n",
        "display(expr.diff(y))"
      ],
      "metadata": {
        "colab": {
          "base_uri": "https://localhost:8080/",
          "height": 53
        },
        "id": "A-8vC2uPYEuD",
        "outputId": "bf255e64-4531-4070-f928-e93ef570b461"
      },
      "execution_count": 13,
      "outputs": [
        {
          "output_type": "display_data",
          "data": {
            "text/plain": [
              "cos(y)\n",
              "──────\n",
              "   2  \n",
              "  x   "
            ],
            "image/png": "[encoded data removed]",
            "text/latex": "$\\displaystyle \\frac{\\cos{\\left(y \\right)}}{x^{2}}$"
          },
          "metadata": {}
        }
      ]
    },
    {
      "cell_type": "code",
      "source": [
        "display(sf.series(expr, y))"
      ],
      "metadata": {
        "colab": {
          "base_uri": "https://localhost:8080/",
          "height": 54
        },
        "id": "BXOTJ0-JYHvX",
        "outputId": "d74af877-f36c-4920-c26e-2a406caa050b"
      },
      "execution_count": 14,
      "outputs": [
        {
          "output_type": "display_data",
          "data": {
            "text/plain": [
              "       3       5               \n",
              "y     y       y       2    ⎛ 6⎞\n",
              "── - ──── + ────── + x  + O⎝y ⎠\n",
              " 2      2        2             \n",
              "x    6⋅x    120⋅x              "
            ],
            "image/png": "[encoded data removed]",
            "text/latex": "$\\displaystyle \\frac{y}{x^{2}} - \\frac{y^{3}}{6 x^{2}} + \\frac{y^{5}}{120 x^{2}} + x^{2} + O\\left(y^{6}\\right)$"
          },
          "metadata": {}
        }
      ]
    }
  ]
}